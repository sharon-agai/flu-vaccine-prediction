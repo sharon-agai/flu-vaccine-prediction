{
  "nbformat": 4,
  "nbformat_minor": 0,
  "metadata": {
    "colab": {
      "name": "flu_main.ipynb",
      "provenance": [],
      "collapsed_sections": [
        "TpMhlHJCTEfH"
      ],
      "authorship_tag": "ABX9TyMoCohj4XR6bLAB+h4Cm0sA"
    },
    "kernelspec": {
      "name": "python3",
      "display_name": "Python 3"
    }
  },
  "cells": [
    {
      "cell_type": "markdown",
      "metadata": {
        "id": "OYFeYrvNc88-",
        "colab_type": "text"
      },
      "source": [
        "## Setup"
      ]
    },
    {
      "cell_type": "code",
      "metadata": {
        "id": "Ocbil8edbhl6",
        "colab_type": "code",
        "colab": {
          "base_uri": "https://localhost:8080/",
          "height": 193
        },
        "outputId": "450a4722-017b-4ede-c13a-d69f270100a4"
      },
      "source": [
        "! pip install import_ipynb\n",
        "import import_ipynb\n",
        "import numpy as np\n",
        "import pandas as pd\n",
        "from sklearn.model_selection import train_test_split\n",
        "from sklearn.preprocessing import MinMaxScaler\n",
        "\n",
        "%matplotlib inline    "
      ],
      "execution_count": null,
      "outputs": [
        {
          "output_type": "stream",
          "text": [
            "Collecting import_ipynb\n",
            "  Downloading https://files.pythonhosted.org/packages/63/35/495e0021bfdcc924c7cdec4e9fbb87c88dd03b9b9b22419444dc370c8a45/import-ipynb-0.1.3.tar.gz\n",
            "Building wheels for collected packages: import-ipynb\n",
            "  Building wheel for import-ipynb (setup.py) ... \u001b[?25l\u001b[?25hdone\n",
            "  Created wheel for import-ipynb: filename=import_ipynb-0.1.3-cp36-none-any.whl size=2976 sha256=2dba391cec0497df44db645731c20e7ee3b34b1fee5228c5c24d41f2b778eefe\n",
            "  Stored in directory: /root/.cache/pip/wheels/b4/7b/e9/a3a6e496115dffdb4e3085d0ae39ffe8a814eacc44bbf494b5\n",
            "Successfully built import-ipynb\n",
            "Installing collected packages: import-ipynb\n",
            "Successfully installed import-ipynb-0.1.3\n"
          ],
          "name": "stdout"
        }
      ]
    },
    {
      "cell_type": "code",
      "metadata": {
        "id": "4DRToiBFZBZT",
        "colab_type": "code",
        "colab": {
          "base_uri": "https://localhost:8080/",
          "height": 124
        },
        "outputId": "18c766a2-94a9-4ac2-8312-fcab73cc7c8f"
      },
      "source": [
        "# mount google drive \n",
        "from google.colab import drive\n",
        "drive.mount('/content/drive', force_remount=True)"
      ],
      "execution_count": null,
      "outputs": [
        {
          "output_type": "stream",
          "text": [
            "Go to this URL in a browser: https://accounts.google.com/o/oauth2/auth?client_id=947318989803-6bn6qk8qdgf4n4g3pfee6491hc0brc4i.apps.googleusercontent.com&redirect_uri=urn%3aietf%3awg%3aoauth%3a2.0%3aoob&response_type=code&scope=email%20https%3a%2f%2fwww.googleapis.com%2fauth%2fdocs.test%20https%3a%2f%2fwww.googleapis.com%2fauth%2fdrive%20https%3a%2f%2fwww.googleapis.com%2fauth%2fdrive.photos.readonly%20https%3a%2f%2fwww.googleapis.com%2fauth%2fpeopleapi.readonly\n",
            "\n",
            "Enter your authorization code:\n",
            "··········\n",
            "Mounted at /content/drive\n"
          ],
          "name": "stdout"
        }
      ]
    },
    {
      "cell_type": "code",
      "metadata": {
        "id": "--nHLr1y_r2s",
        "colab_type": "code",
        "colab": {
          "base_uri": "https://localhost:8080/",
          "height": 193
        },
        "outputId": "57f1b822-b827-4327-e269-392402694aaf"
      },
      "source": [
        "%cd '/content/drive/My Drive/Colab Notebooks/flu_predictions/curr'\n",
        "import flu_preprocessing as prep\n",
        "%cd '/content/drive/'"
      ],
      "execution_count": null,
      "outputs": [
        {
          "output_type": "stream",
          "text": [
            "/content/drive/My Drive/Colab Notebooks/flu_predictions/curr\n",
            "importing Jupyter notebook from flu_preprocessing.ipynb\n"
          ],
          "name": "stdout"
        },
        {
          "output_type": "stream",
          "text": [
            "/usr/local/lib/python3.6/dist-packages/sklearn/externals/six.py:31: FutureWarning: The module is deprecated in version 0.21 and will be removed in version 0.23 since we've dropped support for Python 2.7. Please rely on the official version of six (https://pypi.org/project/six/).\n",
            "  \"(https://pypi.org/project/six/).\", FutureWarning)\n",
            "/usr/local/lib/python3.6/dist-packages/sklearn/utils/deprecation.py:144: FutureWarning: The sklearn.neighbors.base module is  deprecated in version 0.22 and will be removed in version 0.24. The corresponding classes / functions should instead be imported from sklearn.neighbors. Anything that cannot be imported from sklearn.neighbors is now part of the private API.\n",
            "  warnings.warn(message, FutureWarning)\n",
            "/usr/local/lib/python3.6/dist-packages/statsmodels/tools/_testing.py:19: FutureWarning: pandas.util.testing is deprecated. Use the functions in the public API at pandas.testing instead.\n",
            "  import pandas.util.testing as tm\n"
          ],
          "name": "stderr"
        },
        {
          "output_type": "stream",
          "text": [
            "/content/drive\n"
          ],
          "name": "stdout"
        }
      ]
    },
    {
      "cell_type": "code",
      "metadata": {
        "id": "wJS1UNTsb5pB",
        "colab_type": "code",
        "colab": {}
      },
      "source": [
        "# get data from google drive and read in as csv\n",
        "train_features = pd.read_csv('/content/drive/My Drive/sideprojects/flu_predictions/training_set_features.csv')\n",
        "train_labels = pd.read_csv('/content/drive/My Drive/sideprojects/flu_predictions/training_set_labels.csv')\n",
        "test_features = pd.read_csv('/content/drive/My Drive/sideprojects/flu_predictions/test_set_features.csv')"
      ],
      "execution_count": null,
      "outputs": []
    },
    {
      "cell_type": "markdown",
      "metadata": {
        "id": "tR2mD1EyYY8O",
        "colab_type": "text"
      },
      "source": [
        "## Preprocessing"
      ]
    },
    {
      "cell_type": "code",
      "metadata": {
        "id": "DgmlQldBcVYU",
        "colab_type": "code",
        "colab": {}
      },
      "source": [
        "# combine train_features and train_labels for preprocessing - drop extra respondent_id columns\n",
        "train = pd.concat([train_features, train_labels.iloc[:,1:]], axis=1)"
      ],
      "execution_count": null,
      "outputs": []
    },
    {
      "cell_type": "code",
      "metadata": {
        "id": "17WhA-vaypq3",
        "colab_type": "code",
        "colab": {}
      },
      "source": [
        "# print('TRAINING DATA SUMMARY')\n",
        "# train.info()\n",
        "# print('TEST DATA SUMMARY')\n",
        "# test_features.info()"
      ],
      "execution_count": null,
      "outputs": []
    },
    {
      "cell_type": "markdown",
      "metadata": {
        "id": "aBJQ3B7neTH3",
        "colab_type": "text"
      },
      "source": [
        "### Basic cleaning"
      ]
    },
    {
      "cell_type": "code",
      "metadata": {
        "id": "4RLKfjg9cpNE",
        "colab_type": "code",
        "colab": {}
      },
      "source": [
        "# count null values \n",
        "# prep.nullFinder(train, 'TRAINING')\n",
        "# prep.nullFinder(test_features, 'TEST')\n",
        "\n",
        "# reorganize employment_industry, employment_occupation\n",
        "# drop health insurance - half of its values are missing\n",
        "prep.organize(train)\n",
        "prep.organize(test_features)"
      ],
      "execution_count": null,
      "outputs": []
    },
    {
      "cell_type": "code",
      "metadata": {
        "id": "V-Dq-c8Ld1MP",
        "colab_type": "code",
        "colab": {}
      },
      "source": [
        "# # recheck the number of null values in employment_industry and employment_occupation - did manipulating these columns\n",
        "# # based on employment_status help? \n",
        "\n",
        "# print('employment_industry nulls (TRAINING): {}'.format(\n",
        "#     len(train['employment_industry']) - train['employment_industry'].count()))\n",
        "# print('employment_occupation nulls (TRAINING): {}'.format(\n",
        "#     len(train['employment_industry']) - train['employment_industry'].count()))\n",
        "# print('employment_industry nulls (TEST): {}'.format(\n",
        "#     len(test_features['employment_industry']) - test_features['employment_industry'].count()))\n",
        "# print('employment_occupation nulls (TEST): {}'.format(\n",
        "#     len(test_features['employment_industry']) - test_features['employment_industry'].count()))"
      ],
      "execution_count": null,
      "outputs": []
    },
    {
      "cell_type": "code",
      "metadata": {
        "id": "ZWKbte9ld5Bs",
        "colab_type": "code",
        "colab": {}
      },
      "source": [
        "# drop duplicates, drop respondent_id because that won't help us classify this data\n",
        "train.drop(['respondent_id'], axis=1, inplace=True)\n",
        "test_features.drop(['respondent_id'], axis=1, inplace=True)"
      ],
      "execution_count": null,
      "outputs": []
    },
    {
      "cell_type": "code",
      "metadata": {
        "id": "r0gWg6_NpULM",
        "colab_type": "code",
        "colab": {}
      },
      "source": [
        "# drop rows with null values\n",
        "train.dropna(inplace=True)\n",
        "train.reset_index(inplace=True, drop=True)\n",
        "\n",
        "test_features.dropna(inplace=True)\n",
        "test_features.reset_index(inplace=True, drop=True)"
      ],
      "execution_count": null,
      "outputs": []
    },
    {
      "cell_type": "markdown",
      "metadata": {
        "id": "aQhTQEWj3uv1",
        "colab_type": "text"
      },
      "source": [
        "### Column engineering"
      ]
    },
    {
      "cell_type": "markdown",
      "metadata": {
        "id": "dzO3jWHo0SIW",
        "colab_type": "text"
      },
      "source": [
        "| feature | new level | new level | new level |\n",
        "| ------- | ------ | ------ | ------| \n",
        "| h1n1_concern | [(0,1) to become] 0 = less concern <br> | [(2,3) to become] 1 = more concern<br> | NONE | \n",
        "| household_adults (will be renamed: live_alone) | [(1,2,3) to become] 0 = does not live alone | [(0) to become] 1 = lives alone | NONE | \n",
        "| household_children (will be renamed: have_children) | [(0) to become] 0 = no children | [(1,2,3) to become] 1 = children | NONE | \n",
        "| employment_status | [(['Not in Labor Force', 'Unemployed']) to become] 0 = not working | [(['Employed']) to become] 1 = working | NONE |\n",
        "| education | [(['< 12 Years', '12 Years']) to become] 0 = high school or less | [(['Some College']) to become] 1 = some college | [(['College Graduate']) to become] 2 = college grad |\n",
        "| opinion_h1n1_vacc_effective | [(1,2) to become] 0 = not effective | [(3) to become] 1 = don't know | [(4,5) to become] 2 = effective | \n",
        "| opinion_seas_vacc_effective | [(1,2) to become] 0 = not effective | [(3) to become] 1 = don't know | [(4,5) to become] 2 = effective | \n",
        "|opinion_h1n1_sick_from_vacc | DROP 3 (DON'T KNOW) - too small, creates noise | [(1,2) to become] 0 = not worried | [(4,5) to become] 1 = worried |\n",
        "| opinion_seas_sick_from_vacc  | DROP 3 (DON'T KNOW) - too small, creates noise | [(1,2) to become] 0 = not worried | [(4,5) to become] 1 = worried |\n",
        "| opinion_h1n1_risk | DROP 3 (DON'T KNOW) - too small, creates noise | [(1,2) to become] 0 = low | [(4,5) to become] 1 = high |\n",
        "| opinion_seas_risk | DROP 3 (DON'T KNOW) - too small, creates noise | [(1,2) to become] 0 = low | [(4,5) to become] 1 = high |"
      ]
    },
    {
      "cell_type": "code",
      "metadata": {
        "id": "MA9B6adz-kHO",
        "colab_type": "code",
        "colab": {}
      },
      "source": [
        "# transforming columns based on the specifications above\n",
        "train = prep.columnTransformer(train)\n",
        "test_features = prep.columnTransformer(test_features)"
      ],
      "execution_count": null,
      "outputs": []
    },
    {
      "cell_type": "markdown",
      "metadata": {
        "id": "8QudbMdDBy67",
        "colab_type": "text"
      },
      "source": [
        "### Encoding features\n",
        "| Feature type | Feature description | Associated features | Action |\n",
        "| ------------ | ------------------- | ------------------- | ------ |\n",
        "| binary | 2 levels [0,1] - <br> described as no/yes, low/high, etc | - 'h1n1_concern' <br> - 'behavioral_avoidance' <br> - 'behavioral_wash_hands' <br> - 'behavioral_large_gatherings' <br>- 'behavioral_outside_home' <br> - 'behavioral_touch_face' <br> - 'doctor_hecc_h1n1' <br> - 'doctor_recc_seasonal' <br> - 'chronic_med_condition' <br> - 'health_worker' <br>- 'opinion_h1n1_risk' <br>- 'opinion_h1n1_sick_from_vacc' <br>- 'opinion_seas_risk' <br>- 'opinion_seas_sick_from_vacc' <br> - employment_status <br>- 'live_alone' <br> - 'have_children' <br>- 'education' <br> - 'behavioral_antiviral_meds' <br> - 'behavioral_face_mask' <br> - 'child_under_6_months' | No action - 2 levels each (0,1) |\n",
        "| multiple | >2 levels [0,1,2,n...] | - 'opinion_h1n1_vacc_effective' <br>- 'opinion_seas_vacc_effective' <br> - 'h1n1_knowledge' | No action - 3 levels each | \n",
        "| text | levels are strings | - 'age_group' <br>- 'sex'<br>- 'income_poverty'<br>- 'rent_or_own'<br>- 'hhs_geo_region'<br>- 'census_msa'<br>- 'race'<br>- 'employment_industry'<br>- 'employment_occupation' <br>- marital_status | - census_msa and income_poverty to be manually ordinally encoded <br> - age_group to be ordinally encoded <br> - hhs_geo_region, race, employment_industry, employment_occupation <br>&nbsp; to be feature hash encoded OR binary encoded<br> - sex, marital_status, and rent_or_own to be one hot encoded (drop_first=True) | \n"
      ]
    },
    {
      "cell_type": "code",
      "metadata": {
        "id": "pZ-LF-YknSun",
        "colab_type": "code",
        "colab": {}
      },
      "source": [
        "# drop duplicates\n",
        "train.drop_duplicates(ignore_index=True, inplace=True)\n",
        "test_features.drop_duplicates(ignore_index=True, inplace=True)"
      ],
      "execution_count": null,
      "outputs": []
    },
    {
      "cell_type": "code",
      "metadata": {
        "id": "xhXWj-gCBmqI",
        "colab_type": "code",
        "colab": {}
      },
      "source": [
        "# split the features and labels again, before encoding\n",
        "train = train.reset_index(drop=True)\n",
        "\n",
        "train_features = train.iloc[:,:-2]\n",
        "train_labels = train.iloc[:,-2:]\n",
        "\n",
        "test_features = test_features\n",
        "\n",
        "h1n1_labels = train_labels['h1n1_vaccine']\n",
        "szn_labels = train_labels['seasonal_vaccine']"
      ],
      "execution_count": null,
      "outputs": []
    },
    {
      "cell_type": "code",
      "metadata": {
        "id": "2mn__XpaJTNl",
        "colab_type": "code",
        "colab": {}
      },
      "source": [
        "train_features, test_features = prep.encoder(train_features, test_features, 'binary')"
      ],
      "execution_count": null,
      "outputs": []
    },
    {
      "cell_type": "markdown",
      "metadata": {
        "id": "glHT8JCAUEgS",
        "colab_type": "text"
      },
      "source": [
        "## Feature selection"
      ]
    },
    {
      "cell_type": "markdown",
      "metadata": {
        "id": "0ZOKHTOMjkWo",
        "colab_type": "text"
      },
      "source": [
        "#### Feature selections using VIF (ie evaluating multicollinearity)"
      ]
    },
    {
      "cell_type": "code",
      "metadata": {
        "id": "ZfULTFDpH79_",
        "colab_type": "code",
        "colab": {}
      },
      "source": [
        "# turn all encoded features into pd.categorical type \n",
        "for t in list(train_features.columns):\n",
        "  train_features[t] = pd.Categorical(train_features[t])\n",
        "for t in list(test_features.columns):\n",
        "  test_features[t] = pd.Categorical(test_features[t])"
      ],
      "execution_count": null,
      "outputs": []
    },
    {
      "cell_type": "code",
      "metadata": {
        "id": "XA8Ks9_vK-Kq",
        "colab_type": "code",
        "colab": {}
      },
      "source": [
        "# change dataframes to float type \n",
        "train_features = pd.DataFrame(np.array(train_features, dtype=float), columns=train_features.columns)\n",
        "test_features = pd.DataFrame(np.array(test_features, dtype=float), columns=test_features.columns)"
      ],
      "execution_count": null,
      "outputs": []
    },
    {
      "cell_type": "code",
      "metadata": {
        "id": "40tSrn7zjrjv",
        "colab_type": "code",
        "colab": {
          "base_uri": "https://localhost:8080/",
          "height": 52
        },
        "outputId": "712d3e9a-7274-4ea5-fe22-40d098e10f1c"
      },
      "source": [
        "train_vif = prep.checkVIF(train_features)\n",
        "multico_features = list(train_vif[train_vif['VIF Factor']>=10.0]['features'])"
      ],
      "execution_count": null,
      "outputs": [
        {
          "output_type": "stream",
          "text": [
            "/usr/local/lib/python3.6/dist-packages/statsmodels/stats/outliers_influence.py:185: RuntimeWarning: divide by zero encountered in double_scalars\n",
            "  vif = 1. / (1. - r_squared_i)\n"
          ],
          "name": "stderr"
        }
      ]
    },
    {
      "cell_type": "code",
      "metadata": {
        "id": "JRWqu5lBSz_V",
        "colab_type": "code",
        "colab": {}
      },
      "source": [
        "train_features = train_features.drop(multico_features, axis=1)\n",
        "test_features = test_features.drop(multico_features, axis=1)"
      ],
      "execution_count": null,
      "outputs": []
    },
    {
      "cell_type": "markdown",
      "metadata": {
        "id": "Y9LtvS57aNqz",
        "colab_type": "text"
      },
      "source": [
        "#### Feature selection using correlations\n"
      ]
    },
    {
      "cell_type": "code",
      "metadata": {
        "id": "PmoCwVncyprc",
        "colab_type": "code",
        "colab": {}
      },
      "source": [
        "# get correlation matrix \n",
        "trainfCorrs = prep.cramersV(train_features)\n",
        "\n",
        "# create correlation heatmap\n",
        "# prep.corrPlot(trainfCorrs, 'train data')\n",
        "\n",
        "# correlation analysis\n",
        "train_corrAnalysis, corr_drop = prep.corrAnalysis(trainfCorrs, 0.6)"
      ],
      "execution_count": null,
      "outputs": []
    },
    {
      "cell_type": "code",
      "metadata": {
        "id": "QCAy5z3xkv5l",
        "colab_type": "code",
        "colab": {
          "base_uri": "https://localhost:8080/",
          "height": 79
        },
        "outputId": "79d9c54b-b3c1-4b1d-905a-d3cb046c60f4"
      },
      "source": [
        "train_corrAnalysis"
      ],
      "execution_count": null,
      "outputs": [
        {
          "output_type": "execute_result",
          "data": {
            "text/html": [
              "<div>\n",
              "<style scoped>\n",
              "    .dataframe tbody tr th:only-of-type {\n",
              "        vertical-align: middle;\n",
              "    }\n",
              "\n",
              "    .dataframe tbody tr th {\n",
              "        vertical-align: top;\n",
              "    }\n",
              "\n",
              "    .dataframe thead th {\n",
              "        text-align: right;\n",
              "    }\n",
              "</style>\n",
              "<table border=\"1\" class=\"dataframe\">\n",
              "  <thead>\n",
              "    <tr style=\"text-align: right;\">\n",
              "      <th></th>\n",
              "      <th>compared_feature1</th>\n",
              "      <th>compared_feature2</th>\n",
              "      <th>feature_to_drop</th>\n",
              "      <th>cramersV_for_featuretoDrop</th>\n",
              "    </tr>\n",
              "  </thead>\n",
              "  <tbody>\n",
              "    <tr>\n",
              "      <th>0</th>\n",
              "      <td>marital_status</td>\n",
              "      <td>lives_alone</td>\n",
              "      <td>marital_status</td>\n",
              "      <td>0.62</td>\n",
              "    </tr>\n",
              "  </tbody>\n",
              "</table>\n",
              "</div>"
            ],
            "text/plain": [
              "  compared_feature1  ... cramersV_for_featuretoDrop\n",
              "0    marital_status  ...                       0.62\n",
              "\n",
              "[1 rows x 4 columns]"
            ]
          },
          "metadata": {
            "tags": []
          },
          "execution_count": 20
        }
      ]
    },
    {
      "cell_type": "code",
      "metadata": {
        "id": "53nyxiegWZYR",
        "colab_type": "code",
        "colab": {}
      },
      "source": [
        "# Drop the correlated columns we found above \n",
        "train_features = train_features.drop(corr_drop, axis=1)\n",
        "test_features = test_features.drop(corr_drop, axis=1)"
      ],
      "execution_count": null,
      "outputs": []
    },
    {
      "cell_type": "markdown",
      "metadata": {
        "id": "TpWXuQ8gjRNE",
        "colab_type": "text"
      },
      "source": [
        "#### Remove unbalanced features"
      ]
    },
    {
      "cell_type": "code",
      "metadata": {
        "id": "rOM25-nuBTsg",
        "colab_type": "code",
        "colab": {}
      },
      "source": [
        "# imbalanced = []\n",
        "# for df in prep.colVals(train_features, plots=0):\n",
        "#   if any(df.values<=10):\n",
        "#     imbalanced.append(df.name)\n",
        "#     # display(pd.DataFrame(df))"
      ],
      "execution_count": null,
      "outputs": []
    },
    {
      "cell_type": "code",
      "metadata": {
        "id": "LjinqnWaXphU",
        "colab_type": "code",
        "colab": {}
      },
      "source": [
        "# train_features = train_features.drop(imbalanced, axis=1)\n",
        "# test_features = test_features.drop(imbalanced, axis=1)"
      ],
      "execution_count": null,
      "outputs": []
    },
    {
      "cell_type": "markdown",
      "metadata": {
        "id": "y4UnqZfHYGHX",
        "colab_type": "text"
      },
      "source": [
        "#### Feature importances (using Random Forest)"
      ]
    },
    {
      "cell_type": "markdown",
      "metadata": {
        "id": "vAyKuPKhZExy",
        "colab_type": "text"
      },
      "source": [
        "##### train test split"
      ]
    },
    {
      "cell_type": "code",
      "metadata": {
        "id": "Zd04GHIRYJPS",
        "colab_type": "code",
        "colab": {}
      },
      "source": [
        "# make a copy of test_features because we will predict h1n1 and seasonal separately \n",
        "Xh_test = test_features.copy()\n",
        "Xs_test = test_features.copy()"
      ],
      "execution_count": null,
      "outputs": []
    },
    {
      "cell_type": "code",
      "metadata": {
        "id": "FL2jiucJY6DV",
        "colab_type": "code",
        "colab": {}
      },
      "source": [
        "# train validation split\n",
        "Xh_train, Xh_val, yh_train, yh_val = train_test_split(train_features, h1n1_labels, test_size=0.2, random_state=0)\n",
        "Xs_train, Xs_val, ys_train, ys_val = train_test_split(train_features, szn_labels, test_size=0.2, random_state=0)"
      ],
      "execution_count": null,
      "outputs": []
    },
    {
      "cell_type": "markdown",
      "metadata": {
        "id": "BTB_PGYeZIOE",
        "colab_type": "text"
      },
      "source": [
        "##### implementing random forest"
      ]
    },
    {
      "cell_type": "code",
      "metadata": {
        "id": "YGl5ZOn9ayJ_",
        "colab_type": "code",
        "colab": {
          "base_uri": "https://localhost:8080/",
          "height": 107
        },
        "outputId": "bc81efc0-d548-47a0-ed53-7c942cf749f8"
      },
      "source": [
        "# scale and balance \n",
        "Xh_train, yh_train = prep.scale(Xh_train, yh_train)\n",
        "Xh_train, yh_train = prep.balance(Xh_train, yh_train)\n",
        "Xh_val, yh_val = prep.scale(Xh_val, yh_val)\n",
        "Xh_val, yh_val = prep.balance(Xh_val, yh_val)\n",
        "\n",
        "Xs_train, ys_train = prep.scale(Xs_train, ys_train)\n",
        "Xs_val, ys_val = prep.scale(Xs_val, ys_val)"
      ],
      "execution_count": null,
      "outputs": [
        {
          "output_type": "stream",
          "text": [
            "/usr/local/lib/python3.6/dist-packages/sklearn/utils/deprecation.py:87: FutureWarning: Function safe_indexing is deprecated; safe_indexing is deprecated in version 0.22 and will be removed in version 0.24.\n",
            "  warnings.warn(msg, category=FutureWarning)\n",
            "/usr/local/lib/python3.6/dist-packages/sklearn/utils/deprecation.py:87: FutureWarning: Function safe_indexing is deprecated; safe_indexing is deprecated in version 0.22 and will be removed in version 0.24.\n",
            "  warnings.warn(msg, category=FutureWarning)\n"
          ],
          "name": "stderr"
        }
      ]
    },
    {
      "cell_type": "code",
      "metadata": {
        "id": "3-d65-Uia7Ba",
        "colab_type": "code",
        "colab": {}
      },
      "source": [
        "## randomized search setup \n",
        "from sklearn.pipeline import Pipeline\n",
        "from sklearn.ensemble import RandomForestClassifier\n",
        "from sklearn.model_selection import RandomizedSearchCV\n",
        "\n",
        "# create pipeline\n",
        "rf_pipe = Pipeline([('classifier', RandomForestClassifier(random_state=0))])\n",
        "\n",
        "# create search space\n",
        "rf_params1 = [{'classifier__max_depth': [10,20],\n",
        "              'classifier__min_samples_split': [6,10], \n",
        "              'classifier__max_leaf_nodes': [75,150],  \n",
        "              'classifier__n_estimators': [250,750],  \n",
        "              'classifier__max_features': ['sqrt', 0.5, 1.0]}]\n",
        "rf_params2 = [{'classifier__max_depth': [5,10,15,20,25],\n",
        "              'classifier__min_samples_split': [4, 6, 8, 10, 12], \n",
        "              'classifier__max_leaf_nodes': [50, 100, 250, 500, 750],  \n",
        "              'classifier__n_estimators': [100, 250, 500, 750],  \n",
        "              'classifier__max_features': ['sqrt', 0.25, 0.5, 0.75, 1.0],\n",
        "              'classifier__bootstrap': [False, True],}]\n",
        "\n",
        "# create the searcher\n",
        "hrf_search = RandomizedSearchCV(\n",
        "    estimator = rf_pipe,\n",
        "    param_distributions = rf_params1,\n",
        "    n_iter = 10,\n",
        "    scoring=['f1', 'roc_auc'],\n",
        "    refit='roc_auc',\n",
        "    n_jobs=-1,\n",
        "    cv=4,\n",
        "    verbose=2)\n",
        "srf_search = RandomizedSearchCV(\n",
        "    estimator = rf_pipe,\n",
        "    param_distributions = rf_params1,\n",
        "    scoring=['f1', 'roc_auc'],\n",
        "    refit='roc_auc',\n",
        "    n_jobs=-1,\n",
        "    cv=4,\n",
        "    verbose=2)"
      ],
      "execution_count": null,
      "outputs": []
    },
    {
      "cell_type": "code",
      "metadata": {
        "id": "2meVsiTRZHyD",
        "colab_type": "code",
        "colab": {}
      },
      "source": [
        "# fit the searcher object \n",
        "# hrf_search.fit(Xh_train, yh_train)\n",
        "# srf_search.fit(Xs_train, ys_train)\n",
        "\n",
        "\n",
        "# lr_pipe = Pipeline([('classifier', LogisticRegression())])\n",
        "# {'classifier': [LogisticRegression()],\n",
        "#                  'classifier__penalty': ['l1', 'l2'],\n",
        "#                  'classifier__C': np.logspace(0, 4, 10)}\n"
      ],
      "execution_count": null,
      "outputs": []
    },
    {
      "cell_type": "code",
      "metadata": {
        "id": "MIKZlyVkA4vY",
        "colab_type": "code",
        "colab": {}
      },
      "source": [
        "# import torch\n",
        "# model_save_name = 'srf_corrVIF_noimb.pt'\n",
        "# path = F\"/content/drive/My Drive/{model_save_name}\"\n",
        "# torch.save(srf_search, path)\n",
        "\n",
        "import torch\n",
        "hrf_search = torch.load(F\"/content/drive/My Drive/hrf_corrVIF_noimb.pt\")\n",
        "srf_search = torch.load(F\"/content/drive/My Drive/srf_corrVIF_noimb.pt\")"
      ],
      "execution_count": null,
      "outputs": []
    },
    {
      "cell_type": "code",
      "metadata": {
        "id": "KGIwjIvNi71T",
        "colab_type": "code",
        "colab": {
          "base_uri": "https://localhost:8080/",
          "height": 156
        },
        "outputId": "31847324-5438-416b-dcc3-b1871a2197b6"
      },
      "source": [
        "hrf_keys = [h[12:] for h in hrf_search.best_params_.keys()]\n",
        "hrf_bestParams = {hrf_keys[i]: list(hrf_search.best_params_.values())[i] for i in range(len(hrf_keys))} \n",
        "hrf = RandomForestClassifier(random_state=0, **hrf_bestParams)\n",
        "hrf.fit(Xh_train, yh_train)"
      ],
      "execution_count": null,
      "outputs": [
        {
          "output_type": "execute_result",
          "data": {
            "text/plain": [
              "RandomForestClassifier(bootstrap=True, ccp_alpha=0.0, class_weight=None,\n",
              "                       criterion='gini', max_depth=20, max_features='sqrt',\n",
              "                       max_leaf_nodes=150, max_samples=None,\n",
              "                       min_impurity_decrease=0.0, min_impurity_split=None,\n",
              "                       min_samples_leaf=1, min_samples_split=6,\n",
              "                       min_weight_fraction_leaf=0.0, n_estimators=750,\n",
              "                       n_jobs=None, oob_score=False, random_state=0, verbose=0,\n",
              "                       warm_start=False)"
            ]
          },
          "metadata": {
            "tags": []
          },
          "execution_count": 30
        }
      ]
    },
    {
      "cell_type": "code",
      "metadata": {
        "id": "7fG8Rug_cIng",
        "colab_type": "code",
        "colab": {
          "base_uri": "https://localhost:8080/",
          "height": 156
        },
        "outputId": "18a2f8c7-cb5e-41ed-933d-24c3824e7bb7"
      },
      "source": [
        "srf_keys = [s[12:] for s in srf_search.best_params_.keys()]\n",
        "srf_bestParams = {srf_keys[i]: list(srf_search.best_params_.values())[i] for i in range(len(srf_keys))} \n",
        "srf = RandomForestClassifier(random_state=0, **srf_bestParams)\n",
        "srf.fit(Xs_train, ys_train)"
      ],
      "execution_count": null,
      "outputs": [
        {
          "output_type": "execute_result",
          "data": {
            "text/plain": [
              "RandomForestClassifier(bootstrap=True, ccp_alpha=0.0, class_weight=None,\n",
              "                       criterion='gini', max_depth=10, max_features=0.5,\n",
              "                       max_leaf_nodes=150, max_samples=None,\n",
              "                       min_impurity_decrease=0.0, min_impurity_split=None,\n",
              "                       min_samples_leaf=1, min_samples_split=6,\n",
              "                       min_weight_fraction_leaf=0.0, n_estimators=750,\n",
              "                       n_jobs=None, oob_score=False, random_state=0, verbose=0,\n",
              "                       warm_start=False)"
            ]
          },
          "metadata": {
            "tags": []
          },
          "execution_count": 31
        }
      ]
    },
    {
      "cell_type": "code",
      "metadata": {
        "id": "LeYCdsKihEOW",
        "colab_type": "code",
        "colab": {}
      },
      "source": [
        "# feature importances\n",
        "hrf_imp = pd.DataFrame(hrf.feature_importances_, \n",
        "                       index = Xh_train.columns, \n",
        "                       columns=['importance']).sort_values('importance', ascending=False)\n",
        "srf_imp = pd.DataFrame(srf.feature_importances_, \n",
        "                       index = Xs_train.columns, \n",
        "                       columns=['importance']).sort_values('importance', ascending=False)"
      ],
      "execution_count": null,
      "outputs": []
    },
    {
      "cell_type": "code",
      "metadata": {
        "id": "kldgXKFJj6kH",
        "colab_type": "code",
        "colab": {}
      },
      "source": [
        "hrf_feats = list(hrf_imp[hrf_imp['importance']>=0.01].index)\n",
        "srf_feats = list(srf_imp[srf_imp['importance']>=0.005].index)"
      ],
      "execution_count": null,
      "outputs": []
    },
    {
      "cell_type": "code",
      "metadata": {
        "id": "aGdbOBe7j6eX",
        "colab_type": "code",
        "colab": {}
      },
      "source": [
        "Xh_train = Xh_train[hrf_feats]\n",
        "Xh_val = Xh_val[hrf_feats]\n",
        "\n",
        "Xs_train = Xs_train[srf_feats]\n",
        "Xs_val = Xs_val[srf_feats]"
      ],
      "execution_count": null,
      "outputs": []
    },
    {
      "cell_type": "markdown",
      "metadata": {
        "id": "7SuoH1BqLNTr",
        "colab_type": "text"
      },
      "source": [
        "## Modeling"
      ]
    },
    {
      "cell_type": "code",
      "metadata": {
        "id": "-TUW_6hnOuXP",
        "colab_type": "code",
        "colab": {}
      },
      "source": [
        "from sklearn.metrics import roc_auc_score, fbeta_score"
      ],
      "execution_count": null,
      "outputs": []
    },
    {
      "cell_type": "markdown",
      "metadata": {
        "id": "TpMhlHJCTEfH",
        "colab_type": "text"
      },
      "source": [
        "##### rf"
      ]
    },
    {
      "cell_type": "code",
      "metadata": {
        "id": "t3V_uKivMZcl",
        "colab_type": "code",
        "colab": {
          "base_uri": "https://localhost:8080/"
        },
        "outputId": "df27de9f-9ac1-4c4a-fbfe-574bead53c7a"
      },
      "source": [
        "hrf_keys = [h[12:] for h in hrf_search.best_params_.keys()]\n",
        "hrf_bestParams = {hrf_keys[i]: list(hrf_search.best_params_.values())[i] for i in range(len(hrf_keys))} \n",
        "hrf = RandomForestClassifier(random_state=0, **hrf_bestParams)\n",
        "hrf.fit(Xh_train, yh_train)\n",
        "\n",
        "hpred = hrf.predict(Xh_val)\n",
        "print(fbeta_score(yh_val, hpred, 1))\n",
        "print(roc_auc_score(yh_val, hpred))\n",
        "\n",
        "## 0.1\n",
        "# 0.8577068006459716\n",
        "# 0.8611208406304729"
      ],
      "execution_count": null,
      "outputs": [
        {
          "output_type": "stream",
          "text": [
            "0.8577068006459716\n",
            "0.8611208406304729\n"
          ],
          "name": "stdout"
        }
      ]
    },
    {
      "cell_type": "code",
      "metadata": {
        "id": "Yv0IriqiOoMv",
        "colab_type": "code",
        "colab": {
          "base_uri": "https://localhost:8080/"
        },
        "outputId": "8b38d0c9-2381-4278-915c-c5c69c2c8c12"
      },
      "source": [
        "srf_keys = [s[12:] for s in srf_search.best_params_.keys()]\n",
        "srf_bestParams = {srf_keys[i]: list(srf_search.best_params_.values())[i] for i in range(len(srf_keys))} \n",
        "srf = RandomForestClassifier(random_state=0, **srf_bestParams)\n",
        "srf.fit(Xs_train, ys_train)\n",
        "\n",
        "spred = srf.predict(Xs_val)\n",
        "print(fbeta_score(ys_val, spred, 1))\n",
        "print(roc_auc_score(ys_val, spred))\n",
        "\n",
        "## 0.05 \n",
        "# 0.7630090497737556\n",
        "# 0.7754732131753835"
      ],
      "execution_count": null,
      "outputs": [
        {
          "output_type": "stream",
          "text": [
            "0.7630090497737556\n",
            "0.7754732131753835\n"
          ],
          "name": "stdout"
        }
      ]
    },
    {
      "cell_type": "markdown",
      "metadata": {
        "id": "0k-54fesTHpT",
        "colab_type": "text"
      },
      "source": [
        "##### lightgbm"
      ]
    },
    {
      "cell_type": "code",
      "metadata": {
        "id": "EbYGEw0ETLoq",
        "colab_type": "code",
        "colab": {
          "base_uri": "https://localhost:8080/",
          "height": 263
        },
        "outputId": "224ff7b1-3a8c-4c5e-d9e1-9c5dcdc0bbf9"
      },
      "source": [
        "! pip install bayesian-optimization\n",
        "\n",
        "import lightgbm as lgb\n",
        "from bayes_opt import BayesianOptimization"
      ],
      "execution_count": null,
      "outputs": [
        {
          "output_type": "stream",
          "text": [
            "Collecting bayesian-optimization\n",
            "  Downloading https://files.pythonhosted.org/packages/bb/7a/fd8059a3881d3ab37ac8f72f56b73937a14e8bb14a9733e68cc8b17dbe3c/bayesian-optimization-1.2.0.tar.gz\n",
            "Requirement already satisfied: numpy>=1.9.0 in /usr/local/lib/python3.6/dist-packages (from bayesian-optimization) (1.18.5)\n",
            "Requirement already satisfied: scipy>=0.14.0 in /usr/local/lib/python3.6/dist-packages (from bayesian-optimization) (1.4.1)\n",
            "Requirement already satisfied: scikit-learn>=0.18.0 in /usr/local/lib/python3.6/dist-packages (from bayesian-optimization) (0.22.2.post1)\n",
            "Requirement already satisfied: joblib>=0.11 in /usr/local/lib/python3.6/dist-packages (from scikit-learn>=0.18.0->bayesian-optimization) (0.15.1)\n",
            "Building wheels for collected packages: bayesian-optimization\n",
            "  Building wheel for bayesian-optimization (setup.py) ... \u001b[?25l\u001b[?25hdone\n",
            "  Created wheel for bayesian-optimization: filename=bayesian_optimization-1.2.0-cp36-none-any.whl size=11685 sha256=b670f174dfc1a6b1025d6700591982d5f916279ad8aab681ab3c1292577ce6a8\n",
            "  Stored in directory: /root/.cache/pip/wheels/5a/56/ae/e0e3c1fc1954dc3ec712e2df547235ed072b448094d8f94aec\n",
            "Successfully built bayesian-optimization\n",
            "Installing collected packages: bayesian-optimization\n",
            "Successfully installed bayesian-optimization-1.2.0\n"
          ],
          "name": "stdout"
        }
      ]
    },
    {
      "cell_type": "code",
      "metadata": {
        "id": "7cSVDSmFipkS",
        "colab_type": "code",
        "colab": {}
      },
      "source": [
        "# # conversion to lightgbm datasets\n",
        "# Xht = lgb.Dataset(Xh_train, label = yh_train)\n",
        "# Xst = lgb.Dataset(Xs_train, label = ys_train)"
      ],
      "execution_count": null,
      "outputs": []
    },
    {
      "cell_type": "code",
      "metadata": {
        "id": "Nxx_VzP-TNmr",
        "colab_type": "code",
        "colab": {
          "base_uri": "https://localhost:8080/",
          "height": 121
        },
        "outputId": "6861f927-e358-4a26-c394-ed9c2274c530"
      },
      "source": [
        "model1 = lgb.LGBMClassifier(objective='binary', random_state=0)\n",
        "model1.fit(Xh_train, yh_train)\n",
        "predictions1 = model1.predict(Xh_val)\n",
        "auc1 = roc_auc_score(yh_val, predictions1)\n",
        "fbeta1 = fbeta_score(yh_val, predictions1, 1)\n",
        "print('The baseline ROC AUC score on Xh_val is {:.3f}.'.format(auc1))\n",
        "print('The baseline F1 score on Xh_val is {:.3f}.'.format(fbeta1))\n",
        "print('\\n')\n",
        "\n",
        "model2 = lgb.LGBMClassifier(objective='binary', random_state=0)\n",
        "model2.fit(Xs_train, ys_train)\n",
        "predictions2 = model2.predict(Xs_val)\n",
        "auc2 = roc_auc_score(ys_val, predictions2)\n",
        "fbeta2 = fbeta_score(ys_val, predictions2, 1)\n",
        "print('The baseline ROC AUC score on Xs_val is {:.3f}.'.format(auc2))\n",
        "print('The baseline F1 score on Xs_val is {:.3f}.'.format(fbeta2))"
      ],
      "execution_count": null,
      "outputs": [
        {
          "output_type": "stream",
          "text": [
            "The baseline ROC AUC score on Xh_val is 0.885.\n",
            "The baseline F1 score on Xh_val is 0.880.\n",
            "\n",
            "\n",
            "The baseline ROC AUC score on Xs_val is 0.775.\n",
            "The baseline F1 score on Xs_val is 0.762.\n"
          ],
          "name": "stdout"
        }
      ]
    },
    {
      "cell_type": "code",
      "metadata": {
        "id": "oUBWJDKJfpyH",
        "colab_type": "code",
        "colab": {
          "base_uri": "https://localhost:8080/",
          "height": 1000
        },
        "outputId": "8d5728aa-f100-437b-9903-9551275b9916"
      },
      "source": [
        "def bayes_parameter_opt_lgb(X, y, init_round=15, learning_rate=0.05, opt_round=25, n_folds=5, random_seed=0, \n",
        "                            n_estimators=250, output_process=False, is_unbalance=False):\n",
        "    # prepare data\n",
        "    train_data = lgb.Dataset(data=X, label=y, categorical_feature = 'auto', free_raw_data=False)\n",
        "    # parameters\n",
        "    def lgb_eval(num_leaves, feature_fraction, bagging_fraction, max_depth, \n",
        "                 learning_rate, num_iterations, lambda_l1, lambda_l2, min_split_gain, min_child_weight):\n",
        "        params = {'application':'binary',\n",
        "                  'early_stopping_round':25, \n",
        "                  'metric':'auc',\n",
        "                  'is_unbalance': is_unbalance}\n",
        "        params['num_iterations'] = int(round(n_estimators))\n",
        "        params[\"learning_rate\"] = max(learning_rate, 0.01)\n",
        "        params[\"num_leaves\"] = int(round(num_leaves))\n",
        "        params['feature_fraction'] = max(min(feature_fraction, 1), 0)\n",
        "        params['bagging_fraction'] = max(min(bagging_fraction, 1), 0)\n",
        "        params['max_depth'] = int(round(max_depth))\n",
        "        params['lambda_l1'] = max(lambda_l1, 0)\n",
        "        params['lambda_l2'] = max(lambda_l2, 0)\n",
        "        params['min_split_gain'] = min_split_gain\n",
        "        params['min_child_weight'] = min_child_weight\n",
        "        cv_result = lgb.cv(params, train_data, nfold=n_folds, seed=random_seed, stratified=True, verbose_eval =0, metrics=['auc'])\n",
        "        return max(cv_result['auc-mean'])\n",
        "    # range \n",
        "    lgbBO = BayesianOptimization(lgb_eval, {'num_leaves': (24, 45),\n",
        "                                            'num_iterations': (100,1000),\n",
        "                                            'learning_rate': (0.01, 1),\n",
        "                                            'feature_fraction': (0.1, 0.9),\n",
        "                                            'bagging_fraction': (0.4, 1),\n",
        "                                            'max_depth': (5, 12),\n",
        "                                            'lambda_l1': (0, 5),\n",
        "                                            'lambda_l2': (0, 3),\n",
        "                                            'min_split_gain': (0.001, 0.1),\n",
        "                                            'min_child_weight': (5, 50)}, random_state=0)\n",
        "    # optimize\n",
        "    lgbBO.maximize(init_points=init_round, n_iter=opt_round)\n",
        "    \n",
        "    # output optimization process\n",
        "    if output_process==True: lgbBO.points_to_csv(\"bayes_opt_result.csv\")\n",
        "    return lgbBO.max\n",
        "\n",
        "h_best = bayes_parameter_opt_lgb(Xh_train, yh_train, is_unbalance=False)\n",
        "s_best = bayes_parameter_opt_lgb(Xs_train, ys_train, is_unbalance=False)\n",
        "\n",
        "h_best2 = bayes_parameter_opt_lgb(Xh_train, yh_train, is_unbalance=True)\n",
        "s_best2 = bayes_parameter_opt_lgb(Xs_train, ys_train, is_unbalance=True)  "
      ],
      "execution_count": null,
      "outputs": [
        {
          "output_type": "stream",
          "text": [
            "|   iter    |  target   | baggin... | featur... | lambda_l1 | lambda_l2 | learni... | max_depth | min_ch... | min_sp... | num_it... | num_le... |\n",
            "-------------------------------------------------------------------------------------------------------------------------------------------------\n"
          ],
          "name": "stdout"
        },
        {
          "output_type": "stream",
          "text": [
            "/usr/local/lib/python3.6/dist-packages/lightgbm/engine.py:430: UserWarning: Found `num_iterations` in params. Will use it instead of argument\n",
            "  warnings.warn(\"Found `{}` in params. Will use it instead of argument\".format(alias))\n",
            "/usr/local/lib/python3.6/dist-packages/lightgbm/engine.py:435: UserWarning: Found `early_stopping_round` in params. Will use it instead of argument\n",
            "  warnings.warn(\"Found `{}` in params. Will use it instead of argument\".format(alias))\n"
          ],
          "name": "stderr"
        },
        {
          "output_type": "stream",
          "text": [
            "| \u001b[0m 1       \u001b[0m | \u001b[0m 0.9426  \u001b[0m | \u001b[0m 0.7293  \u001b[0m | \u001b[0m 0.6722  \u001b[0m | \u001b[0m 3.014   \u001b[0m | \u001b[0m 1.635   \u001b[0m | \u001b[0m 0.4294  \u001b[0m | \u001b[0m 9.521   \u001b[0m | \u001b[0m 24.69   \u001b[0m | \u001b[0m 0.08929 \u001b[0m | \u001b[0m 967.3   \u001b[0m | \u001b[0m 32.05   \u001b[0m |\n"
          ],
          "name": "stdout"
        },
        {
          "output_type": "stream",
          "text": [
            "/usr/local/lib/python3.6/dist-packages/lightgbm/engine.py:430: UserWarning: Found `num_iterations` in params. Will use it instead of argument\n",
            "  warnings.warn(\"Found `{}` in params. Will use it instead of argument\".format(alias))\n",
            "/usr/local/lib/python3.6/dist-packages/lightgbm/engine.py:435: UserWarning: Found `early_stopping_round` in params. Will use it instead of argument\n",
            "  warnings.warn(\"Found `{}` in params. Will use it instead of argument\".format(alias))\n"
          ],
          "name": "stderr"
        },
        {
          "output_type": "stream",
          "text": [
            "| \u001b[95m 2       \u001b[0m | \u001b[95m 0.9451  \u001b[0m | \u001b[95m 0.875   \u001b[0m | \u001b[95m 0.5231  \u001b[0m | \u001b[95m 2.84    \u001b[0m | \u001b[95m 2.777   \u001b[0m | \u001b[95m 0.08033 \u001b[0m | \u001b[95m 5.61    \u001b[0m | \u001b[95m 5.91    \u001b[0m | \u001b[95m 0.08343 \u001b[0m | \u001b[95m 800.3   \u001b[0m | \u001b[95m 42.27   \u001b[0m |\n"
          ],
          "name": "stdout"
        },
        {
          "output_type": "stream",
          "text": [
            "/usr/local/lib/python3.6/dist-packages/lightgbm/engine.py:430: UserWarning: Found `num_iterations` in params. Will use it instead of argument\n",
            "  warnings.warn(\"Found `{}` in params. Will use it instead of argument\".format(alias))\n",
            "/usr/local/lib/python3.6/dist-packages/lightgbm/engine.py:435: UserWarning: Found `early_stopping_round` in params. Will use it instead of argument\n",
            "  warnings.warn(\"Found `{}` in params. Will use it instead of argument\".format(alias))\n"
          ],
          "name": "stderr"
        },
        {
          "output_type": "stream",
          "text": [
            "| \u001b[0m 3       \u001b[0m | \u001b[0m 0.9442  \u001b[0m | \u001b[0m 0.9872  \u001b[0m | \u001b[0m 0.7393  \u001b[0m | \u001b[0m 2.307   \u001b[0m | \u001b[0m 2.342   \u001b[0m | \u001b[0m 0.1271  \u001b[0m | \u001b[0m 9.479   \u001b[0m | \u001b[0m 11.45   \u001b[0m | \u001b[0m 0.09452 \u001b[0m | \u001b[0m 569.7   \u001b[0m | \u001b[0m 32.71   \u001b[0m |\n"
          ],
          "name": "stdout"
        },
        {
          "output_type": "stream",
          "text": [
            "/usr/local/lib/python3.6/dist-packages/lightgbm/engine.py:430: UserWarning: Found `num_iterations` in params. Will use it instead of argument\n",
            "  warnings.warn(\"Found `{}` in params. Will use it instead of argument\".format(alias))\n",
            "/usr/local/lib/python3.6/dist-packages/lightgbm/engine.py:435: UserWarning: Found `early_stopping_round` in params. Will use it instead of argument\n",
            "  warnings.warn(\"Found `{}` in params. Will use it instead of argument\".format(alias))\n"
          ],
          "name": "stderr"
        },
        {
          "output_type": "stream",
          "text": [
            "| \u001b[0m 4       \u001b[0m | \u001b[0m 0.9413  \u001b[0m | \u001b[0m 0.5587  \u001b[0m | \u001b[0m 0.7194  \u001b[0m | \u001b[0m 2.281   \u001b[0m | \u001b[0m 1.705   \u001b[0m | \u001b[0m 0.0286  \u001b[0m | \u001b[0m 9.323   \u001b[0m | \u001b[0m 32.54   \u001b[0m | \u001b[0m 0.06208 \u001b[0m | \u001b[0m 949.4   \u001b[0m | \u001b[0m 38.32   \u001b[0m |\n"
          ],
          "name": "stdout"
        },
        {
          "output_type": "stream",
          "text": [
            "/usr/local/lib/python3.6/dist-packages/lightgbm/engine.py:430: UserWarning: Found `num_iterations` in params. Will use it instead of argument\n",
            "  warnings.warn(\"Found `{}` in params. Will use it instead of argument\".format(alias))\n",
            "/usr/local/lib/python3.6/dist-packages/lightgbm/engine.py:435: UserWarning: Found `early_stopping_round` in params. Will use it instead of argument\n",
            "  warnings.warn(\"Found `{}` in params. Will use it instead of argument\".format(alias))\n"
          ],
          "name": "stderr"
        },
        {
          "output_type": "stream",
          "text": [
            "| \u001b[0m 5       \u001b[0m | \u001b[0m 0.943   \u001b[0m | \u001b[0m 0.6157  \u001b[0m | \u001b[0m 0.4496  \u001b[0m | \u001b[0m 3.488   \u001b[0m | \u001b[0m 0.1807  \u001b[0m | \u001b[0m 0.6701  \u001b[0m | \u001b[0m 9.694   \u001b[0m | \u001b[0m 14.47   \u001b[0m | \u001b[0m 0.01376 \u001b[0m | \u001b[0m 383.9   \u001b[0m | \u001b[0m 31.64   \u001b[0m |\n"
          ],
          "name": "stdout"
        },
        {
          "output_type": "stream",
          "text": [
            "/usr/local/lib/python3.6/dist-packages/lightgbm/engine.py:430: UserWarning: Found `num_iterations` in params. Will use it instead of argument\n",
            "  warnings.warn(\"Found `{}` in params. Will use it instead of argument\".format(alias))\n",
            "/usr/local/lib/python3.6/dist-packages/lightgbm/engine.py:435: UserWarning: Found `early_stopping_round` in params. Will use it instead of argument\n",
            "  warnings.warn(\"Found `{}` in params. Will use it instead of argument\".format(alias))\n"
          ],
          "name": "stderr"
        },
        {
          "output_type": "stream",
          "text": [
            "| \u001b[0m 6       \u001b[0m | \u001b[0m 0.9428  \u001b[0m | \u001b[0m 0.7421  \u001b[0m | \u001b[0m 0.4509  \u001b[0m | \u001b[0m 4.942   \u001b[0m | \u001b[0m 0.3061  \u001b[0m | \u001b[0m 0.2168  \u001b[0m | \u001b[0m 6.129   \u001b[0m | \u001b[0m 34.39   \u001b[0m | \u001b[0m 0.02608 \u001b[0m | \u001b[0m 519.7   \u001b[0m | \u001b[0m 29.13   \u001b[0m |\n"
          ],
          "name": "stdout"
        },
        {
          "output_type": "stream",
          "text": [
            "/usr/local/lib/python3.6/dist-packages/lightgbm/engine.py:430: UserWarning: Found `num_iterations` in params. Will use it instead of argument\n",
            "  warnings.warn(\"Found `{}` in params. Will use it instead of argument\".format(alias))\n",
            "/usr/local/lib/python3.6/dist-packages/lightgbm/engine.py:435: UserWarning: Found `early_stopping_round` in params. Will use it instead of argument\n",
            "  warnings.warn(\"Found `{}` in params. Will use it instead of argument\".format(alias))\n"
          ],
          "name": "stderr"
        },
        {
          "output_type": "stream",
          "text": [
            "| \u001b[0m 7       \u001b[0m | \u001b[0m 0.942   \u001b[0m | \u001b[0m 0.4954  \u001b[0m | \u001b[0m 0.1883  \u001b[0m | \u001b[0m 3.282   \u001b[0m | \u001b[0m 0.4145  \u001b[0m | \u001b[0m 0.2046  \u001b[0m | \u001b[0m 7.581   \u001b[0m | \u001b[0m 41.94   \u001b[0m | \u001b[0m 0.01061 \u001b[0m | \u001b[0m 854.2   \u001b[0m | \u001b[0m 26.02   \u001b[0m |\n"
          ],
          "name": "stdout"
        },
        {
          "output_type": "stream",
          "text": [
            "/usr/local/lib/python3.6/dist-packages/lightgbm/engine.py:430: UserWarning: Found `num_iterations` in params. Will use it instead of argument\n",
            "  warnings.warn(\"Found `{}` in params. Will use it instead of argument\".format(alias))\n",
            "/usr/local/lib/python3.6/dist-packages/lightgbm/engine.py:435: UserWarning: Found `early_stopping_round` in params. Will use it instead of argument\n",
            "  warnings.warn(\"Found `{}` in params. Will use it instead of argument\".format(alias))\n"
          ],
          "name": "stderr"
        },
        {
          "output_type": "stream",
          "text": [
            "| \u001b[0m 8       \u001b[0m | \u001b[0m 0.9436  \u001b[0m | \u001b[0m 0.9859  \u001b[0m | \u001b[0m 0.4749  \u001b[0m | \u001b[0m 4.884   \u001b[0m | \u001b[0m 1.815   \u001b[0m | \u001b[0m 0.7419  \u001b[0m | \u001b[0m 5.274   \u001b[0m | \u001b[0m 17.73   \u001b[0m | \u001b[0m 0.0129  \u001b[0m | \u001b[0m 366.5   \u001b[0m | \u001b[0m 26.49   \u001b[0m |\n"
          ],
          "name": "stdout"
        },
        {
          "output_type": "stream",
          "text": [
            "/usr/local/lib/python3.6/dist-packages/lightgbm/engine.py:430: UserWarning: Found `num_iterations` in params. Will use it instead of argument\n",
            "  warnings.warn(\"Found `{}` in params. Will use it instead of argument\".format(alias))\n",
            "/usr/local/lib/python3.6/dist-packages/lightgbm/engine.py:435: UserWarning: Found `early_stopping_round` in params. Will use it instead of argument\n",
            "  warnings.warn(\"Found `{}` in params. Will use it instead of argument\".format(alias))\n"
          ],
          "name": "stderr"
        },
        {
          "output_type": "stream",
          "text": [
            "| \u001b[0m 9       \u001b[0m | \u001b[0m 0.9417  \u001b[0m | \u001b[0m 0.5908  \u001b[0m | \u001b[0m 0.4314  \u001b[0m | \u001b[0m 0.3207  \u001b[0m | \u001b[0m 2.077   \u001b[0m | \u001b[0m 0.5709  \u001b[0m | \u001b[0m 6.858   \u001b[0m | \u001b[0m 28.55   \u001b[0m | \u001b[0m 0.0103  \u001b[0m | \u001b[0m 618.4   \u001b[0m | \u001b[0m 43.52   \u001b[0m |\n"
          ],
          "name": "stdout"
        },
        {
          "output_type": "stream",
          "text": [
            "/usr/local/lib/python3.6/dist-packages/lightgbm/engine.py:430: UserWarning: Found `num_iterations` in params. Will use it instead of argument\n",
            "  warnings.warn(\"Found `{}` in params. Will use it instead of argument\".format(alias))\n",
            "/usr/local/lib/python3.6/dist-packages/lightgbm/engine.py:435: UserWarning: Found `early_stopping_round` in params. Will use it instead of argument\n",
            "  warnings.warn(\"Found `{}` in params. Will use it instead of argument\".format(alias))\n"
          ],
          "name": "stderr"
        },
        {
          "output_type": "stream",
          "text": [
            "| \u001b[0m 10      \u001b[0m | \u001b[0m 0.9423  \u001b[0m | \u001b[0m 0.5911  \u001b[0m | \u001b[0m 0.6339  \u001b[0m | \u001b[0m 0.659   \u001b[0m | \u001b[0m 2.149   \u001b[0m | \u001b[0m 0.2965  \u001b[0m | \u001b[0m 6.282   \u001b[0m | \u001b[0m 31.39   \u001b[0m | \u001b[0m 0.002991\u001b[0m | \u001b[0m 846.0   \u001b[0m | \u001b[0m 24.1    \u001b[0m |\n"
          ],
          "name": "stdout"
        },
        {
          "output_type": "stream",
          "text": [
            "/usr/local/lib/python3.6/dist-packages/lightgbm/engine.py:430: UserWarning: Found `num_iterations` in params. Will use it instead of argument\n",
            "  warnings.warn(\"Found `{}` in params. Will use it instead of argument\".format(alias))\n",
            "/usr/local/lib/python3.6/dist-packages/lightgbm/engine.py:435: UserWarning: Found `early_stopping_round` in params. Will use it instead of argument\n",
            "  warnings.warn(\"Found `{}` in params. Will use it instead of argument\".format(alias))\n"
          ],
          "name": "stderr"
        },
        {
          "output_type": "stream",
          "text": [
            "| \u001b[0m 11      \u001b[0m | \u001b[0m 0.9434  \u001b[0m | \u001b[0m 0.8067  \u001b[0m | \u001b[0m 0.316   \u001b[0m | \u001b[0m 3.676   \u001b[0m | \u001b[0m 2.887   \u001b[0m | \u001b[0m 0.2563  \u001b[0m | \u001b[0m 9.033   \u001b[0m | \u001b[0m 31.64   \u001b[0m | \u001b[0m 0.05765 \u001b[0m | \u001b[0m 300.8   \u001b[0m | \u001b[0m 44.01   \u001b[0m |\n"
          ],
          "name": "stdout"
        },
        {
          "output_type": "stream",
          "text": [
            "/usr/local/lib/python3.6/dist-packages/lightgbm/engine.py:430: UserWarning: Found `num_iterations` in params. Will use it instead of argument\n",
            "  warnings.warn(\"Found `{}` in params. Will use it instead of argument\".format(alias))\n",
            "/usr/local/lib/python3.6/dist-packages/lightgbm/engine.py:435: UserWarning: Found `early_stopping_round` in params. Will use it instead of argument\n",
            "  warnings.warn(\"Found `{}` in params. Will use it instead of argument\".format(alias))\n"
          ],
          "name": "stderr"
        },
        {
          "output_type": "stream",
          "text": [
            "| \u001b[0m 12      \u001b[0m | \u001b[0m 0.9411  \u001b[0m | \u001b[0m 0.6683  \u001b[0m | \u001b[0m 0.7771  \u001b[0m | \u001b[0m 3.497   \u001b[0m | \u001b[0m 0.8923  \u001b[0m | \u001b[0m 0.8157  \u001b[0m | \u001b[0m 7.776   \u001b[0m | \u001b[0m 44.65   \u001b[0m | \u001b[0m 0.05855 \u001b[0m | \u001b[0m 893.6   \u001b[0m | \u001b[0m 38.54   \u001b[0m |\n"
          ],
          "name": "stdout"
        },
        {
          "output_type": "stream",
          "text": [
            "/usr/local/lib/python3.6/dist-packages/lightgbm/engine.py:430: UserWarning: Found `num_iterations` in params. Will use it instead of argument\n",
            "  warnings.warn(\"Found `{}` in params. Will use it instead of argument\".format(alias))\n",
            "/usr/local/lib/python3.6/dist-packages/lightgbm/engine.py:435: UserWarning: Found `early_stopping_round` in params. Will use it instead of argument\n",
            "  warnings.warn(\"Found `{}` in params. Will use it instead of argument\".format(alias))\n"
          ],
          "name": "stderr"
        },
        {
          "output_type": "stream",
          "text": [
            "| \u001b[0m 13      \u001b[0m | \u001b[0m 0.9449  \u001b[0m | \u001b[0m 0.8352  \u001b[0m | \u001b[0m 0.5011  \u001b[0m | \u001b[0m 4.78    \u001b[0m | \u001b[0m 1.932   \u001b[0m | \u001b[0m 0.4296  \u001b[0m | \u001b[0m 9.245   \u001b[0m | \u001b[0m 5.864   \u001b[0m | \u001b[0m 0.03086 \u001b[0m | \u001b[0m 694.2   \u001b[0m | \u001b[0m 30.09   \u001b[0m |\n"
          ],
          "name": "stdout"
        },
        {
          "output_type": "stream",
          "text": [
            "/usr/local/lib/python3.6/dist-packages/lightgbm/engine.py:430: UserWarning: Found `num_iterations` in params. Will use it instead of argument\n",
            "  warnings.warn(\"Found `{}` in params. Will use it instead of argument\".format(alias))\n",
            "/usr/local/lib/python3.6/dist-packages/lightgbm/engine.py:435: UserWarning: Found `early_stopping_round` in params. Will use it instead of argument\n",
            "  warnings.warn(\"Found `{}` in params. Will use it instead of argument\".format(alias))\n"
          ],
          "name": "stderr"
        },
        {
          "output_type": "stream",
          "text": [
            "| \u001b[0m 14      \u001b[0m | \u001b[0m 0.9417  \u001b[0m | \u001b[0m 0.7708  \u001b[0m | \u001b[0m 0.443   \u001b[0m | \u001b[0m 0.6774  \u001b[0m | \u001b[0m 0.8948  \u001b[0m | \u001b[0m 0.5743  \u001b[0m | \u001b[0m 9.136   \u001b[0m | \u001b[0m 30.84   \u001b[0m | \u001b[0m 0.06567 \u001b[0m | \u001b[0m 686.9   \u001b[0m | \u001b[0m 33.06   \u001b[0m |\n"
          ],
          "name": "stdout"
        },
        {
          "output_type": "stream",
          "text": [
            "/usr/local/lib/python3.6/dist-packages/lightgbm/engine.py:430: UserWarning: Found `num_iterations` in params. Will use it instead of argument\n",
            "  warnings.warn(\"Found `{}` in params. Will use it instead of argument\".format(alias))\n",
            "/usr/local/lib/python3.6/dist-packages/lightgbm/engine.py:435: UserWarning: Found `early_stopping_round` in params. Will use it instead of argument\n",
            "  warnings.warn(\"Found `{}` in params. Will use it instead of argument\".format(alias))\n"
          ],
          "name": "stderr"
        },
        {
          "output_type": "stream",
          "text": [
            "| \u001b[0m 15      \u001b[0m | \u001b[0m 0.9436  \u001b[0m | \u001b[0m 0.9379  \u001b[0m | \u001b[0m 0.394   \u001b[0m | \u001b[0m 2.179   \u001b[0m | \u001b[0m 2.676   \u001b[0m | \u001b[0m 0.8081  \u001b[0m | \u001b[0m 9.927   \u001b[0m | \u001b[0m 9.51    \u001b[0m | \u001b[0m 0.09203 \u001b[0m | \u001b[0m 742.8   \u001b[0m | \u001b[0m 44.98   \u001b[0m |\n"
          ],
          "name": "stdout"
        },
        {
          "output_type": "stream",
          "text": [
            "/usr/local/lib/python3.6/dist-packages/lightgbm/engine.py:430: UserWarning: Found `num_iterations` in params. Will use it instead of argument\n",
            "  warnings.warn(\"Found `{}` in params. Will use it instead of argument\".format(alias))\n",
            "/usr/local/lib/python3.6/dist-packages/lightgbm/engine.py:435: UserWarning: Found `early_stopping_round` in params. Will use it instead of argument\n",
            "  warnings.warn(\"Found `{}` in params. Will use it instead of argument\".format(alias))\n"
          ],
          "name": "stderr"
        },
        {
          "output_type": "stream",
          "text": [
            "| \u001b[0m 16      \u001b[0m | \u001b[0m 0.9449  \u001b[0m | \u001b[0m 0.8738  \u001b[0m | \u001b[0m 0.7864  \u001b[0m | \u001b[0m 0.9139  \u001b[0m | \u001b[0m 0.03904 \u001b[0m | \u001b[0m 0.1618  \u001b[0m | \u001b[0m 9.545   \u001b[0m | \u001b[0m 5.402   \u001b[0m | \u001b[0m 0.04303 \u001b[0m | \u001b[0m 110.9   \u001b[0m | \u001b[0m 28.42   \u001b[0m |\n"
          ],
          "name": "stdout"
        },
        {
          "output_type": "stream",
          "text": [
            "/usr/local/lib/python3.6/dist-packages/lightgbm/engine.py:430: UserWarning: Found `num_iterations` in params. Will use it instead of argument\n",
            "  warnings.warn(\"Found `{}` in params. Will use it instead of argument\".format(alias))\n",
            "/usr/local/lib/python3.6/dist-packages/lightgbm/engine.py:435: UserWarning: Found `early_stopping_round` in params. Will use it instead of argument\n",
            "  warnings.warn(\"Found `{}` in params. Will use it instead of argument\".format(alias))\n"
          ],
          "name": "stderr"
        },
        {
          "output_type": "stream",
          "text": [
            "| \u001b[0m 17      \u001b[0m | \u001b[0m 0.9436  \u001b[0m | \u001b[0m 0.5022  \u001b[0m | \u001b[0m 0.6005  \u001b[0m | \u001b[0m 4.856   \u001b[0m | \u001b[0m 0.1603  \u001b[0m | \u001b[0m 0.7682  \u001b[0m | \u001b[0m 5.567   \u001b[0m | \u001b[0m 5.356   \u001b[0m | \u001b[0m 0.09769 \u001b[0m | \u001b[0m 113.1   \u001b[0m | \u001b[0m 25.74   \u001b[0m |\n"
          ],
          "name": "stdout"
        },
        {
          "output_type": "stream",
          "text": [
            "/usr/local/lib/python3.6/dist-packages/lightgbm/engine.py:430: UserWarning: Found `num_iterations` in params. Will use it instead of argument\n",
            "  warnings.warn(\"Found `{}` in params. Will use it instead of argument\".format(alias))\n",
            "/usr/local/lib/python3.6/dist-packages/lightgbm/engine.py:435: UserWarning: Found `early_stopping_round` in params. Will use it instead of argument\n",
            "  warnings.warn(\"Found `{}` in params. Will use it instead of argument\".format(alias))\n"
          ],
          "name": "stderr"
        },
        {
          "output_type": "stream",
          "text": [
            "| \u001b[0m 18      \u001b[0m | \u001b[0m 0.9419  \u001b[0m | \u001b[0m 0.8517  \u001b[0m | \u001b[0m 0.8259  \u001b[0m | \u001b[0m 0.8419  \u001b[0m | \u001b[0m 2.636   \u001b[0m | \u001b[0m 0.9296  \u001b[0m | \u001b[0m 9.465   \u001b[0m | \u001b[0m 5.288   \u001b[0m | \u001b[0m 0.00308 \u001b[0m | \u001b[0m 114.5   \u001b[0m | \u001b[0m 44.58   \u001b[0m |\n"
          ],
          "name": "stdout"
        },
        {
          "output_type": "stream",
          "text": [
            "/usr/local/lib/python3.6/dist-packages/lightgbm/engine.py:430: UserWarning: Found `num_iterations` in params. Will use it instead of argument\n",
            "  warnings.warn(\"Found `{}` in params. Will use it instead of argument\".format(alias))\n",
            "/usr/local/lib/python3.6/dist-packages/lightgbm/engine.py:435: UserWarning: Found `early_stopping_round` in params. Will use it instead of argument\n",
            "  warnings.warn(\"Found `{}` in params. Will use it instead of argument\".format(alias))\n"
          ],
          "name": "stderr"
        },
        {
          "output_type": "stream",
          "text": [
            "| \u001b[0m 19      \u001b[0m | \u001b[0m 0.9433  \u001b[0m | \u001b[0m 0.803   \u001b[0m | \u001b[0m 0.6973  \u001b[0m | \u001b[0m 1.889   \u001b[0m | \u001b[0m 0.9441  \u001b[0m | \u001b[0m 0.7493  \u001b[0m | \u001b[0m 6.641   \u001b[0m | \u001b[0m 5.387   \u001b[0m | \u001b[0m 0.004217\u001b[0m | \u001b[0m 999.2   \u001b[0m | \u001b[0m 25.81   \u001b[0m |\n"
          ],
          "name": "stdout"
        },
        {
          "output_type": "stream",
          "text": [
            "/usr/local/lib/python3.6/dist-packages/lightgbm/engine.py:430: UserWarning: Found `num_iterations` in params. Will use it instead of argument\n",
            "  warnings.warn(\"Found `{}` in params. Will use it instead of argument\".format(alias))\n",
            "/usr/local/lib/python3.6/dist-packages/lightgbm/engine.py:435: UserWarning: Found `early_stopping_round` in params. Will use it instead of argument\n",
            "  warnings.warn(\"Found `{}` in params. Will use it instead of argument\".format(alias))\n"
          ],
          "name": "stderr"
        },
        {
          "output_type": "stream",
          "text": [
            "| \u001b[0m 20      \u001b[0m | \u001b[0m 0.944   \u001b[0m | \u001b[0m 0.8241  \u001b[0m | \u001b[0m 0.1638  \u001b[0m | \u001b[0m 4.72    \u001b[0m | \u001b[0m 1.413   \u001b[0m | \u001b[0m 0.09051 \u001b[0m | \u001b[0m 6.439   \u001b[0m | \u001b[0m 6.421   \u001b[0m | \u001b[0m 0.03913 \u001b[0m | \u001b[0m 130.5   \u001b[0m | \u001b[0m 24.1    \u001b[0m |\n"
          ],
          "name": "stdout"
        },
        {
          "output_type": "stream",
          "text": [
            "/usr/local/lib/python3.6/dist-packages/lightgbm/engine.py:430: UserWarning: Found `num_iterations` in params. Will use it instead of argument\n",
            "  warnings.warn(\"Found `{}` in params. Will use it instead of argument\".format(alias))\n",
            "/usr/local/lib/python3.6/dist-packages/lightgbm/engine.py:435: UserWarning: Found `early_stopping_round` in params. Will use it instead of argument\n",
            "  warnings.warn(\"Found `{}` in params. Will use it instead of argument\".format(alias))\n"
          ],
          "name": "stderr"
        },
        {
          "output_type": "stream",
          "text": [
            "| \u001b[0m 21      \u001b[0m | \u001b[0m 0.9433  \u001b[0m | \u001b[0m 0.5637  \u001b[0m | \u001b[0m 0.7823  \u001b[0m | \u001b[0m 0.3193  \u001b[0m | \u001b[0m 2.372   \u001b[0m | \u001b[0m 0.8389  \u001b[0m | \u001b[0m 5.049   \u001b[0m | \u001b[0m 5.087   \u001b[0m | \u001b[0m 0.0946  \u001b[0m | \u001b[0m 121.0   \u001b[0m | \u001b[0m 24.36   \u001b[0m |\n"
          ],
          "name": "stdout"
        },
        {
          "output_type": "stream",
          "text": [
            "/usr/local/lib/python3.6/dist-packages/lightgbm/engine.py:430: UserWarning: Found `num_iterations` in params. Will use it instead of argument\n",
            "  warnings.warn(\"Found `{}` in params. Will use it instead of argument\".format(alias))\n",
            "/usr/local/lib/python3.6/dist-packages/lightgbm/engine.py:435: UserWarning: Found `early_stopping_round` in params. Will use it instead of argument\n",
            "  warnings.warn(\"Found `{}` in params. Will use it instead of argument\".format(alias))\n"
          ],
          "name": "stderr"
        },
        {
          "output_type": "stream",
          "text": [
            "| \u001b[0m 22      \u001b[0m | \u001b[0m 0.9439  \u001b[0m | \u001b[0m 0.9086  \u001b[0m | \u001b[0m 0.7931  \u001b[0m | \u001b[0m 3.506   \u001b[0m | \u001b[0m 2.556   \u001b[0m | \u001b[0m 0.7938  \u001b[0m | \u001b[0m 11.92   \u001b[0m | \u001b[0m 5.111   \u001b[0m | \u001b[0m 0.02169 \u001b[0m | \u001b[0m 649.8   \u001b[0m | \u001b[0m 24.83   \u001b[0m |\n"
          ],
          "name": "stdout"
        },
        {
          "output_type": "stream",
          "text": [
            "/usr/local/lib/python3.6/dist-packages/lightgbm/engine.py:430: UserWarning: Found `num_iterations` in params. Will use it instead of argument\n",
            "  warnings.warn(\"Found `{}` in params. Will use it instead of argument\".format(alias))\n",
            "/usr/local/lib/python3.6/dist-packages/lightgbm/engine.py:435: UserWarning: Found `early_stopping_round` in params. Will use it instead of argument\n",
            "  warnings.warn(\"Found `{}` in params. Will use it instead of argument\".format(alias))\n"
          ],
          "name": "stderr"
        },
        {
          "output_type": "stream",
          "text": [
            "| \u001b[0m 23      \u001b[0m | \u001b[0m 0.9446  \u001b[0m | \u001b[0m 0.7871  \u001b[0m | \u001b[0m 0.5819  \u001b[0m | \u001b[0m 3.927   \u001b[0m | \u001b[0m 2.267   \u001b[0m | \u001b[0m 0.4541  \u001b[0m | \u001b[0m 10.58   \u001b[0m | \u001b[0m 5.013   \u001b[0m | \u001b[0m 0.02592 \u001b[0m | \u001b[0m 968.8   \u001b[0m | \u001b[0m 28.1    \u001b[0m |\n"
          ],
          "name": "stdout"
        },
        {
          "output_type": "stream",
          "text": [
            "/usr/local/lib/python3.6/dist-packages/lightgbm/engine.py:430: UserWarning: Found `num_iterations` in params. Will use it instead of argument\n",
            "  warnings.warn(\"Found `{}` in params. Will use it instead of argument\".format(alias))\n",
            "/usr/local/lib/python3.6/dist-packages/lightgbm/engine.py:435: UserWarning: Found `early_stopping_round` in params. Will use it instead of argument\n",
            "  warnings.warn(\"Found `{}` in params. Will use it instead of argument\".format(alias))\n"
          ],
          "name": "stderr"
        },
        {
          "output_type": "stream",
          "text": [
            "| \u001b[0m 24      \u001b[0m | \u001b[0m 0.9451  \u001b[0m | \u001b[0m 0.8695  \u001b[0m | \u001b[0m 0.6719  \u001b[0m | \u001b[0m 4.997   \u001b[0m | \u001b[0m 2.937   \u001b[0m | \u001b[0m 0.08291 \u001b[0m | \u001b[0m 9.192   \u001b[0m | \u001b[0m 5.982   \u001b[0m | \u001b[0m 0.00351 \u001b[0m | \u001b[0m 992.0   \u001b[0m | \u001b[0m 24.87   \u001b[0m |\n"
          ],
          "name": "stdout"
        },
        {
          "output_type": "stream",
          "text": [
            "/usr/local/lib/python3.6/dist-packages/lightgbm/engine.py:430: UserWarning: Found `num_iterations` in params. Will use it instead of argument\n",
            "  warnings.warn(\"Found `{}` in params. Will use it instead of argument\".format(alias))\n",
            "/usr/local/lib/python3.6/dist-packages/lightgbm/engine.py:435: UserWarning: Found `early_stopping_round` in params. Will use it instead of argument\n",
            "  warnings.warn(\"Found `{}` in params. Will use it instead of argument\".format(alias))\n"
          ],
          "name": "stderr"
        },
        {
          "output_type": "stream",
          "text": [
            "| \u001b[0m 25      \u001b[0m | \u001b[0m 0.9444  \u001b[0m | \u001b[0m 0.4623  \u001b[0m | \u001b[0m 0.7834  \u001b[0m | \u001b[0m 1.033   \u001b[0m | \u001b[0m 1.338   \u001b[0m | \u001b[0m 0.1365  \u001b[0m | \u001b[0m 9.348   \u001b[0m | \u001b[0m 8.852   \u001b[0m | \u001b[0m 0.04912 \u001b[0m | \u001b[0m 805.2   \u001b[0m | \u001b[0m 43.24   \u001b[0m |\n"
          ],
          "name": "stdout"
        },
        {
          "output_type": "stream",
          "text": [
            "/usr/local/lib/python3.6/dist-packages/lightgbm/engine.py:430: UserWarning: Found `num_iterations` in params. Will use it instead of argument\n",
            "  warnings.warn(\"Found `{}` in params. Will use it instead of argument\".format(alias))\n",
            "/usr/local/lib/python3.6/dist-packages/lightgbm/engine.py:435: UserWarning: Found `early_stopping_round` in params. Will use it instead of argument\n",
            "  warnings.warn(\"Found `{}` in params. Will use it instead of argument\".format(alias))\n"
          ],
          "name": "stderr"
        },
        {
          "output_type": "stream",
          "text": [
            "| \u001b[0m 26      \u001b[0m | \u001b[0m 0.9442  \u001b[0m | \u001b[0m 0.8462  \u001b[0m | \u001b[0m 0.2823  \u001b[0m | \u001b[0m 4.968   \u001b[0m | \u001b[0m 0.1809  \u001b[0m | \u001b[0m 0.7185  \u001b[0m | \u001b[0m 5.125   \u001b[0m | \u001b[0m 5.033   \u001b[0m | \u001b[0m 0.03815 \u001b[0m | \u001b[0m 990.3   \u001b[0m | \u001b[0m 37.8    \u001b[0m |\n"
          ],
          "name": "stdout"
        },
        {
          "output_type": "stream",
          "text": [
            "/usr/local/lib/python3.6/dist-packages/lightgbm/engine.py:430: UserWarning: Found `num_iterations` in params. Will use it instead of argument\n",
            "  warnings.warn(\"Found `{}` in params. Will use it instead of argument\".format(alias))\n",
            "/usr/local/lib/python3.6/dist-packages/lightgbm/engine.py:435: UserWarning: Found `early_stopping_round` in params. Will use it instead of argument\n",
            "  warnings.warn(\"Found `{}` in params. Will use it instead of argument\".format(alias))\n"
          ],
          "name": "stderr"
        },
        {
          "output_type": "stream",
          "text": [
            "| \u001b[0m 27      \u001b[0m | \u001b[0m 0.945   \u001b[0m | \u001b[0m 0.6469  \u001b[0m | \u001b[0m 0.462   \u001b[0m | \u001b[0m 4.143   \u001b[0m | \u001b[0m 1.756   \u001b[0m | \u001b[0m 0.3087  \u001b[0m | \u001b[0m 6.061   \u001b[0m | \u001b[0m 5.444   \u001b[0m | \u001b[0m 0.00122 \u001b[0m | \u001b[0m 925.6   \u001b[0m | \u001b[0m 24.36   \u001b[0m |\n"
          ],
          "name": "stdout"
        },
        {
          "output_type": "stream",
          "text": [
            "/usr/local/lib/python3.6/dist-packages/lightgbm/engine.py:430: UserWarning: Found `num_iterations` in params. Will use it instead of argument\n",
            "  warnings.warn(\"Found `{}` in params. Will use it instead of argument\".format(alias))\n",
            "/usr/local/lib/python3.6/dist-packages/lightgbm/engine.py:435: UserWarning: Found `early_stopping_round` in params. Will use it instead of argument\n",
            "  warnings.warn(\"Found `{}` in params. Will use it instead of argument\".format(alias))\n"
          ],
          "name": "stderr"
        },
        {
          "output_type": "stream",
          "text": [
            "| \u001b[0m 28      \u001b[0m | \u001b[0m 0.942   \u001b[0m | \u001b[0m 0.5154  \u001b[0m | \u001b[0m 0.8624  \u001b[0m | \u001b[0m 3.616   \u001b[0m | \u001b[0m 2.828   \u001b[0m | \u001b[0m 0.9534  \u001b[0m | \u001b[0m 6.744   \u001b[0m | \u001b[0m 5.106   \u001b[0m | \u001b[0m 0.02353 \u001b[0m | \u001b[0m 948.6   \u001b[0m | \u001b[0m 25.73   \u001b[0m |\n"
          ],
          "name": "stdout"
        },
        {
          "output_type": "stream",
          "text": [
            "/usr/local/lib/python3.6/dist-packages/lightgbm/engine.py:430: UserWarning: Found `num_iterations` in params. Will use it instead of argument\n",
            "  warnings.warn(\"Found `{}` in params. Will use it instead of argument\".format(alias))\n",
            "/usr/local/lib/python3.6/dist-packages/lightgbm/engine.py:435: UserWarning: Found `early_stopping_round` in params. Will use it instead of argument\n",
            "  warnings.warn(\"Found `{}` in params. Will use it instead of argument\".format(alias))\n"
          ],
          "name": "stderr"
        },
        {
          "output_type": "stream",
          "text": [
            "| \u001b[0m 29      \u001b[0m | \u001b[0m 0.9448  \u001b[0m | \u001b[0m 0.5929  \u001b[0m | \u001b[0m 0.6049  \u001b[0m | \u001b[0m 4.975   \u001b[0m | \u001b[0m 0.6187  \u001b[0m | \u001b[0m 0.5926  \u001b[0m | \u001b[0m 10.42   \u001b[0m | \u001b[0m 5.021   \u001b[0m | \u001b[0m 0.06335 \u001b[0m | \u001b[0m 954.5   \u001b[0m | \u001b[0m 44.78   \u001b[0m |\n"
          ],
          "name": "stdout"
        },
        {
          "output_type": "stream",
          "text": [
            "/usr/local/lib/python3.6/dist-packages/lightgbm/engine.py:430: UserWarning: Found `num_iterations` in params. Will use it instead of argument\n",
            "  warnings.warn(\"Found `{}` in params. Will use it instead of argument\".format(alias))\n",
            "/usr/local/lib/python3.6/dist-packages/lightgbm/engine.py:435: UserWarning: Found `early_stopping_round` in params. Will use it instead of argument\n",
            "  warnings.warn(\"Found `{}` in params. Will use it instead of argument\".format(alias))\n"
          ],
          "name": "stderr"
        },
        {
          "output_type": "stream",
          "text": [
            "| \u001b[0m 30      \u001b[0m | \u001b[0m 0.9437  \u001b[0m | \u001b[0m 0.6334  \u001b[0m | \u001b[0m 0.5882  \u001b[0m | \u001b[0m 4.771   \u001b[0m | \u001b[0m 1.115   \u001b[0m | \u001b[0m 0.8215  \u001b[0m | \u001b[0m 6.062   \u001b[0m | \u001b[0m 5.104   \u001b[0m | \u001b[0m 0.03106 \u001b[0m | \u001b[0m 104.5   \u001b[0m | \u001b[0m 44.97   \u001b[0m |\n"
          ],
          "name": "stdout"
        },
        {
          "output_type": "stream",
          "text": [
            "/usr/local/lib/python3.6/dist-packages/lightgbm/engine.py:430: UserWarning: Found `num_iterations` in params. Will use it instead of argument\n",
            "  warnings.warn(\"Found `{}` in params. Will use it instead of argument\".format(alias))\n",
            "/usr/local/lib/python3.6/dist-packages/lightgbm/engine.py:435: UserWarning: Found `early_stopping_round` in params. Will use it instead of argument\n",
            "  warnings.warn(\"Found `{}` in params. Will use it instead of argument\".format(alias))\n"
          ],
          "name": "stderr"
        },
        {
          "output_type": "stream",
          "text": [
            "| \u001b[0m 31      \u001b[0m | \u001b[0m 0.9446  \u001b[0m | \u001b[0m 0.9303  \u001b[0m | \u001b[0m 0.6126  \u001b[0m | \u001b[0m 4.606   \u001b[0m | \u001b[0m 2.048   \u001b[0m | \u001b[0m 0.5792  \u001b[0m | \u001b[0m 11.59   \u001b[0m | \u001b[0m 5.388   \u001b[0m | \u001b[0m 0.06846 \u001b[0m | \u001b[0m 743.5   \u001b[0m | \u001b[0m 24.98   \u001b[0m |\n"
          ],
          "name": "stdout"
        },
        {
          "output_type": "stream",
          "text": [
            "/usr/local/lib/python3.6/dist-packages/lightgbm/engine.py:430: UserWarning: Found `num_iterations` in params. Will use it instead of argument\n",
            "  warnings.warn(\"Found `{}` in params. Will use it instead of argument\".format(alias))\n",
            "/usr/local/lib/python3.6/dist-packages/lightgbm/engine.py:435: UserWarning: Found `early_stopping_round` in params. Will use it instead of argument\n",
            "  warnings.warn(\"Found `{}` in params. Will use it instead of argument\".format(alias))\n"
          ],
          "name": "stderr"
        },
        {
          "output_type": "stream",
          "text": [
            "| \u001b[0m 32      \u001b[0m | \u001b[0m 0.945   \u001b[0m | \u001b[0m 0.9163  \u001b[0m | \u001b[0m 0.5676  \u001b[0m | \u001b[0m 4.134   \u001b[0m | \u001b[0m 1.19    \u001b[0m | \u001b[0m 0.5663  \u001b[0m | \u001b[0m 11.15   \u001b[0m | \u001b[0m 5.031   \u001b[0m | \u001b[0m 0.04233 \u001b[0m | \u001b[0m 982.1   \u001b[0m | \u001b[0m 42.54   \u001b[0m |\n"
          ],
          "name": "stdout"
        },
        {
          "output_type": "stream",
          "text": [
            "/usr/local/lib/python3.6/dist-packages/lightgbm/engine.py:430: UserWarning: Found `num_iterations` in params. Will use it instead of argument\n",
            "  warnings.warn(\"Found `{}` in params. Will use it instead of argument\".format(alias))\n",
            "/usr/local/lib/python3.6/dist-packages/lightgbm/engine.py:435: UserWarning: Found `early_stopping_round` in params. Will use it instead of argument\n",
            "  warnings.warn(\"Found `{}` in params. Will use it instead of argument\".format(alias))\n"
          ],
          "name": "stderr"
        },
        {
          "output_type": "stream",
          "text": [
            "| \u001b[0m 33      \u001b[0m | \u001b[0m 0.9448  \u001b[0m | \u001b[0m 0.8216  \u001b[0m | \u001b[0m 0.8386  \u001b[0m | \u001b[0m 4.452   \u001b[0m | \u001b[0m 2.175   \u001b[0m | \u001b[0m 0.3885  \u001b[0m | \u001b[0m 10.84   \u001b[0m | \u001b[0m 5.013   \u001b[0m | \u001b[0m 0.03786 \u001b[0m | \u001b[0m 709.8   \u001b[0m | \u001b[0m 43.94   \u001b[0m |\n"
          ],
          "name": "stdout"
        },
        {
          "output_type": "stream",
          "text": [
            "/usr/local/lib/python3.6/dist-packages/lightgbm/engine.py:430: UserWarning: Found `num_iterations` in params. Will use it instead of argument\n",
            "  warnings.warn(\"Found `{}` in params. Will use it instead of argument\".format(alias))\n",
            "/usr/local/lib/python3.6/dist-packages/lightgbm/engine.py:435: UserWarning: Found `early_stopping_round` in params. Will use it instead of argument\n",
            "  warnings.warn(\"Found `{}` in params. Will use it instead of argument\".format(alias))\n"
          ],
          "name": "stderr"
        },
        {
          "output_type": "stream",
          "text": [
            "| \u001b[0m 34      \u001b[0m | \u001b[0m 0.9444  \u001b[0m | \u001b[0m 0.4495  \u001b[0m | \u001b[0m 0.3682  \u001b[0m | \u001b[0m 2.804   \u001b[0m | \u001b[0m 1.841   \u001b[0m | \u001b[0m 0.6252  \u001b[0m | \u001b[0m 11.96   \u001b[0m | \u001b[0m 6.024   \u001b[0m | \u001b[0m 0.0805  \u001b[0m | \u001b[0m 680.8   \u001b[0m | \u001b[0m 24.0    \u001b[0m |\n"
          ],
          "name": "stdout"
        },
        {
          "output_type": "stream",
          "text": [
            "/usr/local/lib/python3.6/dist-packages/lightgbm/engine.py:430: UserWarning: Found `num_iterations` in params. Will use it instead of argument\n",
            "  warnings.warn(\"Found `{}` in params. Will use it instead of argument\".format(alias))\n",
            "/usr/local/lib/python3.6/dist-packages/lightgbm/engine.py:435: UserWarning: Found `early_stopping_round` in params. Will use it instead of argument\n",
            "  warnings.warn(\"Found `{}` in params. Will use it instead of argument\".format(alias))\n"
          ],
          "name": "stderr"
        },
        {
          "output_type": "stream",
          "text": [
            "| \u001b[0m 35      \u001b[0m | \u001b[0m 0.9448  \u001b[0m | \u001b[0m 0.8126  \u001b[0m | \u001b[0m 0.8211  \u001b[0m | \u001b[0m 3.614   \u001b[0m | \u001b[0m 0.2794  \u001b[0m | \u001b[0m 0.06694 \u001b[0m | \u001b[0m 11.97   \u001b[0m | \u001b[0m 5.042   \u001b[0m | \u001b[0m 0.00377 \u001b[0m | \u001b[0m 659.1   \u001b[0m | \u001b[0m 44.38   \u001b[0m |\n"
          ],
          "name": "stdout"
        },
        {
          "output_type": "stream",
          "text": [
            "/usr/local/lib/python3.6/dist-packages/lightgbm/engine.py:430: UserWarning: Found `num_iterations` in params. Will use it instead of argument\n",
            "  warnings.warn(\"Found `{}` in params. Will use it instead of argument\".format(alias))\n",
            "/usr/local/lib/python3.6/dist-packages/lightgbm/engine.py:435: UserWarning: Found `early_stopping_round` in params. Will use it instead of argument\n",
            "  warnings.warn(\"Found `{}` in params. Will use it instead of argument\".format(alias))\n"
          ],
          "name": "stderr"
        },
        {
          "output_type": "stream",
          "text": [
            "| \u001b[0m 36      \u001b[0m | \u001b[0m 0.9448  \u001b[0m | \u001b[0m 0.7195  \u001b[0m | \u001b[0m 0.46    \u001b[0m | \u001b[0m 4.692   \u001b[0m | \u001b[0m 1.622   \u001b[0m | \u001b[0m 0.4568  \u001b[0m | \u001b[0m 9.275   \u001b[0m | \u001b[0m 5.298   \u001b[0m | \u001b[0m 0.08832 \u001b[0m | \u001b[0m 590.9   \u001b[0m | \u001b[0m 43.54   \u001b[0m |\n"
          ],
          "name": "stdout"
        },
        {
          "output_type": "stream",
          "text": [
            "/usr/local/lib/python3.6/dist-packages/lightgbm/engine.py:430: UserWarning: Found `num_iterations` in params. Will use it instead of argument\n",
            "  warnings.warn(\"Found `{}` in params. Will use it instead of argument\".format(alias))\n",
            "/usr/local/lib/python3.6/dist-packages/lightgbm/engine.py:435: UserWarning: Found `early_stopping_round` in params. Will use it instead of argument\n",
            "  warnings.warn(\"Found `{}` in params. Will use it instead of argument\".format(alias))\n"
          ],
          "name": "stderr"
        },
        {
          "output_type": "stream",
          "text": [
            "| \u001b[0m 37      \u001b[0m | \u001b[0m 0.9444  \u001b[0m | \u001b[0m 0.9056  \u001b[0m | \u001b[0m 0.2439  \u001b[0m | \u001b[0m 2.588   \u001b[0m | \u001b[0m 1.42    \u001b[0m | \u001b[0m 0.7259  \u001b[0m | \u001b[0m 8.359   \u001b[0m | \u001b[0m 5.037   \u001b[0m | \u001b[0m 0.03461 \u001b[0m | \u001b[0m 801.9   \u001b[0m | \u001b[0m 38.44   \u001b[0m |\n"
          ],
          "name": "stdout"
        },
        {
          "output_type": "stream",
          "text": [
            "/usr/local/lib/python3.6/dist-packages/lightgbm/engine.py:430: UserWarning: Found `num_iterations` in params. Will use it instead of argument\n",
            "  warnings.warn(\"Found `{}` in params. Will use it instead of argument\".format(alias))\n",
            "/usr/local/lib/python3.6/dist-packages/lightgbm/engine.py:435: UserWarning: Found `early_stopping_round` in params. Will use it instead of argument\n",
            "  warnings.warn(\"Found `{}` in params. Will use it instead of argument\".format(alias))\n"
          ],
          "name": "stderr"
        },
        {
          "output_type": "stream",
          "text": [
            "| \u001b[95m 38      \u001b[0m | \u001b[95m 0.9453  \u001b[0m | \u001b[95m 0.7775  \u001b[0m | \u001b[95m 0.4065  \u001b[0m | \u001b[95m 4.675   \u001b[0m | \u001b[95m 0.9808  \u001b[0m | \u001b[95m 0.06733 \u001b[0m | \u001b[95m 6.938   \u001b[0m | \u001b[95m 5.283   \u001b[0m | \u001b[95m 0.02035 \u001b[0m | \u001b[95m 644.4   \u001b[0m | \u001b[95m 44.39   \u001b[0m |\n"
          ],
          "name": "stdout"
        },
        {
          "output_type": "stream",
          "text": [
            "/usr/local/lib/python3.6/dist-packages/lightgbm/engine.py:430: UserWarning: Found `num_iterations` in params. Will use it instead of argument\n",
            "  warnings.warn(\"Found `{}` in params. Will use it instead of argument\".format(alias))\n",
            "/usr/local/lib/python3.6/dist-packages/lightgbm/engine.py:435: UserWarning: Found `early_stopping_round` in params. Will use it instead of argument\n",
            "  warnings.warn(\"Found `{}` in params. Will use it instead of argument\".format(alias))\n"
          ],
          "name": "stderr"
        },
        {
          "output_type": "stream",
          "text": [
            "| \u001b[0m 39      \u001b[0m | \u001b[0m 0.9433  \u001b[0m | \u001b[0m 0.8508  \u001b[0m | \u001b[0m 0.2162  \u001b[0m | \u001b[0m 3.387   \u001b[0m | \u001b[0m 0.0309  \u001b[0m | \u001b[0m 0.9136  \u001b[0m | \u001b[0m 5.862   \u001b[0m | \u001b[0m 5.744   \u001b[0m | \u001b[0m 0.03969 \u001b[0m | \u001b[0m 597.3   \u001b[0m | \u001b[0m 44.98   \u001b[0m |\n"
          ],
          "name": "stdout"
        },
        {
          "output_type": "stream",
          "text": [
            "/usr/local/lib/python3.6/dist-packages/lightgbm/engine.py:430: UserWarning: Found `num_iterations` in params. Will use it instead of argument\n",
            "  warnings.warn(\"Found `{}` in params. Will use it instead of argument\".format(alias))\n",
            "/usr/local/lib/python3.6/dist-packages/lightgbm/engine.py:435: UserWarning: Found `early_stopping_round` in params. Will use it instead of argument\n",
            "  warnings.warn(\"Found `{}` in params. Will use it instead of argument\".format(alias))\n"
          ],
          "name": "stderr"
        },
        {
          "output_type": "stream",
          "text": [
            "| \u001b[0m 40      \u001b[0m | \u001b[0m 0.9438  \u001b[0m | \u001b[0m 0.5654  \u001b[0m | \u001b[0m 0.5089  \u001b[0m | \u001b[0m 4.731   \u001b[0m | \u001b[0m 1.391   \u001b[0m | \u001b[0m 0.7403  \u001b[0m | \u001b[0m 9.316   \u001b[0m | \u001b[0m 5.331   \u001b[0m | \u001b[0m 0.02807 \u001b[0m | \u001b[0m 991.7   \u001b[0m | \u001b[0m 44.8    \u001b[0m |\n",
            "=================================================================================================================================================\n",
            "|   iter    |  target   | baggin... | featur... | lambda_l1 | lambda_l2 | learni... | max_depth | min_ch... | min_sp... | num_it... | num_le... |\n",
            "-------------------------------------------------------------------------------------------------------------------------------------------------\n"
          ],
          "name": "stdout"
        },
        {
          "output_type": "stream",
          "text": [
            "/usr/local/lib/python3.6/dist-packages/lightgbm/engine.py:430: UserWarning: Found `num_iterations` in params. Will use it instead of argument\n",
            "  warnings.warn(\"Found `{}` in params. Will use it instead of argument\".format(alias))\n",
            "/usr/local/lib/python3.6/dist-packages/lightgbm/engine.py:435: UserWarning: Found `early_stopping_round` in params. Will use it instead of argument\n",
            "  warnings.warn(\"Found `{}` in params. Will use it instead of argument\".format(alias))\n"
          ],
          "name": "stderr"
        },
        {
          "output_type": "stream",
          "text": [
            "| \u001b[0m 1       \u001b[0m | \u001b[0m 0.8398  \u001b[0m | \u001b[0m 0.7293  \u001b[0m | \u001b[0m 0.6722  \u001b[0m | \u001b[0m 3.014   \u001b[0m | \u001b[0m 1.635   \u001b[0m | \u001b[0m 0.4294  \u001b[0m | \u001b[0m 9.521   \u001b[0m | \u001b[0m 24.69   \u001b[0m | \u001b[0m 0.08929 \u001b[0m | \u001b[0m 967.3   \u001b[0m | \u001b[0m 32.05   \u001b[0m |\n"
          ],
          "name": "stdout"
        },
        {
          "output_type": "stream",
          "text": [
            "/usr/local/lib/python3.6/dist-packages/lightgbm/engine.py:430: UserWarning: Found `num_iterations` in params. Will use it instead of argument\n",
            "  warnings.warn(\"Found `{}` in params. Will use it instead of argument\".format(alias))\n",
            "/usr/local/lib/python3.6/dist-packages/lightgbm/engine.py:435: UserWarning: Found `early_stopping_round` in params. Will use it instead of argument\n",
            "  warnings.warn(\"Found `{}` in params. Will use it instead of argument\".format(alias))\n"
          ],
          "name": "stderr"
        },
        {
          "output_type": "stream",
          "text": [
            "| \u001b[95m 2       \u001b[0m | \u001b[95m 0.8422  \u001b[0m | \u001b[95m 0.875   \u001b[0m | \u001b[95m 0.5231  \u001b[0m | \u001b[95m 2.84    \u001b[0m | \u001b[95m 2.777   \u001b[0m | \u001b[95m 0.08033 \u001b[0m | \u001b[95m 5.61    \u001b[0m | \u001b[95m 5.91    \u001b[0m | \u001b[95m 0.08343 \u001b[0m | \u001b[95m 800.3   \u001b[0m | \u001b[95m 42.27   \u001b[0m |\n"
          ],
          "name": "stdout"
        },
        {
          "output_type": "stream",
          "text": [
            "/usr/local/lib/python3.6/dist-packages/lightgbm/engine.py:430: UserWarning: Found `num_iterations` in params. Will use it instead of argument\n",
            "  warnings.warn(\"Found `{}` in params. Will use it instead of argument\".format(alias))\n",
            "/usr/local/lib/python3.6/dist-packages/lightgbm/engine.py:435: UserWarning: Found `early_stopping_round` in params. Will use it instead of argument\n",
            "  warnings.warn(\"Found `{}` in params. Will use it instead of argument\".format(alias))\n"
          ],
          "name": "stderr"
        },
        {
          "output_type": "stream",
          "text": [
            "| \u001b[0m 3       \u001b[0m | \u001b[0m 0.8414  \u001b[0m | \u001b[0m 0.9872  \u001b[0m | \u001b[0m 0.7393  \u001b[0m | \u001b[0m 2.307   \u001b[0m | \u001b[0m 2.342   \u001b[0m | \u001b[0m 0.1271  \u001b[0m | \u001b[0m 9.479   \u001b[0m | \u001b[0m 11.45   \u001b[0m | \u001b[0m 0.09452 \u001b[0m | \u001b[0m 569.7   \u001b[0m | \u001b[0m 32.71   \u001b[0m |\n"
          ],
          "name": "stdout"
        },
        {
          "output_type": "stream",
          "text": [
            "/usr/local/lib/python3.6/dist-packages/lightgbm/engine.py:430: UserWarning: Found `num_iterations` in params. Will use it instead of argument\n",
            "  warnings.warn(\"Found `{}` in params. Will use it instead of argument\".format(alias))\n",
            "/usr/local/lib/python3.6/dist-packages/lightgbm/engine.py:435: UserWarning: Found `early_stopping_round` in params. Will use it instead of argument\n",
            "  warnings.warn(\"Found `{}` in params. Will use it instead of argument\".format(alias))\n"
          ],
          "name": "stderr"
        },
        {
          "output_type": "stream",
          "text": [
            "| \u001b[0m 4       \u001b[0m | \u001b[0m 0.8412  \u001b[0m | \u001b[0m 0.5587  \u001b[0m | \u001b[0m 0.7194  \u001b[0m | \u001b[0m 2.281   \u001b[0m | \u001b[0m 1.705   \u001b[0m | \u001b[0m 0.0286  \u001b[0m | \u001b[0m 9.323   \u001b[0m | \u001b[0m 32.54   \u001b[0m | \u001b[0m 0.06208 \u001b[0m | \u001b[0m 949.4   \u001b[0m | \u001b[0m 38.32   \u001b[0m |\n"
          ],
          "name": "stdout"
        },
        {
          "output_type": "stream",
          "text": [
            "/usr/local/lib/python3.6/dist-packages/lightgbm/engine.py:430: UserWarning: Found `num_iterations` in params. Will use it instead of argument\n",
            "  warnings.warn(\"Found `{}` in params. Will use it instead of argument\".format(alias))\n",
            "/usr/local/lib/python3.6/dist-packages/lightgbm/engine.py:435: UserWarning: Found `early_stopping_round` in params. Will use it instead of argument\n",
            "  warnings.warn(\"Found `{}` in params. Will use it instead of argument\".format(alias))\n"
          ],
          "name": "stderr"
        },
        {
          "output_type": "stream",
          "text": [
            "| \u001b[0m 5       \u001b[0m | \u001b[0m 0.84    \u001b[0m | \u001b[0m 0.6157  \u001b[0m | \u001b[0m 0.4496  \u001b[0m | \u001b[0m 3.488   \u001b[0m | \u001b[0m 0.1807  \u001b[0m | \u001b[0m 0.6701  \u001b[0m | \u001b[0m 9.694   \u001b[0m | \u001b[0m 14.47   \u001b[0m | \u001b[0m 0.01376 \u001b[0m | \u001b[0m 383.9   \u001b[0m | \u001b[0m 31.64   \u001b[0m |\n"
          ],
          "name": "stdout"
        },
        {
          "output_type": "stream",
          "text": [
            "/usr/local/lib/python3.6/dist-packages/lightgbm/engine.py:430: UserWarning: Found `num_iterations` in params. Will use it instead of argument\n",
            "  warnings.warn(\"Found `{}` in params. Will use it instead of argument\".format(alias))\n",
            "/usr/local/lib/python3.6/dist-packages/lightgbm/engine.py:435: UserWarning: Found `early_stopping_round` in params. Will use it instead of argument\n",
            "  warnings.warn(\"Found `{}` in params. Will use it instead of argument\".format(alias))\n"
          ],
          "name": "stderr"
        },
        {
          "output_type": "stream",
          "text": [
            "| \u001b[0m 6       \u001b[0m | \u001b[0m 0.8414  \u001b[0m | \u001b[0m 0.7421  \u001b[0m | \u001b[0m 0.4509  \u001b[0m | \u001b[0m 4.942   \u001b[0m | \u001b[0m 0.3061  \u001b[0m | \u001b[0m 0.2168  \u001b[0m | \u001b[0m 6.129   \u001b[0m | \u001b[0m 34.39   \u001b[0m | \u001b[0m 0.02608 \u001b[0m | \u001b[0m 519.7   \u001b[0m | \u001b[0m 29.13   \u001b[0m |\n"
          ],
          "name": "stdout"
        },
        {
          "output_type": "stream",
          "text": [
            "/usr/local/lib/python3.6/dist-packages/lightgbm/engine.py:430: UserWarning: Found `num_iterations` in params. Will use it instead of argument\n",
            "  warnings.warn(\"Found `{}` in params. Will use it instead of argument\".format(alias))\n",
            "/usr/local/lib/python3.6/dist-packages/lightgbm/engine.py:435: UserWarning: Found `early_stopping_round` in params. Will use it instead of argument\n",
            "  warnings.warn(\"Found `{}` in params. Will use it instead of argument\".format(alias))\n"
          ],
          "name": "stderr"
        },
        {
          "output_type": "stream",
          "text": [
            "| \u001b[0m 7       \u001b[0m | \u001b[0m 0.8405  \u001b[0m | \u001b[0m 0.4954  \u001b[0m | \u001b[0m 0.1883  \u001b[0m | \u001b[0m 3.282   \u001b[0m | \u001b[0m 0.4145  \u001b[0m | \u001b[0m 0.2046  \u001b[0m | \u001b[0m 7.581   \u001b[0m | \u001b[0m 41.94   \u001b[0m | \u001b[0m 0.01061 \u001b[0m | \u001b[0m 854.2   \u001b[0m | \u001b[0m 26.02   \u001b[0m |\n"
          ],
          "name": "stdout"
        },
        {
          "output_type": "stream",
          "text": [
            "/usr/local/lib/python3.6/dist-packages/lightgbm/engine.py:430: UserWarning: Found `num_iterations` in params. Will use it instead of argument\n",
            "  warnings.warn(\"Found `{}` in params. Will use it instead of argument\".format(alias))\n",
            "/usr/local/lib/python3.6/dist-packages/lightgbm/engine.py:435: UserWarning: Found `early_stopping_round` in params. Will use it instead of argument\n",
            "  warnings.warn(\"Found `{}` in params. Will use it instead of argument\".format(alias))\n"
          ],
          "name": "stderr"
        },
        {
          "output_type": "stream",
          "text": [
            "| \u001b[0m 8       \u001b[0m | \u001b[0m 0.8402  \u001b[0m | \u001b[0m 0.9859  \u001b[0m | \u001b[0m 0.4749  \u001b[0m | \u001b[0m 4.884   \u001b[0m | \u001b[0m 1.815   \u001b[0m | \u001b[0m 0.7419  \u001b[0m | \u001b[0m 5.274   \u001b[0m | \u001b[0m 17.73   \u001b[0m | \u001b[0m 0.0129  \u001b[0m | \u001b[0m 366.5   \u001b[0m | \u001b[0m 26.49   \u001b[0m |\n"
          ],
          "name": "stdout"
        },
        {
          "output_type": "stream",
          "text": [
            "/usr/local/lib/python3.6/dist-packages/lightgbm/engine.py:430: UserWarning: Found `num_iterations` in params. Will use it instead of argument\n",
            "  warnings.warn(\"Found `{}` in params. Will use it instead of argument\".format(alias))\n",
            "/usr/local/lib/python3.6/dist-packages/lightgbm/engine.py:435: UserWarning: Found `early_stopping_round` in params. Will use it instead of argument\n",
            "  warnings.warn(\"Found `{}` in params. Will use it instead of argument\".format(alias))\n"
          ],
          "name": "stderr"
        },
        {
          "output_type": "stream",
          "text": [
            "| \u001b[0m 9       \u001b[0m | \u001b[0m 0.8411  \u001b[0m | \u001b[0m 0.5908  \u001b[0m | \u001b[0m 0.4314  \u001b[0m | \u001b[0m 0.3207  \u001b[0m | \u001b[0m 2.077   \u001b[0m | \u001b[0m 0.5709  \u001b[0m | \u001b[0m 6.858   \u001b[0m | \u001b[0m 28.55   \u001b[0m | \u001b[0m 0.0103  \u001b[0m | \u001b[0m 618.4   \u001b[0m | \u001b[0m 43.52   \u001b[0m |\n"
          ],
          "name": "stdout"
        },
        {
          "output_type": "stream",
          "text": [
            "/usr/local/lib/python3.6/dist-packages/lightgbm/engine.py:430: UserWarning: Found `num_iterations` in params. Will use it instead of argument\n",
            "  warnings.warn(\"Found `{}` in params. Will use it instead of argument\".format(alias))\n",
            "/usr/local/lib/python3.6/dist-packages/lightgbm/engine.py:435: UserWarning: Found `early_stopping_round` in params. Will use it instead of argument\n",
            "  warnings.warn(\"Found `{}` in params. Will use it instead of argument\".format(alias))\n"
          ],
          "name": "stderr"
        },
        {
          "output_type": "stream",
          "text": [
            "| \u001b[0m 10      \u001b[0m | \u001b[0m 0.8408  \u001b[0m | \u001b[0m 0.5911  \u001b[0m | \u001b[0m 0.6339  \u001b[0m | \u001b[0m 0.659   \u001b[0m | \u001b[0m 2.149   \u001b[0m | \u001b[0m 0.2965  \u001b[0m | \u001b[0m 6.282   \u001b[0m | \u001b[0m 31.39   \u001b[0m | \u001b[0m 0.002991\u001b[0m | \u001b[0m 846.0   \u001b[0m | \u001b[0m 24.1    \u001b[0m |\n"
          ],
          "name": "stdout"
        },
        {
          "output_type": "stream",
          "text": [
            "/usr/local/lib/python3.6/dist-packages/lightgbm/engine.py:430: UserWarning: Found `num_iterations` in params. Will use it instead of argument\n",
            "  warnings.warn(\"Found `{}` in params. Will use it instead of argument\".format(alias))\n",
            "/usr/local/lib/python3.6/dist-packages/lightgbm/engine.py:435: UserWarning: Found `early_stopping_round` in params. Will use it instead of argument\n",
            "  warnings.warn(\"Found `{}` in params. Will use it instead of argument\".format(alias))\n"
          ],
          "name": "stderr"
        },
        {
          "output_type": "stream",
          "text": [
            "| \u001b[0m 11      \u001b[0m | \u001b[0m 0.841   \u001b[0m | \u001b[0m 0.8067  \u001b[0m | \u001b[0m 0.316   \u001b[0m | \u001b[0m 3.676   \u001b[0m | \u001b[0m 2.887   \u001b[0m | \u001b[0m 0.2563  \u001b[0m | \u001b[0m 9.033   \u001b[0m | \u001b[0m 31.64   \u001b[0m | \u001b[0m 0.05765 \u001b[0m | \u001b[0m 300.8   \u001b[0m | \u001b[0m 44.01   \u001b[0m |\n"
          ],
          "name": "stdout"
        },
        {
          "output_type": "stream",
          "text": [
            "/usr/local/lib/python3.6/dist-packages/lightgbm/engine.py:430: UserWarning: Found `num_iterations` in params. Will use it instead of argument\n",
            "  warnings.warn(\"Found `{}` in params. Will use it instead of argument\".format(alias))\n",
            "/usr/local/lib/python3.6/dist-packages/lightgbm/engine.py:435: UserWarning: Found `early_stopping_round` in params. Will use it instead of argument\n",
            "  warnings.warn(\"Found `{}` in params. Will use it instead of argument\".format(alias))\n"
          ],
          "name": "stderr"
        },
        {
          "output_type": "stream",
          "text": [
            "| \u001b[0m 12      \u001b[0m | \u001b[0m 0.8372  \u001b[0m | \u001b[0m 0.6683  \u001b[0m | \u001b[0m 0.7771  \u001b[0m | \u001b[0m 3.497   \u001b[0m | \u001b[0m 0.8923  \u001b[0m | \u001b[0m 0.8157  \u001b[0m | \u001b[0m 7.776   \u001b[0m | \u001b[0m 44.65   \u001b[0m | \u001b[0m 0.05855 \u001b[0m | \u001b[0m 893.6   \u001b[0m | \u001b[0m 38.54   \u001b[0m |\n"
          ],
          "name": "stdout"
        },
        {
          "output_type": "stream",
          "text": [
            "/usr/local/lib/python3.6/dist-packages/lightgbm/engine.py:430: UserWarning: Found `num_iterations` in params. Will use it instead of argument\n",
            "  warnings.warn(\"Found `{}` in params. Will use it instead of argument\".format(alias))\n",
            "/usr/local/lib/python3.6/dist-packages/lightgbm/engine.py:435: UserWarning: Found `early_stopping_round` in params. Will use it instead of argument\n",
            "  warnings.warn(\"Found `{}` in params. Will use it instead of argument\".format(alias))\n"
          ],
          "name": "stderr"
        },
        {
          "output_type": "stream",
          "text": [
            "| \u001b[0m 13      \u001b[0m | \u001b[0m 0.8408  \u001b[0m | \u001b[0m 0.8352  \u001b[0m | \u001b[0m 0.5011  \u001b[0m | \u001b[0m 4.78    \u001b[0m | \u001b[0m 1.932   \u001b[0m | \u001b[0m 0.4296  \u001b[0m | \u001b[0m 9.245   \u001b[0m | \u001b[0m 5.864   \u001b[0m | \u001b[0m 0.03086 \u001b[0m | \u001b[0m 694.2   \u001b[0m | \u001b[0m 30.09   \u001b[0m |\n"
          ],
          "name": "stdout"
        },
        {
          "output_type": "stream",
          "text": [
            "/usr/local/lib/python3.6/dist-packages/lightgbm/engine.py:430: UserWarning: Found `num_iterations` in params. Will use it instead of argument\n",
            "  warnings.warn(\"Found `{}` in params. Will use it instead of argument\".format(alias))\n",
            "/usr/local/lib/python3.6/dist-packages/lightgbm/engine.py:435: UserWarning: Found `early_stopping_round` in params. Will use it instead of argument\n",
            "  warnings.warn(\"Found `{}` in params. Will use it instead of argument\".format(alias))\n"
          ],
          "name": "stderr"
        },
        {
          "output_type": "stream",
          "text": [
            "| \u001b[0m 14      \u001b[0m | \u001b[0m 0.8412  \u001b[0m | \u001b[0m 0.7708  \u001b[0m | \u001b[0m 0.443   \u001b[0m | \u001b[0m 0.6774  \u001b[0m | \u001b[0m 0.8948  \u001b[0m | \u001b[0m 0.5743  \u001b[0m | \u001b[0m 9.136   \u001b[0m | \u001b[0m 30.84   \u001b[0m | \u001b[0m 0.06567 \u001b[0m | \u001b[0m 686.9   \u001b[0m | \u001b[0m 33.06   \u001b[0m |\n"
          ],
          "name": "stdout"
        },
        {
          "output_type": "stream",
          "text": [
            "/usr/local/lib/python3.6/dist-packages/lightgbm/engine.py:430: UserWarning: Found `num_iterations` in params. Will use it instead of argument\n",
            "  warnings.warn(\"Found `{}` in params. Will use it instead of argument\".format(alias))\n",
            "/usr/local/lib/python3.6/dist-packages/lightgbm/engine.py:435: UserWarning: Found `early_stopping_round` in params. Will use it instead of argument\n",
            "  warnings.warn(\"Found `{}` in params. Will use it instead of argument\".format(alias))\n"
          ],
          "name": "stderr"
        },
        {
          "output_type": "stream",
          "text": [
            "| \u001b[0m 15      \u001b[0m | \u001b[0m 0.8384  \u001b[0m | \u001b[0m 0.9379  \u001b[0m | \u001b[0m 0.394   \u001b[0m | \u001b[0m 2.179   \u001b[0m | \u001b[0m 2.676   \u001b[0m | \u001b[0m 0.8081  \u001b[0m | \u001b[0m 9.927   \u001b[0m | \u001b[0m 9.51    \u001b[0m | \u001b[0m 0.09203 \u001b[0m | \u001b[0m 742.8   \u001b[0m | \u001b[0m 44.98   \u001b[0m |\n"
          ],
          "name": "stdout"
        },
        {
          "output_type": "stream",
          "text": [
            "/usr/local/lib/python3.6/dist-packages/lightgbm/engine.py:430: UserWarning: Found `num_iterations` in params. Will use it instead of argument\n",
            "  warnings.warn(\"Found `{}` in params. Will use it instead of argument\".format(alias))\n",
            "/usr/local/lib/python3.6/dist-packages/lightgbm/engine.py:435: UserWarning: Found `early_stopping_round` in params. Will use it instead of argument\n",
            "  warnings.warn(\"Found `{}` in params. Will use it instead of argument\".format(alias))\n"
          ],
          "name": "stderr"
        },
        {
          "output_type": "stream",
          "text": [
            "| \u001b[0m 16      \u001b[0m | \u001b[0m 0.8393  \u001b[0m | \u001b[0m 0.9236  \u001b[0m | \u001b[0m 0.2823  \u001b[0m | \u001b[0m 2.109   \u001b[0m | \u001b[0m 0.5487  \u001b[0m | \u001b[0m 0.5224  \u001b[0m | \u001b[0m 7.461   \u001b[0m | \u001b[0m 42.85   \u001b[0m | \u001b[0m 0.09811 \u001b[0m | \u001b[0m 100.2   \u001b[0m | \u001b[0m 24.04   \u001b[0m |\n"
          ],
          "name": "stdout"
        },
        {
          "output_type": "stream",
          "text": [
            "/usr/local/lib/python3.6/dist-packages/lightgbm/engine.py:430: UserWarning: Found `num_iterations` in params. Will use it instead of argument\n",
            "  warnings.warn(\"Found `{}` in params. Will use it instead of argument\".format(alias))\n",
            "/usr/local/lib/python3.6/dist-packages/lightgbm/engine.py:435: UserWarning: Found `early_stopping_round` in params. Will use it instead of argument\n",
            "  warnings.warn(\"Found `{}` in params. Will use it instead of argument\".format(alias))\n"
          ],
          "name": "stderr"
        },
        {
          "output_type": "stream",
          "text": [
            "| \u001b[0m 17      \u001b[0m | \u001b[0m 0.8405  \u001b[0m | \u001b[0m 0.8097  \u001b[0m | \u001b[0m 0.8261  \u001b[0m | \u001b[0m 1.373   \u001b[0m | \u001b[0m 0.3887  \u001b[0m | \u001b[0m 0.01453 \u001b[0m | \u001b[0m 11.89   \u001b[0m | \u001b[0m 5.111   \u001b[0m | \u001b[0m 0.08054 \u001b[0m | \u001b[0m 106.2   \u001b[0m | \u001b[0m 42.94   \u001b[0m |\n"
          ],
          "name": "stdout"
        },
        {
          "output_type": "stream",
          "text": [
            "/usr/local/lib/python3.6/dist-packages/lightgbm/engine.py:430: UserWarning: Found `num_iterations` in params. Will use it instead of argument\n",
            "  warnings.warn(\"Found `{}` in params. Will use it instead of argument\".format(alias))\n",
            "/usr/local/lib/python3.6/dist-packages/lightgbm/engine.py:435: UserWarning: Found `early_stopping_round` in params. Will use it instead of argument\n",
            "  warnings.warn(\"Found `{}` in params. Will use it instead of argument\".format(alias))\n"
          ],
          "name": "stderr"
        },
        {
          "output_type": "stream",
          "text": [
            "| \u001b[0m 18      \u001b[0m | \u001b[0m 0.8407  \u001b[0m | \u001b[0m 0.8289  \u001b[0m | \u001b[0m 0.4846  \u001b[0m | \u001b[0m 2.739   \u001b[0m | \u001b[0m 2.216   \u001b[0m | \u001b[0m 0.5279  \u001b[0m | \u001b[0m 5.15    \u001b[0m | \u001b[0m 6.658   \u001b[0m | \u001b[0m 0.05156 \u001b[0m | \u001b[0m 102.6   \u001b[0m | \u001b[0m 31.26   \u001b[0m |\n"
          ],
          "name": "stdout"
        },
        {
          "output_type": "stream",
          "text": [
            "/usr/local/lib/python3.6/dist-packages/lightgbm/engine.py:430: UserWarning: Found `num_iterations` in params. Will use it instead of argument\n",
            "  warnings.warn(\"Found `{}` in params. Will use it instead of argument\".format(alias))\n",
            "/usr/local/lib/python3.6/dist-packages/lightgbm/engine.py:435: UserWarning: Found `early_stopping_round` in params. Will use it instead of argument\n",
            "  warnings.warn(\"Found `{}` in params. Will use it instead of argument\".format(alias))\n"
          ],
          "name": "stderr"
        },
        {
          "output_type": "stream",
          "text": [
            "| \u001b[0m 19      \u001b[0m | \u001b[0m 0.8334  \u001b[0m | \u001b[0m 0.9739  \u001b[0m | \u001b[0m 0.2955  \u001b[0m | \u001b[0m 0.3938  \u001b[0m | \u001b[0m 1.161   \u001b[0m | \u001b[0m 0.01755 \u001b[0m | \u001b[0m 10.91   \u001b[0m | \u001b[0m 5.025   \u001b[0m | \u001b[0m 0.02347 \u001b[0m | \u001b[0m 115.6   \u001b[0m | \u001b[0m 25.27   \u001b[0m |\n"
          ],
          "name": "stdout"
        },
        {
          "output_type": "stream",
          "text": [
            "/usr/local/lib/python3.6/dist-packages/lightgbm/engine.py:430: UserWarning: Found `num_iterations` in params. Will use it instead of argument\n",
            "  warnings.warn(\"Found `{}` in params. Will use it instead of argument\".format(alias))\n",
            "/usr/local/lib/python3.6/dist-packages/lightgbm/engine.py:435: UserWarning: Found `early_stopping_round` in params. Will use it instead of argument\n",
            "  warnings.warn(\"Found `{}` in params. Will use it instead of argument\".format(alias))\n"
          ],
          "name": "stderr"
        },
        {
          "output_type": "stream",
          "text": [
            "| \u001b[0m 20      \u001b[0m | \u001b[0m 0.8391  \u001b[0m | \u001b[0m 0.4676  \u001b[0m | \u001b[0m 0.1129  \u001b[0m | \u001b[0m 2.529   \u001b[0m | \u001b[0m 2.478   \u001b[0m | \u001b[0m 0.4889  \u001b[0m | \u001b[0m 10.92   \u001b[0m | \u001b[0m 49.39   \u001b[0m | \u001b[0m 0.05595 \u001b[0m | \u001b[0m 998.2   \u001b[0m | \u001b[0m 43.92   \u001b[0m |\n"
          ],
          "name": "stdout"
        },
        {
          "output_type": "stream",
          "text": [
            "/usr/local/lib/python3.6/dist-packages/lightgbm/engine.py:430: UserWarning: Found `num_iterations` in params. Will use it instead of argument\n",
            "  warnings.warn(\"Found `{}` in params. Will use it instead of argument\".format(alias))\n",
            "/usr/local/lib/python3.6/dist-packages/lightgbm/engine.py:435: UserWarning: Found `early_stopping_round` in params. Will use it instead of argument\n",
            "  warnings.warn(\"Found `{}` in params. Will use it instead of argument\".format(alias))\n"
          ],
          "name": "stderr"
        },
        {
          "output_type": "stream",
          "text": [
            "| \u001b[0m 21      \u001b[0m | \u001b[0m 0.8408  \u001b[0m | \u001b[0m 0.5057  \u001b[0m | \u001b[0m 0.3721  \u001b[0m | \u001b[0m 4.824   \u001b[0m | \u001b[0m 0.7465  \u001b[0m | \u001b[0m 0.5666  \u001b[0m | \u001b[0m 6.117   \u001b[0m | \u001b[0m 47.11   \u001b[0m | \u001b[0m 0.05409 \u001b[0m | \u001b[0m 104.1   \u001b[0m | \u001b[0m 44.14   \u001b[0m |\n"
          ],
          "name": "stdout"
        },
        {
          "output_type": "stream",
          "text": [
            "/usr/local/lib/python3.6/dist-packages/lightgbm/engine.py:430: UserWarning: Found `num_iterations` in params. Will use it instead of argument\n",
            "  warnings.warn(\"Found `{}` in params. Will use it instead of argument\".format(alias))\n",
            "/usr/local/lib/python3.6/dist-packages/lightgbm/engine.py:435: UserWarning: Found `early_stopping_round` in params. Will use it instead of argument\n",
            "  warnings.warn(\"Found `{}` in params. Will use it instead of argument\".format(alias))\n"
          ],
          "name": "stderr"
        },
        {
          "output_type": "stream",
          "text": [
            "| \u001b[0m 22      \u001b[0m | \u001b[0m 0.8401  \u001b[0m | \u001b[0m 0.493   \u001b[0m | \u001b[0m 0.7541  \u001b[0m | \u001b[0m 1.099   \u001b[0m | \u001b[0m 0.1913  \u001b[0m | \u001b[0m 0.1565  \u001b[0m | \u001b[0m 7.771   \u001b[0m | \u001b[0m 6.119   \u001b[0m | \u001b[0m 0.04783 \u001b[0m | \u001b[0m 996.9   \u001b[0m | \u001b[0m 44.08   \u001b[0m |\n"
          ],
          "name": "stdout"
        },
        {
          "output_type": "stream",
          "text": [
            "/usr/local/lib/python3.6/dist-packages/lightgbm/engine.py:430: UserWarning: Found `num_iterations` in params. Will use it instead of argument\n",
            "  warnings.warn(\"Found `{}` in params. Will use it instead of argument\".format(alias))\n",
            "/usr/local/lib/python3.6/dist-packages/lightgbm/engine.py:435: UserWarning: Found `early_stopping_round` in params. Will use it instead of argument\n",
            "  warnings.warn(\"Found `{}` in params. Will use it instead of argument\".format(alias))\n"
          ],
          "name": "stderr"
        },
        {
          "output_type": "stream",
          "text": [
            "| \u001b[0m 23      \u001b[0m | \u001b[0m 0.8401  \u001b[0m | \u001b[0m 0.9972  \u001b[0m | \u001b[0m 0.5747  \u001b[0m | \u001b[0m 4.554   \u001b[0m | \u001b[0m 1.884   \u001b[0m | \u001b[0m 0.3491  \u001b[0m | \u001b[0m 5.762   \u001b[0m | \u001b[0m 49.79   \u001b[0m | \u001b[0m 0.004105\u001b[0m | \u001b[0m 489.4   \u001b[0m | \u001b[0m 44.61   \u001b[0m |\n"
          ],
          "name": "stdout"
        },
        {
          "output_type": "stream",
          "text": [
            "/usr/local/lib/python3.6/dist-packages/lightgbm/engine.py:430: UserWarning: Found `num_iterations` in params. Will use it instead of argument\n",
            "  warnings.warn(\"Found `{}` in params. Will use it instead of argument\".format(alias))\n",
            "/usr/local/lib/python3.6/dist-packages/lightgbm/engine.py:435: UserWarning: Found `early_stopping_round` in params. Will use it instead of argument\n",
            "  warnings.warn(\"Found `{}` in params. Will use it instead of argument\".format(alias))\n"
          ],
          "name": "stderr"
        },
        {
          "output_type": "stream",
          "text": [
            "| \u001b[0m 24      \u001b[0m | \u001b[0m 0.8384  \u001b[0m | \u001b[0m 0.5349  \u001b[0m | \u001b[0m 0.1109  \u001b[0m | \u001b[0m 4.586   \u001b[0m | \u001b[0m 0.3381  \u001b[0m | \u001b[0m 0.89    \u001b[0m | \u001b[0m 5.163   \u001b[0m | \u001b[0m 49.81   \u001b[0m | \u001b[0m 0.01051 \u001b[0m | \u001b[0m 583.5   \u001b[0m | \u001b[0m 43.6    \u001b[0m |\n"
          ],
          "name": "stdout"
        },
        {
          "output_type": "stream",
          "text": [
            "/usr/local/lib/python3.6/dist-packages/lightgbm/engine.py:430: UserWarning: Found `num_iterations` in params. Will use it instead of argument\n",
            "  warnings.warn(\"Found `{}` in params. Will use it instead of argument\".format(alias))\n",
            "/usr/local/lib/python3.6/dist-packages/lightgbm/engine.py:435: UserWarning: Found `early_stopping_round` in params. Will use it instead of argument\n",
            "  warnings.warn(\"Found `{}` in params. Will use it instead of argument\".format(alias))\n"
          ],
          "name": "stderr"
        },
        {
          "output_type": "stream",
          "text": [
            "| \u001b[0m 25      \u001b[0m | \u001b[0m 0.8405  \u001b[0m | \u001b[0m 0.4623  \u001b[0m | \u001b[0m 0.7834  \u001b[0m | \u001b[0m 1.033   \u001b[0m | \u001b[0m 1.338   \u001b[0m | \u001b[0m 0.1365  \u001b[0m | \u001b[0m 9.348   \u001b[0m | \u001b[0m 8.852   \u001b[0m | \u001b[0m 0.04912 \u001b[0m | \u001b[0m 805.2   \u001b[0m | \u001b[0m 43.24   \u001b[0m |\n"
          ],
          "name": "stdout"
        },
        {
          "output_type": "stream",
          "text": [
            "/usr/local/lib/python3.6/dist-packages/lightgbm/engine.py:430: UserWarning: Found `num_iterations` in params. Will use it instead of argument\n",
            "  warnings.warn(\"Found `{}` in params. Will use it instead of argument\".format(alias))\n",
            "/usr/local/lib/python3.6/dist-packages/lightgbm/engine.py:435: UserWarning: Found `early_stopping_round` in params. Will use it instead of argument\n",
            "  warnings.warn(\"Found `{}` in params. Will use it instead of argument\".format(alias))\n"
          ],
          "name": "stderr"
        },
        {
          "output_type": "stream",
          "text": [
            "| \u001b[0m 26      \u001b[0m | \u001b[0m 0.8409  \u001b[0m | \u001b[0m 0.7325  \u001b[0m | \u001b[0m 0.4209  \u001b[0m | \u001b[0m 3.309   \u001b[0m | \u001b[0m 0.6557  \u001b[0m | \u001b[0m 0.8088  \u001b[0m | \u001b[0m 11.15   \u001b[0m | \u001b[0m 5.596   \u001b[0m | \u001b[0m 0.004642\u001b[0m | \u001b[0m 998.1   \u001b[0m | \u001b[0m 44.76   \u001b[0m |\n"
          ],
          "name": "stdout"
        },
        {
          "output_type": "stream",
          "text": [
            "/usr/local/lib/python3.6/dist-packages/lightgbm/engine.py:430: UserWarning: Found `num_iterations` in params. Will use it instead of argument\n",
            "  warnings.warn(\"Found `{}` in params. Will use it instead of argument\".format(alias))\n",
            "/usr/local/lib/python3.6/dist-packages/lightgbm/engine.py:435: UserWarning: Found `early_stopping_round` in params. Will use it instead of argument\n",
            "  warnings.warn(\"Found `{}` in params. Will use it instead of argument\".format(alias))\n"
          ],
          "name": "stderr"
        },
        {
          "output_type": "stream",
          "text": [
            "| \u001b[0m 27      \u001b[0m | \u001b[0m 0.8401  \u001b[0m | \u001b[0m 0.6759  \u001b[0m | \u001b[0m 0.6181  \u001b[0m | \u001b[0m 0.7167  \u001b[0m | \u001b[0m 2.573   \u001b[0m | \u001b[0m 0.4442  \u001b[0m | \u001b[0m 6.168   \u001b[0m | \u001b[0m 7.334   \u001b[0m | \u001b[0m 0.05485 \u001b[0m | \u001b[0m 999.0   \u001b[0m | \u001b[0m 26.72   \u001b[0m |\n"
          ],
          "name": "stdout"
        },
        {
          "output_type": "stream",
          "text": [
            "/usr/local/lib/python3.6/dist-packages/lightgbm/engine.py:430: UserWarning: Found `num_iterations` in params. Will use it instead of argument\n",
            "  warnings.warn(\"Found `{}` in params. Will use it instead of argument\".format(alias))\n",
            "/usr/local/lib/python3.6/dist-packages/lightgbm/engine.py:435: UserWarning: Found `early_stopping_round` in params. Will use it instead of argument\n",
            "  warnings.warn(\"Found `{}` in params. Will use it instead of argument\".format(alias))\n"
          ],
          "name": "stderr"
        },
        {
          "output_type": "stream",
          "text": [
            "| \u001b[0m 28      \u001b[0m | \u001b[0m 0.8353  \u001b[0m | \u001b[0m 0.5453  \u001b[0m | \u001b[0m 0.8775  \u001b[0m | \u001b[0m 1.267   \u001b[0m | \u001b[0m 0.3863  \u001b[0m | \u001b[0m 0.5931  \u001b[0m | \u001b[0m 8.466   \u001b[0m | \u001b[0m 6.53    \u001b[0m | \u001b[0m 0.0155  \u001b[0m | \u001b[0m 995.9   \u001b[0m | \u001b[0m 44.11   \u001b[0m |\n"
          ],
          "name": "stdout"
        },
        {
          "output_type": "stream",
          "text": [
            "/usr/local/lib/python3.6/dist-packages/lightgbm/engine.py:430: UserWarning: Found `num_iterations` in params. Will use it instead of argument\n",
            "  warnings.warn(\"Found `{}` in params. Will use it instead of argument\".format(alias))\n",
            "/usr/local/lib/python3.6/dist-packages/lightgbm/engine.py:435: UserWarning: Found `early_stopping_round` in params. Will use it instead of argument\n",
            "  warnings.warn(\"Found `{}` in params. Will use it instead of argument\".format(alias))\n"
          ],
          "name": "stderr"
        },
        {
          "output_type": "stream",
          "text": [
            "| \u001b[0m 29      \u001b[0m | \u001b[0m 0.8407  \u001b[0m | \u001b[0m 0.7117  \u001b[0m | \u001b[0m 0.5371  \u001b[0m | \u001b[0m 2.805   \u001b[0m | \u001b[0m 1.633   \u001b[0m | \u001b[0m 0.623   \u001b[0m | \u001b[0m 11.55   \u001b[0m | \u001b[0m 49.85   \u001b[0m | \u001b[0m 0.07298 \u001b[0m | \u001b[0m 989.1   \u001b[0m | \u001b[0m 24.51   \u001b[0m |\n"
          ],
          "name": "stdout"
        },
        {
          "output_type": "stream",
          "text": [
            "/usr/local/lib/python3.6/dist-packages/lightgbm/engine.py:430: UserWarning: Found `num_iterations` in params. Will use it instead of argument\n",
            "  warnings.warn(\"Found `{}` in params. Will use it instead of argument\".format(alias))\n",
            "/usr/local/lib/python3.6/dist-packages/lightgbm/engine.py:435: UserWarning: Found `early_stopping_round` in params. Will use it instead of argument\n",
            "  warnings.warn(\"Found `{}` in params. Will use it instead of argument\".format(alias))\n"
          ],
          "name": "stderr"
        },
        {
          "output_type": "stream",
          "text": [
            "| \u001b[0m 30      \u001b[0m | \u001b[0m 0.8393  \u001b[0m | \u001b[0m 0.7167  \u001b[0m | \u001b[0m 0.575   \u001b[0m | \u001b[0m 4.61    \u001b[0m | \u001b[0m 2.926   \u001b[0m | \u001b[0m 0.4405  \u001b[0m | \u001b[0m 5.023   \u001b[0m | \u001b[0m 49.95   \u001b[0m | \u001b[0m 0.04701 \u001b[0m | \u001b[0m 991.2   \u001b[0m | \u001b[0m 24.96   \u001b[0m |\n"
          ],
          "name": "stdout"
        },
        {
          "output_type": "stream",
          "text": [
            "/usr/local/lib/python3.6/dist-packages/lightgbm/engine.py:430: UserWarning: Found `num_iterations` in params. Will use it instead of argument\n",
            "  warnings.warn(\"Found `{}` in params. Will use it instead of argument\".format(alias))\n",
            "/usr/local/lib/python3.6/dist-packages/lightgbm/engine.py:435: UserWarning: Found `early_stopping_round` in params. Will use it instead of argument\n",
            "  warnings.warn(\"Found `{}` in params. Will use it instead of argument\".format(alias))\n"
          ],
          "name": "stderr"
        },
        {
          "output_type": "stream",
          "text": [
            "| \u001b[0m 31      \u001b[0m | \u001b[0m 0.8401  \u001b[0m | \u001b[0m 0.7005  \u001b[0m | \u001b[0m 0.694   \u001b[0m | \u001b[0m 0.1094  \u001b[0m | \u001b[0m 2.135   \u001b[0m | \u001b[0m 0.3707  \u001b[0m | \u001b[0m 11.78   \u001b[0m | \u001b[0m 49.85   \u001b[0m | \u001b[0m 0.07603 \u001b[0m | \u001b[0m 994.8   \u001b[0m | \u001b[0m 43.32   \u001b[0m |\n"
          ],
          "name": "stdout"
        },
        {
          "output_type": "stream",
          "text": [
            "/usr/local/lib/python3.6/dist-packages/lightgbm/engine.py:430: UserWarning: Found `num_iterations` in params. Will use it instead of argument\n",
            "  warnings.warn(\"Found `{}` in params. Will use it instead of argument\".format(alias))\n",
            "/usr/local/lib/python3.6/dist-packages/lightgbm/engine.py:435: UserWarning: Found `early_stopping_round` in params. Will use it instead of argument\n",
            "  warnings.warn(\"Found `{}` in params. Will use it instead of argument\".format(alias))\n"
          ],
          "name": "stderr"
        },
        {
          "output_type": "stream",
          "text": [
            "| \u001b[0m 32      \u001b[0m | \u001b[0m 0.839   \u001b[0m | \u001b[0m 0.6212  \u001b[0m | \u001b[0m 0.1294  \u001b[0m | \u001b[0m 3.027   \u001b[0m | \u001b[0m 2.864   \u001b[0m | \u001b[0m 0.444   \u001b[0m | \u001b[0m 11.72   \u001b[0m | \u001b[0m 49.89   \u001b[0m | \u001b[0m 0.04075 \u001b[0m | \u001b[0m 113.9   \u001b[0m | \u001b[0m 39.16   \u001b[0m |\n"
          ],
          "name": "stdout"
        },
        {
          "output_type": "stream",
          "text": [
            "/usr/local/lib/python3.6/dist-packages/lightgbm/engine.py:430: UserWarning: Found `num_iterations` in params. Will use it instead of argument\n",
            "  warnings.warn(\"Found `{}` in params. Will use it instead of argument\".format(alias))\n",
            "/usr/local/lib/python3.6/dist-packages/lightgbm/engine.py:435: UserWarning: Found `early_stopping_round` in params. Will use it instead of argument\n",
            "  warnings.warn(\"Found `{}` in params. Will use it instead of argument\".format(alias))\n"
          ],
          "name": "stderr"
        },
        {
          "output_type": "stream",
          "text": [
            "| \u001b[0m 33      \u001b[0m | \u001b[0m 0.8405  \u001b[0m | \u001b[0m 0.4445  \u001b[0m | \u001b[0m 0.503   \u001b[0m | \u001b[0m 4.68    \u001b[0m | \u001b[0m 0.8116  \u001b[0m | \u001b[0m 0.5363  \u001b[0m | \u001b[0m 5.078   \u001b[0m | \u001b[0m 49.61   \u001b[0m | \u001b[0m 0.0217  \u001b[0m | \u001b[0m 999.5   \u001b[0m | \u001b[0m 44.07   \u001b[0m |\n"
          ],
          "name": "stdout"
        },
        {
          "output_type": "stream",
          "text": [
            "/usr/local/lib/python3.6/dist-packages/lightgbm/engine.py:430: UserWarning: Found `num_iterations` in params. Will use it instead of argument\n",
            "  warnings.warn(\"Found `{}` in params. Will use it instead of argument\".format(alias))\n",
            "/usr/local/lib/python3.6/dist-packages/lightgbm/engine.py:435: UserWarning: Found `early_stopping_round` in params. Will use it instead of argument\n",
            "  warnings.warn(\"Found `{}` in params. Will use it instead of argument\".format(alias))\n"
          ],
          "name": "stderr"
        },
        {
          "output_type": "stream",
          "text": [
            "| \u001b[0m 34      \u001b[0m | \u001b[0m 0.8391  \u001b[0m | \u001b[0m 0.5124  \u001b[0m | \u001b[0m 0.1134  \u001b[0m | \u001b[0m 0.8384  \u001b[0m | \u001b[0m 1.648   \u001b[0m | \u001b[0m 0.303   \u001b[0m | \u001b[0m 8.085   \u001b[0m | \u001b[0m 48.74   \u001b[0m | \u001b[0m 0.07232 \u001b[0m | \u001b[0m 992.6   \u001b[0m | \u001b[0m 24.56   \u001b[0m |\n"
          ],
          "name": "stdout"
        },
        {
          "output_type": "stream",
          "text": [
            "/usr/local/lib/python3.6/dist-packages/lightgbm/engine.py:430: UserWarning: Found `num_iterations` in params. Will use it instead of argument\n",
            "  warnings.warn(\"Found `{}` in params. Will use it instead of argument\".format(alias))\n",
            "/usr/local/lib/python3.6/dist-packages/lightgbm/engine.py:435: UserWarning: Found `early_stopping_round` in params. Will use it instead of argument\n",
            "  warnings.warn(\"Found `{}` in params. Will use it instead of argument\".format(alias))\n"
          ],
          "name": "stderr"
        },
        {
          "output_type": "stream",
          "text": [
            "| \u001b[0m 35      \u001b[0m | \u001b[0m 0.841   \u001b[0m | \u001b[0m 0.7792  \u001b[0m | \u001b[0m 0.4614  \u001b[0m | \u001b[0m 4.905   \u001b[0m | \u001b[0m 2.482   \u001b[0m | \u001b[0m 0.441   \u001b[0m | \u001b[0m 5.623   \u001b[0m | \u001b[0m 49.36   \u001b[0m | \u001b[0m 0.002182\u001b[0m | \u001b[0m 977.2   \u001b[0m | \u001b[0m 42.3    \u001b[0m |\n"
          ],
          "name": "stdout"
        },
        {
          "output_type": "stream",
          "text": [
            "/usr/local/lib/python3.6/dist-packages/lightgbm/engine.py:430: UserWarning: Found `num_iterations` in params. Will use it instead of argument\n",
            "  warnings.warn(\"Found `{}` in params. Will use it instead of argument\".format(alias))\n",
            "/usr/local/lib/python3.6/dist-packages/lightgbm/engine.py:435: UserWarning: Found `early_stopping_round` in params. Will use it instead of argument\n",
            "  warnings.warn(\"Found `{}` in params. Will use it instead of argument\".format(alias))\n"
          ],
          "name": "stderr"
        },
        {
          "output_type": "stream",
          "text": [
            "| \u001b[0m 36      \u001b[0m | \u001b[0m 0.8388  \u001b[0m | \u001b[0m 0.4464  \u001b[0m | \u001b[0m 0.2607  \u001b[0m | \u001b[0m 2.647   \u001b[0m | \u001b[0m 1.753   \u001b[0m | \u001b[0m 0.6094  \u001b[0m | \u001b[0m 7.79    \u001b[0m | \u001b[0m 48.64   \u001b[0m | \u001b[0m 0.06481 \u001b[0m | \u001b[0m 995.5   \u001b[0m | \u001b[0m 44.94   \u001b[0m |\n"
          ],
          "name": "stdout"
        },
        {
          "output_type": "stream",
          "text": [
            "/usr/local/lib/python3.6/dist-packages/lightgbm/engine.py:430: UserWarning: Found `num_iterations` in params. Will use it instead of argument\n",
            "  warnings.warn(\"Found `{}` in params. Will use it instead of argument\".format(alias))\n",
            "/usr/local/lib/python3.6/dist-packages/lightgbm/engine.py:435: UserWarning: Found `early_stopping_round` in params. Will use it instead of argument\n",
            "  warnings.warn(\"Found `{}` in params. Will use it instead of argument\".format(alias))\n"
          ],
          "name": "stderr"
        },
        {
          "output_type": "stream",
          "text": [
            "| \u001b[0m 37      \u001b[0m | \u001b[0m 0.841   \u001b[0m | \u001b[0m 0.807   \u001b[0m | \u001b[0m 0.3522  \u001b[0m | \u001b[0m 2.049   \u001b[0m | \u001b[0m 2.907   \u001b[0m | \u001b[0m 0.4614  \u001b[0m | \u001b[0m 5.114   \u001b[0m | \u001b[0m 49.0    \u001b[0m | \u001b[0m 0.05001 \u001b[0m | \u001b[0m 109.0   \u001b[0m | \u001b[0m 44.93   \u001b[0m |\n"
          ],
          "name": "stdout"
        },
        {
          "output_type": "stream",
          "text": [
            "/usr/local/lib/python3.6/dist-packages/lightgbm/engine.py:430: UserWarning: Found `num_iterations` in params. Will use it instead of argument\n",
            "  warnings.warn(\"Found `{}` in params. Will use it instead of argument\".format(alias))\n",
            "/usr/local/lib/python3.6/dist-packages/lightgbm/engine.py:435: UserWarning: Found `early_stopping_round` in params. Will use it instead of argument\n",
            "  warnings.warn(\"Found `{}` in params. Will use it instead of argument\".format(alias))\n"
          ],
          "name": "stderr"
        },
        {
          "output_type": "stream",
          "text": [
            "| \u001b[0m 38      \u001b[0m | \u001b[0m 0.8413  \u001b[0m | \u001b[0m 0.5419  \u001b[0m | \u001b[0m 0.7417  \u001b[0m | \u001b[0m 4.825   \u001b[0m | \u001b[0m 2.301   \u001b[0m | \u001b[0m 0.0945  \u001b[0m | \u001b[0m 9.699   \u001b[0m | \u001b[0m 48.26   \u001b[0m | \u001b[0m 0.02231 \u001b[0m | \u001b[0m 124.6   \u001b[0m | \u001b[0m 44.91   \u001b[0m |\n"
          ],
          "name": "stdout"
        },
        {
          "output_type": "stream",
          "text": [
            "/usr/local/lib/python3.6/dist-packages/lightgbm/engine.py:430: UserWarning: Found `num_iterations` in params. Will use it instead of argument\n",
            "  warnings.warn(\"Found `{}` in params. Will use it instead of argument\".format(alias))\n",
            "/usr/local/lib/python3.6/dist-packages/lightgbm/engine.py:435: UserWarning: Found `early_stopping_round` in params. Will use it instead of argument\n",
            "  warnings.warn(\"Found `{}` in params. Will use it instead of argument\".format(alias))\n"
          ],
          "name": "stderr"
        },
        {
          "output_type": "stream",
          "text": [
            "| \u001b[0m 39      \u001b[0m | \u001b[0m 0.839   \u001b[0m | \u001b[0m 0.4434  \u001b[0m | \u001b[0m 0.5685  \u001b[0m | \u001b[0m 0.2175  \u001b[0m | \u001b[0m 2.896   \u001b[0m | \u001b[0m 0.7745  \u001b[0m | \u001b[0m 7.198   \u001b[0m | \u001b[0m 49.3    \u001b[0m | \u001b[0m 0.05518 \u001b[0m | \u001b[0m 102.1   \u001b[0m | \u001b[0m 44.91   \u001b[0m |\n"
          ],
          "name": "stdout"
        },
        {
          "output_type": "stream",
          "text": [
            "/usr/local/lib/python3.6/dist-packages/lightgbm/engine.py:430: UserWarning: Found `num_iterations` in params. Will use it instead of argument\n",
            "  warnings.warn(\"Found `{}` in params. Will use it instead of argument\".format(alias))\n",
            "/usr/local/lib/python3.6/dist-packages/lightgbm/engine.py:435: UserWarning: Found `early_stopping_round` in params. Will use it instead of argument\n",
            "  warnings.warn(\"Found `{}` in params. Will use it instead of argument\".format(alias))\n"
          ],
          "name": "stderr"
        },
        {
          "output_type": "stream",
          "text": [
            "| \u001b[0m 40      \u001b[0m | \u001b[0m 0.8407  \u001b[0m | \u001b[0m 0.8547  \u001b[0m | \u001b[0m 0.4975  \u001b[0m | \u001b[0m 4.09    \u001b[0m | \u001b[0m 0.5322  \u001b[0m | \u001b[0m 0.4291  \u001b[0m | \u001b[0m 6.644   \u001b[0m | \u001b[0m 47.28   \u001b[0m | \u001b[0m 0.04427 \u001b[0m | \u001b[0m 100.7   \u001b[0m | \u001b[0m 43.61   \u001b[0m |\n",
            "=================================================================================================================================================\n",
            "|   iter    |  target   | baggin... | featur... | lambda_l1 | lambda_l2 | learni... | max_depth | min_ch... | min_sp... | num_it... | num_le... |\n",
            "-------------------------------------------------------------------------------------------------------------------------------------------------\n"
          ],
          "name": "stdout"
        },
        {
          "output_type": "stream",
          "text": [
            "/usr/local/lib/python3.6/dist-packages/lightgbm/engine.py:430: UserWarning: Found `num_iterations` in params. Will use it instead of argument\n",
            "  warnings.warn(\"Found `{}` in params. Will use it instead of argument\".format(alias))\n",
            "/usr/local/lib/python3.6/dist-packages/lightgbm/engine.py:435: UserWarning: Found `early_stopping_round` in params. Will use it instead of argument\n",
            "  warnings.warn(\"Found `{}` in params. Will use it instead of argument\".format(alias))\n"
          ],
          "name": "stderr"
        },
        {
          "output_type": "stream",
          "text": [
            "| \u001b[0m 1       \u001b[0m | \u001b[0m 0.9426  \u001b[0m | \u001b[0m 0.7293  \u001b[0m | \u001b[0m 0.6722  \u001b[0m | \u001b[0m 3.014   \u001b[0m | \u001b[0m 1.635   \u001b[0m | \u001b[0m 0.4294  \u001b[0m | \u001b[0m 9.521   \u001b[0m | \u001b[0m 24.69   \u001b[0m | \u001b[0m 0.08929 \u001b[0m | \u001b[0m 967.3   \u001b[0m | \u001b[0m 32.05   \u001b[0m |\n"
          ],
          "name": "stdout"
        },
        {
          "output_type": "stream",
          "text": [
            "/usr/local/lib/python3.6/dist-packages/lightgbm/engine.py:430: UserWarning: Found `num_iterations` in params. Will use it instead of argument\n",
            "  warnings.warn(\"Found `{}` in params. Will use it instead of argument\".format(alias))\n",
            "/usr/local/lib/python3.6/dist-packages/lightgbm/engine.py:435: UserWarning: Found `early_stopping_round` in params. Will use it instead of argument\n",
            "  warnings.warn(\"Found `{}` in params. Will use it instead of argument\".format(alias))\n"
          ],
          "name": "stderr"
        },
        {
          "output_type": "stream",
          "text": [
            "| \u001b[95m 2       \u001b[0m | \u001b[95m 0.9451  \u001b[0m | \u001b[95m 0.875   \u001b[0m | \u001b[95m 0.5231  \u001b[0m | \u001b[95m 2.84    \u001b[0m | \u001b[95m 2.777   \u001b[0m | \u001b[95m 0.08033 \u001b[0m | \u001b[95m 5.61    \u001b[0m | \u001b[95m 5.91    \u001b[0m | \u001b[95m 0.08343 \u001b[0m | \u001b[95m 800.3   \u001b[0m | \u001b[95m 42.27   \u001b[0m |\n"
          ],
          "name": "stdout"
        },
        {
          "output_type": "stream",
          "text": [
            "/usr/local/lib/python3.6/dist-packages/lightgbm/engine.py:430: UserWarning: Found `num_iterations` in params. Will use it instead of argument\n",
            "  warnings.warn(\"Found `{}` in params. Will use it instead of argument\".format(alias))\n",
            "/usr/local/lib/python3.6/dist-packages/lightgbm/engine.py:435: UserWarning: Found `early_stopping_round` in params. Will use it instead of argument\n",
            "  warnings.warn(\"Found `{}` in params. Will use it instead of argument\".format(alias))\n"
          ],
          "name": "stderr"
        },
        {
          "output_type": "stream",
          "text": [
            "| \u001b[0m 3       \u001b[0m | \u001b[0m 0.9442  \u001b[0m | \u001b[0m 0.9872  \u001b[0m | \u001b[0m 0.7393  \u001b[0m | \u001b[0m 2.307   \u001b[0m | \u001b[0m 2.342   \u001b[0m | \u001b[0m 0.1271  \u001b[0m | \u001b[0m 9.479   \u001b[0m | \u001b[0m 11.45   \u001b[0m | \u001b[0m 0.09452 \u001b[0m | \u001b[0m 569.7   \u001b[0m | \u001b[0m 32.71   \u001b[0m |\n"
          ],
          "name": "stdout"
        },
        {
          "output_type": "stream",
          "text": [
            "/usr/local/lib/python3.6/dist-packages/lightgbm/engine.py:430: UserWarning: Found `num_iterations` in params. Will use it instead of argument\n",
            "  warnings.warn(\"Found `{}` in params. Will use it instead of argument\".format(alias))\n",
            "/usr/local/lib/python3.6/dist-packages/lightgbm/engine.py:435: UserWarning: Found `early_stopping_round` in params. Will use it instead of argument\n",
            "  warnings.warn(\"Found `{}` in params. Will use it instead of argument\".format(alias))\n"
          ],
          "name": "stderr"
        },
        {
          "output_type": "stream",
          "text": [
            "| \u001b[0m 4       \u001b[0m | \u001b[0m 0.9412  \u001b[0m | \u001b[0m 0.5587  \u001b[0m | \u001b[0m 0.7194  \u001b[0m | \u001b[0m 2.281   \u001b[0m | \u001b[0m 1.705   \u001b[0m | \u001b[0m 0.0286  \u001b[0m | \u001b[0m 9.323   \u001b[0m | \u001b[0m 32.54   \u001b[0m | \u001b[0m 0.06208 \u001b[0m | \u001b[0m 949.4   \u001b[0m | \u001b[0m 38.32   \u001b[0m |\n"
          ],
          "name": "stdout"
        },
        {
          "output_type": "stream",
          "text": [
            "/usr/local/lib/python3.6/dist-packages/lightgbm/engine.py:430: UserWarning: Found `num_iterations` in params. Will use it instead of argument\n",
            "  warnings.warn(\"Found `{}` in params. Will use it instead of argument\".format(alias))\n",
            "/usr/local/lib/python3.6/dist-packages/lightgbm/engine.py:435: UserWarning: Found `early_stopping_round` in params. Will use it instead of argument\n",
            "  warnings.warn(\"Found `{}` in params. Will use it instead of argument\".format(alias))\n"
          ],
          "name": "stderr"
        },
        {
          "output_type": "stream",
          "text": [
            "| \u001b[0m 5       \u001b[0m | \u001b[0m 0.943   \u001b[0m | \u001b[0m 0.6157  \u001b[0m | \u001b[0m 0.4496  \u001b[0m | \u001b[0m 3.488   \u001b[0m | \u001b[0m 0.1807  \u001b[0m | \u001b[0m 0.6701  \u001b[0m | \u001b[0m 9.694   \u001b[0m | \u001b[0m 14.47   \u001b[0m | \u001b[0m 0.01376 \u001b[0m | \u001b[0m 383.9   \u001b[0m | \u001b[0m 31.64   \u001b[0m |\n"
          ],
          "name": "stdout"
        },
        {
          "output_type": "stream",
          "text": [
            "/usr/local/lib/python3.6/dist-packages/lightgbm/engine.py:430: UserWarning: Found `num_iterations` in params. Will use it instead of argument\n",
            "  warnings.warn(\"Found `{}` in params. Will use it instead of argument\".format(alias))\n",
            "/usr/local/lib/python3.6/dist-packages/lightgbm/engine.py:435: UserWarning: Found `early_stopping_round` in params. Will use it instead of argument\n",
            "  warnings.warn(\"Found `{}` in params. Will use it instead of argument\".format(alias))\n"
          ],
          "name": "stderr"
        },
        {
          "output_type": "stream",
          "text": [
            "| \u001b[0m 6       \u001b[0m | \u001b[0m 0.9428  \u001b[0m | \u001b[0m 0.7421  \u001b[0m | \u001b[0m 0.4509  \u001b[0m | \u001b[0m 4.942   \u001b[0m | \u001b[0m 0.3061  \u001b[0m | \u001b[0m 0.2168  \u001b[0m | \u001b[0m 6.129   \u001b[0m | \u001b[0m 34.39   \u001b[0m | \u001b[0m 0.02608 \u001b[0m | \u001b[0m 519.7   \u001b[0m | \u001b[0m 29.13   \u001b[0m |\n"
          ],
          "name": "stdout"
        },
        {
          "output_type": "stream",
          "text": [
            "/usr/local/lib/python3.6/dist-packages/lightgbm/engine.py:430: UserWarning: Found `num_iterations` in params. Will use it instead of argument\n",
            "  warnings.warn(\"Found `{}` in params. Will use it instead of argument\".format(alias))\n",
            "/usr/local/lib/python3.6/dist-packages/lightgbm/engine.py:435: UserWarning: Found `early_stopping_round` in params. Will use it instead of argument\n",
            "  warnings.warn(\"Found `{}` in params. Will use it instead of argument\".format(alias))\n"
          ],
          "name": "stderr"
        },
        {
          "output_type": "stream",
          "text": [
            "| \u001b[0m 7       \u001b[0m | \u001b[0m 0.942   \u001b[0m | \u001b[0m 0.4954  \u001b[0m | \u001b[0m 0.1883  \u001b[0m | \u001b[0m 3.282   \u001b[0m | \u001b[0m 0.4145  \u001b[0m | \u001b[0m 0.2046  \u001b[0m | \u001b[0m 7.581   \u001b[0m | \u001b[0m 41.94   \u001b[0m | \u001b[0m 0.01061 \u001b[0m | \u001b[0m 854.2   \u001b[0m | \u001b[0m 26.02   \u001b[0m |\n"
          ],
          "name": "stdout"
        },
        {
          "output_type": "stream",
          "text": [
            "/usr/local/lib/python3.6/dist-packages/lightgbm/engine.py:430: UserWarning: Found `num_iterations` in params. Will use it instead of argument\n",
            "  warnings.warn(\"Found `{}` in params. Will use it instead of argument\".format(alias))\n",
            "/usr/local/lib/python3.6/dist-packages/lightgbm/engine.py:435: UserWarning: Found `early_stopping_round` in params. Will use it instead of argument\n",
            "  warnings.warn(\"Found `{}` in params. Will use it instead of argument\".format(alias))\n"
          ],
          "name": "stderr"
        },
        {
          "output_type": "stream",
          "text": [
            "| \u001b[0m 8       \u001b[0m | \u001b[0m 0.9436  \u001b[0m | \u001b[0m 0.9859  \u001b[0m | \u001b[0m 0.4749  \u001b[0m | \u001b[0m 4.884   \u001b[0m | \u001b[0m 1.815   \u001b[0m | \u001b[0m 0.7419  \u001b[0m | \u001b[0m 5.274   \u001b[0m | \u001b[0m 17.73   \u001b[0m | \u001b[0m 0.0129  \u001b[0m | \u001b[0m 366.5   \u001b[0m | \u001b[0m 26.49   \u001b[0m |\n"
          ],
          "name": "stdout"
        },
        {
          "output_type": "stream",
          "text": [
            "/usr/local/lib/python3.6/dist-packages/lightgbm/engine.py:430: UserWarning: Found `num_iterations` in params. Will use it instead of argument\n",
            "  warnings.warn(\"Found `{}` in params. Will use it instead of argument\".format(alias))\n",
            "/usr/local/lib/python3.6/dist-packages/lightgbm/engine.py:435: UserWarning: Found `early_stopping_round` in params. Will use it instead of argument\n",
            "  warnings.warn(\"Found `{}` in params. Will use it instead of argument\".format(alias))\n"
          ],
          "name": "stderr"
        },
        {
          "output_type": "stream",
          "text": [
            "| \u001b[0m 9       \u001b[0m | \u001b[0m 0.9417  \u001b[0m | \u001b[0m 0.5908  \u001b[0m | \u001b[0m 0.4314  \u001b[0m | \u001b[0m 0.3207  \u001b[0m | \u001b[0m 2.077   \u001b[0m | \u001b[0m 0.5709  \u001b[0m | \u001b[0m 6.858   \u001b[0m | \u001b[0m 28.55   \u001b[0m | \u001b[0m 0.0103  \u001b[0m | \u001b[0m 618.4   \u001b[0m | \u001b[0m 43.52   \u001b[0m |\n"
          ],
          "name": "stdout"
        },
        {
          "output_type": "stream",
          "text": [
            "/usr/local/lib/python3.6/dist-packages/lightgbm/engine.py:430: UserWarning: Found `num_iterations` in params. Will use it instead of argument\n",
            "  warnings.warn(\"Found `{}` in params. Will use it instead of argument\".format(alias))\n",
            "/usr/local/lib/python3.6/dist-packages/lightgbm/engine.py:435: UserWarning: Found `early_stopping_round` in params. Will use it instead of argument\n",
            "  warnings.warn(\"Found `{}` in params. Will use it instead of argument\".format(alias))\n"
          ],
          "name": "stderr"
        },
        {
          "output_type": "stream",
          "text": [
            "| \u001b[0m 10      \u001b[0m | \u001b[0m 0.9423  \u001b[0m | \u001b[0m 0.5911  \u001b[0m | \u001b[0m 0.6339  \u001b[0m | \u001b[0m 0.659   \u001b[0m | \u001b[0m 2.149   \u001b[0m | \u001b[0m 0.2965  \u001b[0m | \u001b[0m 6.282   \u001b[0m | \u001b[0m 31.39   \u001b[0m | \u001b[0m 0.002991\u001b[0m | \u001b[0m 846.0   \u001b[0m | \u001b[0m 24.1    \u001b[0m |\n"
          ],
          "name": "stdout"
        },
        {
          "output_type": "stream",
          "text": [
            "/usr/local/lib/python3.6/dist-packages/lightgbm/engine.py:430: UserWarning: Found `num_iterations` in params. Will use it instead of argument\n",
            "  warnings.warn(\"Found `{}` in params. Will use it instead of argument\".format(alias))\n",
            "/usr/local/lib/python3.6/dist-packages/lightgbm/engine.py:435: UserWarning: Found `early_stopping_round` in params. Will use it instead of argument\n",
            "  warnings.warn(\"Found `{}` in params. Will use it instead of argument\".format(alias))\n"
          ],
          "name": "stderr"
        },
        {
          "output_type": "stream",
          "text": [
            "| \u001b[0m 11      \u001b[0m | \u001b[0m 0.9434  \u001b[0m | \u001b[0m 0.8067  \u001b[0m | \u001b[0m 0.316   \u001b[0m | \u001b[0m 3.676   \u001b[0m | \u001b[0m 2.887   \u001b[0m | \u001b[0m 0.2563  \u001b[0m | \u001b[0m 9.033   \u001b[0m | \u001b[0m 31.64   \u001b[0m | \u001b[0m 0.05765 \u001b[0m | \u001b[0m 300.8   \u001b[0m | \u001b[0m 44.01   \u001b[0m |\n"
          ],
          "name": "stdout"
        },
        {
          "output_type": "stream",
          "text": [
            "/usr/local/lib/python3.6/dist-packages/lightgbm/engine.py:430: UserWarning: Found `num_iterations` in params. Will use it instead of argument\n",
            "  warnings.warn(\"Found `{}` in params. Will use it instead of argument\".format(alias))\n",
            "/usr/local/lib/python3.6/dist-packages/lightgbm/engine.py:435: UserWarning: Found `early_stopping_round` in params. Will use it instead of argument\n",
            "  warnings.warn(\"Found `{}` in params. Will use it instead of argument\".format(alias))\n"
          ],
          "name": "stderr"
        },
        {
          "output_type": "stream",
          "text": [
            "| \u001b[0m 12      \u001b[0m | \u001b[0m 0.9411  \u001b[0m | \u001b[0m 0.6683  \u001b[0m | \u001b[0m 0.7771  \u001b[0m | \u001b[0m 3.497   \u001b[0m | \u001b[0m 0.8923  \u001b[0m | \u001b[0m 0.8157  \u001b[0m | \u001b[0m 7.776   \u001b[0m | \u001b[0m 44.65   \u001b[0m | \u001b[0m 0.05855 \u001b[0m | \u001b[0m 893.6   \u001b[0m | \u001b[0m 38.54   \u001b[0m |\n"
          ],
          "name": "stdout"
        },
        {
          "output_type": "stream",
          "text": [
            "/usr/local/lib/python3.6/dist-packages/lightgbm/engine.py:430: UserWarning: Found `num_iterations` in params. Will use it instead of argument\n",
            "  warnings.warn(\"Found `{}` in params. Will use it instead of argument\".format(alias))\n",
            "/usr/local/lib/python3.6/dist-packages/lightgbm/engine.py:435: UserWarning: Found `early_stopping_round` in params. Will use it instead of argument\n",
            "  warnings.warn(\"Found `{}` in params. Will use it instead of argument\".format(alias))\n"
          ],
          "name": "stderr"
        },
        {
          "output_type": "stream",
          "text": [
            "| \u001b[0m 13      \u001b[0m | \u001b[0m 0.9449  \u001b[0m | \u001b[0m 0.8352  \u001b[0m | \u001b[0m 0.5011  \u001b[0m | \u001b[0m 4.78    \u001b[0m | \u001b[0m 1.932   \u001b[0m | \u001b[0m 0.4296  \u001b[0m | \u001b[0m 9.245   \u001b[0m | \u001b[0m 5.864   \u001b[0m | \u001b[0m 0.03086 \u001b[0m | \u001b[0m 694.2   \u001b[0m | \u001b[0m 30.09   \u001b[0m |\n"
          ],
          "name": "stdout"
        },
        {
          "output_type": "stream",
          "text": [
            "/usr/local/lib/python3.6/dist-packages/lightgbm/engine.py:430: UserWarning: Found `num_iterations` in params. Will use it instead of argument\n",
            "  warnings.warn(\"Found `{}` in params. Will use it instead of argument\".format(alias))\n",
            "/usr/local/lib/python3.6/dist-packages/lightgbm/engine.py:435: UserWarning: Found `early_stopping_round` in params. Will use it instead of argument\n",
            "  warnings.warn(\"Found `{}` in params. Will use it instead of argument\".format(alias))\n"
          ],
          "name": "stderr"
        },
        {
          "output_type": "stream",
          "text": [
            "| \u001b[0m 14      \u001b[0m | \u001b[0m 0.9417  \u001b[0m | \u001b[0m 0.7708  \u001b[0m | \u001b[0m 0.443   \u001b[0m | \u001b[0m 0.6774  \u001b[0m | \u001b[0m 0.8948  \u001b[0m | \u001b[0m 0.5743  \u001b[0m | \u001b[0m 9.136   \u001b[0m | \u001b[0m 30.84   \u001b[0m | \u001b[0m 0.06567 \u001b[0m | \u001b[0m 686.9   \u001b[0m | \u001b[0m 33.06   \u001b[0m |\n"
          ],
          "name": "stdout"
        },
        {
          "output_type": "stream",
          "text": [
            "/usr/local/lib/python3.6/dist-packages/lightgbm/engine.py:430: UserWarning: Found `num_iterations` in params. Will use it instead of argument\n",
            "  warnings.warn(\"Found `{}` in params. Will use it instead of argument\".format(alias))\n",
            "/usr/local/lib/python3.6/dist-packages/lightgbm/engine.py:435: UserWarning: Found `early_stopping_round` in params. Will use it instead of argument\n",
            "  warnings.warn(\"Found `{}` in params. Will use it instead of argument\".format(alias))\n"
          ],
          "name": "stderr"
        },
        {
          "output_type": "stream",
          "text": [
            "| \u001b[0m 15      \u001b[0m | \u001b[0m 0.9436  \u001b[0m | \u001b[0m 0.9379  \u001b[0m | \u001b[0m 0.394   \u001b[0m | \u001b[0m 2.179   \u001b[0m | \u001b[0m 2.676   \u001b[0m | \u001b[0m 0.8081  \u001b[0m | \u001b[0m 9.927   \u001b[0m | \u001b[0m 9.51    \u001b[0m | \u001b[0m 0.09203 \u001b[0m | \u001b[0m 742.8   \u001b[0m | \u001b[0m 44.98   \u001b[0m |\n"
          ],
          "name": "stdout"
        },
        {
          "output_type": "stream",
          "text": [
            "/usr/local/lib/python3.6/dist-packages/lightgbm/engine.py:430: UserWarning: Found `num_iterations` in params. Will use it instead of argument\n",
            "  warnings.warn(\"Found `{}` in params. Will use it instead of argument\".format(alias))\n",
            "/usr/local/lib/python3.6/dist-packages/lightgbm/engine.py:435: UserWarning: Found `early_stopping_round` in params. Will use it instead of argument\n",
            "  warnings.warn(\"Found `{}` in params. Will use it instead of argument\".format(alias))\n"
          ],
          "name": "stderr"
        },
        {
          "output_type": "stream",
          "text": [
            "| \u001b[0m 16      \u001b[0m | \u001b[0m 0.9449  \u001b[0m | \u001b[0m 0.8738  \u001b[0m | \u001b[0m 0.7864  \u001b[0m | \u001b[0m 0.9139  \u001b[0m | \u001b[0m 0.03904 \u001b[0m | \u001b[0m 0.1618  \u001b[0m | \u001b[0m 9.545   \u001b[0m | \u001b[0m 5.402   \u001b[0m | \u001b[0m 0.04303 \u001b[0m | \u001b[0m 110.9   \u001b[0m | \u001b[0m 28.42   \u001b[0m |\n"
          ],
          "name": "stdout"
        },
        {
          "output_type": "stream",
          "text": [
            "/usr/local/lib/python3.6/dist-packages/lightgbm/engine.py:430: UserWarning: Found `num_iterations` in params. Will use it instead of argument\n",
            "  warnings.warn(\"Found `{}` in params. Will use it instead of argument\".format(alias))\n",
            "/usr/local/lib/python3.6/dist-packages/lightgbm/engine.py:435: UserWarning: Found `early_stopping_round` in params. Will use it instead of argument\n",
            "  warnings.warn(\"Found `{}` in params. Will use it instead of argument\".format(alias))\n"
          ],
          "name": "stderr"
        },
        {
          "output_type": "stream",
          "text": [
            "| \u001b[0m 17      \u001b[0m | \u001b[0m 0.9436  \u001b[0m | \u001b[0m 0.5022  \u001b[0m | \u001b[0m 0.6005  \u001b[0m | \u001b[0m 4.856   \u001b[0m | \u001b[0m 0.1603  \u001b[0m | \u001b[0m 0.7682  \u001b[0m | \u001b[0m 5.567   \u001b[0m | \u001b[0m 5.356   \u001b[0m | \u001b[0m 0.09769 \u001b[0m | \u001b[0m 113.1   \u001b[0m | \u001b[0m 25.74   \u001b[0m |\n"
          ],
          "name": "stdout"
        },
        {
          "output_type": "stream",
          "text": [
            "/usr/local/lib/python3.6/dist-packages/lightgbm/engine.py:430: UserWarning: Found `num_iterations` in params. Will use it instead of argument\n",
            "  warnings.warn(\"Found `{}` in params. Will use it instead of argument\".format(alias))\n",
            "/usr/local/lib/python3.6/dist-packages/lightgbm/engine.py:435: UserWarning: Found `early_stopping_round` in params. Will use it instead of argument\n",
            "  warnings.warn(\"Found `{}` in params. Will use it instead of argument\".format(alias))\n"
          ],
          "name": "stderr"
        },
        {
          "output_type": "stream",
          "text": [
            "| \u001b[0m 18      \u001b[0m | \u001b[0m 0.9419  \u001b[0m | \u001b[0m 0.8517  \u001b[0m | \u001b[0m 0.8259  \u001b[0m | \u001b[0m 0.8419  \u001b[0m | \u001b[0m 2.636   \u001b[0m | \u001b[0m 0.9296  \u001b[0m | \u001b[0m 9.465   \u001b[0m | \u001b[0m 5.288   \u001b[0m | \u001b[0m 0.00308 \u001b[0m | \u001b[0m 114.5   \u001b[0m | \u001b[0m 44.58   \u001b[0m |\n"
          ],
          "name": "stdout"
        },
        {
          "output_type": "stream",
          "text": [
            "/usr/local/lib/python3.6/dist-packages/lightgbm/engine.py:430: UserWarning: Found `num_iterations` in params. Will use it instead of argument\n",
            "  warnings.warn(\"Found `{}` in params. Will use it instead of argument\".format(alias))\n",
            "/usr/local/lib/python3.6/dist-packages/lightgbm/engine.py:435: UserWarning: Found `early_stopping_round` in params. Will use it instead of argument\n",
            "  warnings.warn(\"Found `{}` in params. Will use it instead of argument\".format(alias))\n"
          ],
          "name": "stderr"
        },
        {
          "output_type": "stream",
          "text": [
            "| \u001b[0m 19      \u001b[0m | \u001b[0m 0.9433  \u001b[0m | \u001b[0m 0.803   \u001b[0m | \u001b[0m 0.6973  \u001b[0m | \u001b[0m 1.889   \u001b[0m | \u001b[0m 0.9441  \u001b[0m | \u001b[0m 0.7493  \u001b[0m | \u001b[0m 6.641   \u001b[0m | \u001b[0m 5.387   \u001b[0m | \u001b[0m 0.004217\u001b[0m | \u001b[0m 999.2   \u001b[0m | \u001b[0m 25.81   \u001b[0m |\n"
          ],
          "name": "stdout"
        },
        {
          "output_type": "stream",
          "text": [
            "/usr/local/lib/python3.6/dist-packages/lightgbm/engine.py:430: UserWarning: Found `num_iterations` in params. Will use it instead of argument\n",
            "  warnings.warn(\"Found `{}` in params. Will use it instead of argument\".format(alias))\n",
            "/usr/local/lib/python3.6/dist-packages/lightgbm/engine.py:435: UserWarning: Found `early_stopping_round` in params. Will use it instead of argument\n",
            "  warnings.warn(\"Found `{}` in params. Will use it instead of argument\".format(alias))\n"
          ],
          "name": "stderr"
        },
        {
          "output_type": "stream",
          "text": [
            "| \u001b[0m 20      \u001b[0m | \u001b[0m 0.944   \u001b[0m | \u001b[0m 0.8241  \u001b[0m | \u001b[0m 0.1638  \u001b[0m | \u001b[0m 4.72    \u001b[0m | \u001b[0m 1.413   \u001b[0m | \u001b[0m 0.09051 \u001b[0m | \u001b[0m 6.439   \u001b[0m | \u001b[0m 6.421   \u001b[0m | \u001b[0m 0.03913 \u001b[0m | \u001b[0m 130.5   \u001b[0m | \u001b[0m 24.1    \u001b[0m |\n"
          ],
          "name": "stdout"
        },
        {
          "output_type": "stream",
          "text": [
            "/usr/local/lib/python3.6/dist-packages/lightgbm/engine.py:430: UserWarning: Found `num_iterations` in params. Will use it instead of argument\n",
            "  warnings.warn(\"Found `{}` in params. Will use it instead of argument\".format(alias))\n",
            "/usr/local/lib/python3.6/dist-packages/lightgbm/engine.py:435: UserWarning: Found `early_stopping_round` in params. Will use it instead of argument\n",
            "  warnings.warn(\"Found `{}` in params. Will use it instead of argument\".format(alias))\n"
          ],
          "name": "stderr"
        },
        {
          "output_type": "stream",
          "text": [
            "| \u001b[0m 21      \u001b[0m | \u001b[0m 0.9433  \u001b[0m | \u001b[0m 0.5637  \u001b[0m | \u001b[0m 0.7823  \u001b[0m | \u001b[0m 0.3193  \u001b[0m | \u001b[0m 2.372   \u001b[0m | \u001b[0m 0.8389  \u001b[0m | \u001b[0m 5.049   \u001b[0m | \u001b[0m 5.087   \u001b[0m | \u001b[0m 0.0946  \u001b[0m | \u001b[0m 121.0   \u001b[0m | \u001b[0m 24.36   \u001b[0m |\n"
          ],
          "name": "stdout"
        },
        {
          "output_type": "stream",
          "text": [
            "/usr/local/lib/python3.6/dist-packages/lightgbm/engine.py:430: UserWarning: Found `num_iterations` in params. Will use it instead of argument\n",
            "  warnings.warn(\"Found `{}` in params. Will use it instead of argument\".format(alias))\n",
            "/usr/local/lib/python3.6/dist-packages/lightgbm/engine.py:435: UserWarning: Found `early_stopping_round` in params. Will use it instead of argument\n",
            "  warnings.warn(\"Found `{}` in params. Will use it instead of argument\".format(alias))\n"
          ],
          "name": "stderr"
        },
        {
          "output_type": "stream",
          "text": [
            "| \u001b[0m 22      \u001b[0m | \u001b[0m 0.944   \u001b[0m | \u001b[0m 0.9086  \u001b[0m | \u001b[0m 0.7931  \u001b[0m | \u001b[0m 3.506   \u001b[0m | \u001b[0m 2.556   \u001b[0m | \u001b[0m 0.7938  \u001b[0m | \u001b[0m 11.92   \u001b[0m | \u001b[0m 5.111   \u001b[0m | \u001b[0m 0.02169 \u001b[0m | \u001b[0m 649.8   \u001b[0m | \u001b[0m 24.83   \u001b[0m |\n"
          ],
          "name": "stdout"
        },
        {
          "output_type": "stream",
          "text": [
            "/usr/local/lib/python3.6/dist-packages/lightgbm/engine.py:430: UserWarning: Found `num_iterations` in params. Will use it instead of argument\n",
            "  warnings.warn(\"Found `{}` in params. Will use it instead of argument\".format(alias))\n",
            "/usr/local/lib/python3.6/dist-packages/lightgbm/engine.py:435: UserWarning: Found `early_stopping_round` in params. Will use it instead of argument\n",
            "  warnings.warn(\"Found `{}` in params. Will use it instead of argument\".format(alias))\n"
          ],
          "name": "stderr"
        },
        {
          "output_type": "stream",
          "text": [
            "| \u001b[0m 23      \u001b[0m | \u001b[0m 0.9446  \u001b[0m | \u001b[0m 0.7871  \u001b[0m | \u001b[0m 0.5819  \u001b[0m | \u001b[0m 3.927   \u001b[0m | \u001b[0m 2.267   \u001b[0m | \u001b[0m 0.4541  \u001b[0m | \u001b[0m 10.58   \u001b[0m | \u001b[0m 5.013   \u001b[0m | \u001b[0m 0.02592 \u001b[0m | \u001b[0m 968.8   \u001b[0m | \u001b[0m 28.1    \u001b[0m |\n"
          ],
          "name": "stdout"
        },
        {
          "output_type": "stream",
          "text": [
            "/usr/local/lib/python3.6/dist-packages/lightgbm/engine.py:430: UserWarning: Found `num_iterations` in params. Will use it instead of argument\n",
            "  warnings.warn(\"Found `{}` in params. Will use it instead of argument\".format(alias))\n",
            "/usr/local/lib/python3.6/dist-packages/lightgbm/engine.py:435: UserWarning: Found `early_stopping_round` in params. Will use it instead of argument\n",
            "  warnings.warn(\"Found `{}` in params. Will use it instead of argument\".format(alias))\n"
          ],
          "name": "stderr"
        },
        {
          "output_type": "stream",
          "text": [
            "| \u001b[0m 24      \u001b[0m | \u001b[0m 0.9451  \u001b[0m | \u001b[0m 0.8695  \u001b[0m | \u001b[0m 0.6719  \u001b[0m | \u001b[0m 4.997   \u001b[0m | \u001b[0m 2.937   \u001b[0m | \u001b[0m 0.08291 \u001b[0m | \u001b[0m 9.192   \u001b[0m | \u001b[0m 5.982   \u001b[0m | \u001b[0m 0.00351 \u001b[0m | \u001b[0m 992.0   \u001b[0m | \u001b[0m 24.87   \u001b[0m |\n"
          ],
          "name": "stdout"
        },
        {
          "output_type": "stream",
          "text": [
            "/usr/local/lib/python3.6/dist-packages/lightgbm/engine.py:430: UserWarning: Found `num_iterations` in params. Will use it instead of argument\n",
            "  warnings.warn(\"Found `{}` in params. Will use it instead of argument\".format(alias))\n",
            "/usr/local/lib/python3.6/dist-packages/lightgbm/engine.py:435: UserWarning: Found `early_stopping_round` in params. Will use it instead of argument\n",
            "  warnings.warn(\"Found `{}` in params. Will use it instead of argument\".format(alias))\n"
          ],
          "name": "stderr"
        },
        {
          "output_type": "stream",
          "text": [
            "| \u001b[0m 25      \u001b[0m | \u001b[0m 0.9444  \u001b[0m | \u001b[0m 0.4623  \u001b[0m | \u001b[0m 0.7834  \u001b[0m | \u001b[0m 1.033   \u001b[0m | \u001b[0m 1.338   \u001b[0m | \u001b[0m 0.1365  \u001b[0m | \u001b[0m 9.348   \u001b[0m | \u001b[0m 8.852   \u001b[0m | \u001b[0m 0.04912 \u001b[0m | \u001b[0m 805.2   \u001b[0m | \u001b[0m 43.24   \u001b[0m |\n"
          ],
          "name": "stdout"
        },
        {
          "output_type": "stream",
          "text": [
            "/usr/local/lib/python3.6/dist-packages/lightgbm/engine.py:430: UserWarning: Found `num_iterations` in params. Will use it instead of argument\n",
            "  warnings.warn(\"Found `{}` in params. Will use it instead of argument\".format(alias))\n",
            "/usr/local/lib/python3.6/dist-packages/lightgbm/engine.py:435: UserWarning: Found `early_stopping_round` in params. Will use it instead of argument\n",
            "  warnings.warn(\"Found `{}` in params. Will use it instead of argument\".format(alias))\n"
          ],
          "name": "stderr"
        },
        {
          "output_type": "stream",
          "text": [
            "| \u001b[0m 26      \u001b[0m | \u001b[0m 0.9442  \u001b[0m | \u001b[0m 0.8462  \u001b[0m | \u001b[0m 0.2823  \u001b[0m | \u001b[0m 4.968   \u001b[0m | \u001b[0m 0.1809  \u001b[0m | \u001b[0m 0.7185  \u001b[0m | \u001b[0m 5.125   \u001b[0m | \u001b[0m 5.033   \u001b[0m | \u001b[0m 0.03815 \u001b[0m | \u001b[0m 990.3   \u001b[0m | \u001b[0m 37.8    \u001b[0m |\n"
          ],
          "name": "stdout"
        },
        {
          "output_type": "stream",
          "text": [
            "/usr/local/lib/python3.6/dist-packages/lightgbm/engine.py:430: UserWarning: Found `num_iterations` in params. Will use it instead of argument\n",
            "  warnings.warn(\"Found `{}` in params. Will use it instead of argument\".format(alias))\n",
            "/usr/local/lib/python3.6/dist-packages/lightgbm/engine.py:435: UserWarning: Found `early_stopping_round` in params. Will use it instead of argument\n",
            "  warnings.warn(\"Found `{}` in params. Will use it instead of argument\".format(alias))\n"
          ],
          "name": "stderr"
        },
        {
          "output_type": "stream",
          "text": [
            "| \u001b[0m 27      \u001b[0m | \u001b[0m 0.945   \u001b[0m | \u001b[0m 0.6469  \u001b[0m | \u001b[0m 0.462   \u001b[0m | \u001b[0m 4.143   \u001b[0m | \u001b[0m 1.756   \u001b[0m | \u001b[0m 0.3087  \u001b[0m | \u001b[0m 6.061   \u001b[0m | \u001b[0m 5.444   \u001b[0m | \u001b[0m 0.00122 \u001b[0m | \u001b[0m 925.6   \u001b[0m | \u001b[0m 24.36   \u001b[0m |\n"
          ],
          "name": "stdout"
        },
        {
          "output_type": "stream",
          "text": [
            "/usr/local/lib/python3.6/dist-packages/lightgbm/engine.py:430: UserWarning: Found `num_iterations` in params. Will use it instead of argument\n",
            "  warnings.warn(\"Found `{}` in params. Will use it instead of argument\".format(alias))\n",
            "/usr/local/lib/python3.6/dist-packages/lightgbm/engine.py:435: UserWarning: Found `early_stopping_round` in params. Will use it instead of argument\n",
            "  warnings.warn(\"Found `{}` in params. Will use it instead of argument\".format(alias))\n"
          ],
          "name": "stderr"
        },
        {
          "output_type": "stream",
          "text": [
            "| \u001b[0m 28      \u001b[0m | \u001b[0m 0.942   \u001b[0m | \u001b[0m 0.5154  \u001b[0m | \u001b[0m 0.8624  \u001b[0m | \u001b[0m 3.616   \u001b[0m | \u001b[0m 2.828   \u001b[0m | \u001b[0m 0.9534  \u001b[0m | \u001b[0m 6.744   \u001b[0m | \u001b[0m 5.106   \u001b[0m | \u001b[0m 0.02353 \u001b[0m | \u001b[0m 948.6   \u001b[0m | \u001b[0m 25.73   \u001b[0m |\n"
          ],
          "name": "stdout"
        },
        {
          "output_type": "stream",
          "text": [
            "/usr/local/lib/python3.6/dist-packages/lightgbm/engine.py:430: UserWarning: Found `num_iterations` in params. Will use it instead of argument\n",
            "  warnings.warn(\"Found `{}` in params. Will use it instead of argument\".format(alias))\n",
            "/usr/local/lib/python3.6/dist-packages/lightgbm/engine.py:435: UserWarning: Found `early_stopping_round` in params. Will use it instead of argument\n",
            "  warnings.warn(\"Found `{}` in params. Will use it instead of argument\".format(alias))\n"
          ],
          "name": "stderr"
        },
        {
          "output_type": "stream",
          "text": [
            "| \u001b[0m 29      \u001b[0m | \u001b[0m 0.9448  \u001b[0m | \u001b[0m 0.5929  \u001b[0m | \u001b[0m 0.6049  \u001b[0m | \u001b[0m 4.975   \u001b[0m | \u001b[0m 0.6187  \u001b[0m | \u001b[0m 0.5926  \u001b[0m | \u001b[0m 10.42   \u001b[0m | \u001b[0m 5.021   \u001b[0m | \u001b[0m 0.06335 \u001b[0m | \u001b[0m 954.5   \u001b[0m | \u001b[0m 44.78   \u001b[0m |\n"
          ],
          "name": "stdout"
        },
        {
          "output_type": "stream",
          "text": [
            "/usr/local/lib/python3.6/dist-packages/lightgbm/engine.py:430: UserWarning: Found `num_iterations` in params. Will use it instead of argument\n",
            "  warnings.warn(\"Found `{}` in params. Will use it instead of argument\".format(alias))\n",
            "/usr/local/lib/python3.6/dist-packages/lightgbm/engine.py:435: UserWarning: Found `early_stopping_round` in params. Will use it instead of argument\n",
            "  warnings.warn(\"Found `{}` in params. Will use it instead of argument\".format(alias))\n"
          ],
          "name": "stderr"
        },
        {
          "output_type": "stream",
          "text": [
            "| \u001b[0m 30      \u001b[0m | \u001b[0m 0.9449  \u001b[0m | \u001b[0m 0.6743  \u001b[0m | \u001b[0m 0.6965  \u001b[0m | \u001b[0m 4.717   \u001b[0m | \u001b[0m 2.503   \u001b[0m | \u001b[0m 0.05865 \u001b[0m | \u001b[0m 5.003   \u001b[0m | \u001b[0m 5.463   \u001b[0m | \u001b[0m 0.06952 \u001b[0m | \u001b[0m 444.5   \u001b[0m | \u001b[0m 44.55   \u001b[0m |\n"
          ],
          "name": "stdout"
        },
        {
          "output_type": "stream",
          "text": [
            "/usr/local/lib/python3.6/dist-packages/lightgbm/engine.py:430: UserWarning: Found `num_iterations` in params. Will use it instead of argument\n",
            "  warnings.warn(\"Found `{}` in params. Will use it instead of argument\".format(alias))\n",
            "/usr/local/lib/python3.6/dist-packages/lightgbm/engine.py:435: UserWarning: Found `early_stopping_round` in params. Will use it instead of argument\n",
            "  warnings.warn(\"Found `{}` in params. Will use it instead of argument\".format(alias))\n"
          ],
          "name": "stderr"
        },
        {
          "output_type": "stream",
          "text": [
            "| \u001b[95m 31      \u001b[0m | \u001b[95m 0.9453  \u001b[0m | \u001b[95m 0.4464  \u001b[0m | \u001b[95m 0.4556  \u001b[0m | \u001b[95m 4.374   \u001b[0m | \u001b[95m 0.2808  \u001b[0m | \u001b[95m 0.1771  \u001b[0m | \u001b[95m 5.153   \u001b[0m | \u001b[95m 5.376   \u001b[0m | \u001b[95m 0.006794\u001b[0m | \u001b[95m 614.6   \u001b[0m | \u001b[95m 42.68   \u001b[0m |\n"
          ],
          "name": "stdout"
        },
        {
          "output_type": "stream",
          "text": [
            "/usr/local/lib/python3.6/dist-packages/lightgbm/engine.py:430: UserWarning: Found `num_iterations` in params. Will use it instead of argument\n",
            "  warnings.warn(\"Found `{}` in params. Will use it instead of argument\".format(alias))\n",
            "/usr/local/lib/python3.6/dist-packages/lightgbm/engine.py:435: UserWarning: Found `early_stopping_round` in params. Will use it instead of argument\n",
            "  warnings.warn(\"Found `{}` in params. Will use it instead of argument\".format(alias))\n"
          ],
          "name": "stderr"
        },
        {
          "output_type": "stream",
          "text": [
            "| \u001b[0m 32      \u001b[0m | \u001b[0m 0.9445  \u001b[0m | \u001b[0m 0.648   \u001b[0m | \u001b[0m 0.212   \u001b[0m | \u001b[0m 4.006   \u001b[0m | \u001b[0m 1.493   \u001b[0m | \u001b[0m 0.597   \u001b[0m | \u001b[0m 6.67    \u001b[0m | \u001b[0m 5.187   \u001b[0m | \u001b[0m 0.009108\u001b[0m | \u001b[0m 540.1   \u001b[0m | \u001b[0m 24.03   \u001b[0m |\n"
          ],
          "name": "stdout"
        },
        {
          "output_type": "stream",
          "text": [
            "/usr/local/lib/python3.6/dist-packages/lightgbm/engine.py:430: UserWarning: Found `num_iterations` in params. Will use it instead of argument\n",
            "  warnings.warn(\"Found `{}` in params. Will use it instead of argument\".format(alias))\n",
            "/usr/local/lib/python3.6/dist-packages/lightgbm/engine.py:435: UserWarning: Found `early_stopping_round` in params. Will use it instead of argument\n",
            "  warnings.warn(\"Found `{}` in params. Will use it instead of argument\".format(alias))\n"
          ],
          "name": "stderr"
        },
        {
          "output_type": "stream",
          "text": [
            "| \u001b[0m 33      \u001b[0m | \u001b[0m 0.9451  \u001b[0m | \u001b[0m 0.9005  \u001b[0m | \u001b[0m 0.5882  \u001b[0m | \u001b[0m 4.66    \u001b[0m | \u001b[0m 2.386   \u001b[0m | \u001b[0m 0.0574  \u001b[0m | \u001b[0m 8.067   \u001b[0m | \u001b[0m 5.047   \u001b[0m | \u001b[0m 0.08884 \u001b[0m | \u001b[0m 585.6   \u001b[0m | \u001b[0m 44.15   \u001b[0m |\n"
          ],
          "name": "stdout"
        },
        {
          "output_type": "stream",
          "text": [
            "/usr/local/lib/python3.6/dist-packages/lightgbm/engine.py:430: UserWarning: Found `num_iterations` in params. Will use it instead of argument\n",
            "  warnings.warn(\"Found `{}` in params. Will use it instead of argument\".format(alias))\n",
            "/usr/local/lib/python3.6/dist-packages/lightgbm/engine.py:435: UserWarning: Found `early_stopping_round` in params. Will use it instead of argument\n",
            "  warnings.warn(\"Found `{}` in params. Will use it instead of argument\".format(alias))\n"
          ],
          "name": "stderr"
        },
        {
          "output_type": "stream",
          "text": [
            "| \u001b[0m 34      \u001b[0m | \u001b[0m 0.9445  \u001b[0m | \u001b[0m 0.9932  \u001b[0m | \u001b[0m 0.7355  \u001b[0m | \u001b[0m 3.671   \u001b[0m | \u001b[0m 0.6862  \u001b[0m | \u001b[0m 0.2892  \u001b[0m | \u001b[0m 6.799   \u001b[0m | \u001b[0m 5.15    \u001b[0m | \u001b[0m 0.08579 \u001b[0m | \u001b[0m 550.7   \u001b[0m | \u001b[0m 43.35   \u001b[0m |\n"
          ],
          "name": "stdout"
        },
        {
          "output_type": "stream",
          "text": [
            "/usr/local/lib/python3.6/dist-packages/lightgbm/engine.py:430: UserWarning: Found `num_iterations` in params. Will use it instead of argument\n",
            "  warnings.warn(\"Found `{}` in params. Will use it instead of argument\".format(alias))\n",
            "/usr/local/lib/python3.6/dist-packages/lightgbm/engine.py:435: UserWarning: Found `early_stopping_round` in params. Will use it instead of argument\n",
            "  warnings.warn(\"Found `{}` in params. Will use it instead of argument\".format(alias))\n"
          ],
          "name": "stderr"
        },
        {
          "output_type": "stream",
          "text": [
            "| \u001b[0m 35      \u001b[0m | \u001b[0m 0.9448  \u001b[0m | \u001b[0m 0.8126  \u001b[0m | \u001b[0m 0.8211  \u001b[0m | \u001b[0m 3.614   \u001b[0m | \u001b[0m 0.2794  \u001b[0m | \u001b[0m 0.06694 \u001b[0m | \u001b[0m 11.97   \u001b[0m | \u001b[0m 5.042   \u001b[0m | \u001b[0m 0.00377 \u001b[0m | \u001b[0m 659.1   \u001b[0m | \u001b[0m 44.38   \u001b[0m |\n"
          ],
          "name": "stdout"
        },
        {
          "output_type": "stream",
          "text": [
            "/usr/local/lib/python3.6/dist-packages/lightgbm/engine.py:430: UserWarning: Found `num_iterations` in params. Will use it instead of argument\n",
            "  warnings.warn(\"Found `{}` in params. Will use it instead of argument\".format(alias))\n",
            "/usr/local/lib/python3.6/dist-packages/lightgbm/engine.py:435: UserWarning: Found `early_stopping_round` in params. Will use it instead of argument\n",
            "  warnings.warn(\"Found `{}` in params. Will use it instead of argument\".format(alias))\n"
          ],
          "name": "stderr"
        },
        {
          "output_type": "stream",
          "text": [
            "| \u001b[0m 36      \u001b[0m | \u001b[0m 0.9449  \u001b[0m | \u001b[0m 0.9358  \u001b[0m | \u001b[0m 0.3369  \u001b[0m | \u001b[0m 4.69    \u001b[0m | \u001b[0m 0.4404  \u001b[0m | \u001b[0m 0.5899  \u001b[0m | \u001b[0m 11.86   \u001b[0m | \u001b[0m 5.382   \u001b[0m | \u001b[0m 0.04424 \u001b[0m | \u001b[0m 498.3   \u001b[0m | \u001b[0m 27.01   \u001b[0m |\n"
          ],
          "name": "stdout"
        },
        {
          "output_type": "stream",
          "text": [
            "/usr/local/lib/python3.6/dist-packages/lightgbm/engine.py:430: UserWarning: Found `num_iterations` in params. Will use it instead of argument\n",
            "  warnings.warn(\"Found `{}` in params. Will use it instead of argument\".format(alias))\n",
            "/usr/local/lib/python3.6/dist-packages/lightgbm/engine.py:435: UserWarning: Found `early_stopping_round` in params. Will use it instead of argument\n",
            "  warnings.warn(\"Found `{}` in params. Will use it instead of argument\".format(alias))\n"
          ],
          "name": "stderr"
        },
        {
          "output_type": "stream",
          "text": [
            "| \u001b[0m 37      \u001b[0m | \u001b[0m 0.9444  \u001b[0m | \u001b[0m 0.9056  \u001b[0m | \u001b[0m 0.2439  \u001b[0m | \u001b[0m 2.588   \u001b[0m | \u001b[0m 1.42    \u001b[0m | \u001b[0m 0.7259  \u001b[0m | \u001b[0m 8.359   \u001b[0m | \u001b[0m 5.037   \u001b[0m | \u001b[0m 0.03461 \u001b[0m | \u001b[0m 801.9   \u001b[0m | \u001b[0m 38.44   \u001b[0m |\n"
          ],
          "name": "stdout"
        },
        {
          "output_type": "stream",
          "text": [
            "/usr/local/lib/python3.6/dist-packages/lightgbm/engine.py:430: UserWarning: Found `num_iterations` in params. Will use it instead of argument\n",
            "  warnings.warn(\"Found `{}` in params. Will use it instead of argument\".format(alias))\n",
            "/usr/local/lib/python3.6/dist-packages/lightgbm/engine.py:435: UserWarning: Found `early_stopping_round` in params. Will use it instead of argument\n",
            "  warnings.warn(\"Found `{}` in params. Will use it instead of argument\".format(alias))\n"
          ],
          "name": "stderr"
        },
        {
          "output_type": "stream",
          "text": [
            "| \u001b[0m 38      \u001b[0m | \u001b[0m 0.9441  \u001b[0m | \u001b[0m 0.8563  \u001b[0m | \u001b[0m 0.1985  \u001b[0m | \u001b[0m 4.337   \u001b[0m | \u001b[0m 1.539   \u001b[0m | \u001b[0m 0.2066  \u001b[0m | \u001b[0m 11.93   \u001b[0m | \u001b[0m 6.11    \u001b[0m | \u001b[0m 0.08986 \u001b[0m | \u001b[0m 522.8   \u001b[0m | \u001b[0m 24.17   \u001b[0m |\n"
          ],
          "name": "stdout"
        },
        {
          "output_type": "stream",
          "text": [
            "/usr/local/lib/python3.6/dist-packages/lightgbm/engine.py:430: UserWarning: Found `num_iterations` in params. Will use it instead of argument\n",
            "  warnings.warn(\"Found `{}` in params. Will use it instead of argument\".format(alias))\n",
            "/usr/local/lib/python3.6/dist-packages/lightgbm/engine.py:435: UserWarning: Found `early_stopping_round` in params. Will use it instead of argument\n",
            "  warnings.warn(\"Found `{}` in params. Will use it instead of argument\".format(alias))\n"
          ],
          "name": "stderr"
        },
        {
          "output_type": "stream",
          "text": [
            "| \u001b[0m 39      \u001b[0m | \u001b[0m 0.9433  \u001b[0m | \u001b[0m 0.8508  \u001b[0m | \u001b[0m 0.2162  \u001b[0m | \u001b[0m 3.387   \u001b[0m | \u001b[0m 0.0309  \u001b[0m | \u001b[0m 0.9136  \u001b[0m | \u001b[0m 5.862   \u001b[0m | \u001b[0m 5.744   \u001b[0m | \u001b[0m 0.03969 \u001b[0m | \u001b[0m 597.3   \u001b[0m | \u001b[0m 44.98   \u001b[0m |\n"
          ],
          "name": "stdout"
        },
        {
          "output_type": "stream",
          "text": [
            "/usr/local/lib/python3.6/dist-packages/lightgbm/engine.py:430: UserWarning: Found `num_iterations` in params. Will use it instead of argument\n",
            "  warnings.warn(\"Found `{}` in params. Will use it instead of argument\".format(alias))\n",
            "/usr/local/lib/python3.6/dist-packages/lightgbm/engine.py:435: UserWarning: Found `early_stopping_round` in params. Will use it instead of argument\n",
            "  warnings.warn(\"Found `{}` in params. Will use it instead of argument\".format(alias))\n"
          ],
          "name": "stderr"
        },
        {
          "output_type": "stream",
          "text": [
            "| \u001b[0m 40      \u001b[0m | \u001b[0m 0.9437  \u001b[0m | \u001b[0m 0.9759  \u001b[0m | \u001b[0m 0.8935  \u001b[0m | \u001b[0m 3.907   \u001b[0m | \u001b[0m 2.274   \u001b[0m | \u001b[0m 0.6793  \u001b[0m | \u001b[0m 11.89   \u001b[0m | \u001b[0m 5.074   \u001b[0m | \u001b[0m 0.001464\u001b[0m | \u001b[0m 616.6   \u001b[0m | \u001b[0m 27.44   \u001b[0m |\n",
            "=================================================================================================================================================\n",
            "|   iter    |  target   | baggin... | featur... | lambda_l1 | lambda_l2 | learni... | max_depth | min_ch... | min_sp... | num_it... | num_le... |\n",
            "-------------------------------------------------------------------------------------------------------------------------------------------------\n"
          ],
          "name": "stdout"
        },
        {
          "output_type": "stream",
          "text": [
            "/usr/local/lib/python3.6/dist-packages/lightgbm/engine.py:430: UserWarning: Found `num_iterations` in params. Will use it instead of argument\n",
            "  warnings.warn(\"Found `{}` in params. Will use it instead of argument\".format(alias))\n",
            "/usr/local/lib/python3.6/dist-packages/lightgbm/engine.py:435: UserWarning: Found `early_stopping_round` in params. Will use it instead of argument\n",
            "  warnings.warn(\"Found `{}` in params. Will use it instead of argument\".format(alias))\n"
          ],
          "name": "stderr"
        },
        {
          "output_type": "stream",
          "text": [
            "| \u001b[0m 1       \u001b[0m | \u001b[0m 0.8404  \u001b[0m | \u001b[0m 0.7293  \u001b[0m | \u001b[0m 0.6722  \u001b[0m | \u001b[0m 3.014   \u001b[0m | \u001b[0m 1.635   \u001b[0m | \u001b[0m 0.4294  \u001b[0m | \u001b[0m 9.521   \u001b[0m | \u001b[0m 24.69   \u001b[0m | \u001b[0m 0.08929 \u001b[0m | \u001b[0m 967.3   \u001b[0m | \u001b[0m 32.05   \u001b[0m |\n"
          ],
          "name": "stdout"
        },
        {
          "output_type": "stream",
          "text": [
            "/usr/local/lib/python3.6/dist-packages/lightgbm/engine.py:430: UserWarning: Found `num_iterations` in params. Will use it instead of argument\n",
            "  warnings.warn(\"Found `{}` in params. Will use it instead of argument\".format(alias))\n",
            "/usr/local/lib/python3.6/dist-packages/lightgbm/engine.py:435: UserWarning: Found `early_stopping_round` in params. Will use it instead of argument\n",
            "  warnings.warn(\"Found `{}` in params. Will use it instead of argument\".format(alias))\n"
          ],
          "name": "stderr"
        },
        {
          "output_type": "stream",
          "text": [
            "| \u001b[95m 2       \u001b[0m | \u001b[95m 0.8422  \u001b[0m | \u001b[95m 0.875   \u001b[0m | \u001b[95m 0.5231  \u001b[0m | \u001b[95m 2.84    \u001b[0m | \u001b[95m 2.777   \u001b[0m | \u001b[95m 0.08033 \u001b[0m | \u001b[95m 5.61    \u001b[0m | \u001b[95m 5.91    \u001b[0m | \u001b[95m 0.08343 \u001b[0m | \u001b[95m 800.3   \u001b[0m | \u001b[95m 42.27   \u001b[0m |\n"
          ],
          "name": "stdout"
        },
        {
          "output_type": "stream",
          "text": [
            "/usr/local/lib/python3.6/dist-packages/lightgbm/engine.py:430: UserWarning: Found `num_iterations` in params. Will use it instead of argument\n",
            "  warnings.warn(\"Found `{}` in params. Will use it instead of argument\".format(alias))\n",
            "/usr/local/lib/python3.6/dist-packages/lightgbm/engine.py:435: UserWarning: Found `early_stopping_round` in params. Will use it instead of argument\n",
            "  warnings.warn(\"Found `{}` in params. Will use it instead of argument\".format(alias))\n"
          ],
          "name": "stderr"
        },
        {
          "output_type": "stream",
          "text": [
            "| \u001b[0m 3       \u001b[0m | \u001b[0m 0.8417  \u001b[0m | \u001b[0m 0.9872  \u001b[0m | \u001b[0m 0.7393  \u001b[0m | \u001b[0m 2.307   \u001b[0m | \u001b[0m 2.342   \u001b[0m | \u001b[0m 0.1271  \u001b[0m | \u001b[0m 9.479   \u001b[0m | \u001b[0m 11.45   \u001b[0m | \u001b[0m 0.09452 \u001b[0m | \u001b[0m 569.7   \u001b[0m | \u001b[0m 32.71   \u001b[0m |\n"
          ],
          "name": "stdout"
        },
        {
          "output_type": "stream",
          "text": [
            "/usr/local/lib/python3.6/dist-packages/lightgbm/engine.py:430: UserWarning: Found `num_iterations` in params. Will use it instead of argument\n",
            "  warnings.warn(\"Found `{}` in params. Will use it instead of argument\".format(alias))\n",
            "/usr/local/lib/python3.6/dist-packages/lightgbm/engine.py:435: UserWarning: Found `early_stopping_round` in params. Will use it instead of argument\n",
            "  warnings.warn(\"Found `{}` in params. Will use it instead of argument\".format(alias))\n"
          ],
          "name": "stderr"
        },
        {
          "output_type": "stream",
          "text": [
            "| \u001b[0m 4       \u001b[0m | \u001b[0m 0.8412  \u001b[0m | \u001b[0m 0.5587  \u001b[0m | \u001b[0m 0.7194  \u001b[0m | \u001b[0m 2.281   \u001b[0m | \u001b[0m 1.705   \u001b[0m | \u001b[0m 0.0286  \u001b[0m | \u001b[0m 9.323   \u001b[0m | \u001b[0m 32.54   \u001b[0m | \u001b[0m 0.06208 \u001b[0m | \u001b[0m 949.4   \u001b[0m | \u001b[0m 38.32   \u001b[0m |\n"
          ],
          "name": "stdout"
        },
        {
          "output_type": "stream",
          "text": [
            "/usr/local/lib/python3.6/dist-packages/lightgbm/engine.py:430: UserWarning: Found `num_iterations` in params. Will use it instead of argument\n",
            "  warnings.warn(\"Found `{}` in params. Will use it instead of argument\".format(alias))\n",
            "/usr/local/lib/python3.6/dist-packages/lightgbm/engine.py:435: UserWarning: Found `early_stopping_round` in params. Will use it instead of argument\n",
            "  warnings.warn(\"Found `{}` in params. Will use it instead of argument\".format(alias))\n"
          ],
          "name": "stderr"
        },
        {
          "output_type": "stream",
          "text": [
            "| \u001b[0m 5       \u001b[0m | \u001b[0m 0.8397  \u001b[0m | \u001b[0m 0.6157  \u001b[0m | \u001b[0m 0.4496  \u001b[0m | \u001b[0m 3.488   \u001b[0m | \u001b[0m 0.1807  \u001b[0m | \u001b[0m 0.6701  \u001b[0m | \u001b[0m 9.694   \u001b[0m | \u001b[0m 14.47   \u001b[0m | \u001b[0m 0.01376 \u001b[0m | \u001b[0m 383.9   \u001b[0m | \u001b[0m 31.64   \u001b[0m |\n"
          ],
          "name": "stdout"
        },
        {
          "output_type": "stream",
          "text": [
            "/usr/local/lib/python3.6/dist-packages/lightgbm/engine.py:430: UserWarning: Found `num_iterations` in params. Will use it instead of argument\n",
            "  warnings.warn(\"Found `{}` in params. Will use it instead of argument\".format(alias))\n",
            "/usr/local/lib/python3.6/dist-packages/lightgbm/engine.py:435: UserWarning: Found `early_stopping_round` in params. Will use it instead of argument\n",
            "  warnings.warn(\"Found `{}` in params. Will use it instead of argument\".format(alias))\n"
          ],
          "name": "stderr"
        },
        {
          "output_type": "stream",
          "text": [
            "| \u001b[0m 6       \u001b[0m | \u001b[0m 0.8414  \u001b[0m | \u001b[0m 0.7421  \u001b[0m | \u001b[0m 0.4509  \u001b[0m | \u001b[0m 4.942   \u001b[0m | \u001b[0m 0.3061  \u001b[0m | \u001b[0m 0.2168  \u001b[0m | \u001b[0m 6.129   \u001b[0m | \u001b[0m 34.39   \u001b[0m | \u001b[0m 0.02608 \u001b[0m | \u001b[0m 519.7   \u001b[0m | \u001b[0m 29.13   \u001b[0m |\n"
          ],
          "name": "stdout"
        },
        {
          "output_type": "stream",
          "text": [
            "/usr/local/lib/python3.6/dist-packages/lightgbm/engine.py:430: UserWarning: Found `num_iterations` in params. Will use it instead of argument\n",
            "  warnings.warn(\"Found `{}` in params. Will use it instead of argument\".format(alias))\n",
            "/usr/local/lib/python3.6/dist-packages/lightgbm/engine.py:435: UserWarning: Found `early_stopping_round` in params. Will use it instead of argument\n",
            "  warnings.warn(\"Found `{}` in params. Will use it instead of argument\".format(alias))\n"
          ],
          "name": "stderr"
        },
        {
          "output_type": "stream",
          "text": [
            "| \u001b[0m 7       \u001b[0m | \u001b[0m 0.8405  \u001b[0m | \u001b[0m 0.4954  \u001b[0m | \u001b[0m 0.1883  \u001b[0m | \u001b[0m 3.282   \u001b[0m | \u001b[0m 0.4145  \u001b[0m | \u001b[0m 0.2046  \u001b[0m | \u001b[0m 7.581   \u001b[0m | \u001b[0m 41.94   \u001b[0m | \u001b[0m 0.01061 \u001b[0m | \u001b[0m 854.2   \u001b[0m | \u001b[0m 26.02   \u001b[0m |\n"
          ],
          "name": "stdout"
        },
        {
          "output_type": "stream",
          "text": [
            "/usr/local/lib/python3.6/dist-packages/lightgbm/engine.py:430: UserWarning: Found `num_iterations` in params. Will use it instead of argument\n",
            "  warnings.warn(\"Found `{}` in params. Will use it instead of argument\".format(alias))\n",
            "/usr/local/lib/python3.6/dist-packages/lightgbm/engine.py:435: UserWarning: Found `early_stopping_round` in params. Will use it instead of argument\n",
            "  warnings.warn(\"Found `{}` in params. Will use it instead of argument\".format(alias))\n"
          ],
          "name": "stderr"
        },
        {
          "output_type": "stream",
          "text": [
            "| \u001b[0m 8       \u001b[0m | \u001b[0m 0.8401  \u001b[0m | \u001b[0m 0.9859  \u001b[0m | \u001b[0m 0.4749  \u001b[0m | \u001b[0m 4.884   \u001b[0m | \u001b[0m 1.815   \u001b[0m | \u001b[0m 0.7419  \u001b[0m | \u001b[0m 5.274   \u001b[0m | \u001b[0m 17.73   \u001b[0m | \u001b[0m 0.0129  \u001b[0m | \u001b[0m 366.5   \u001b[0m | \u001b[0m 26.49   \u001b[0m |\n"
          ],
          "name": "stdout"
        },
        {
          "output_type": "stream",
          "text": [
            "/usr/local/lib/python3.6/dist-packages/lightgbm/engine.py:430: UserWarning: Found `num_iterations` in params. Will use it instead of argument\n",
            "  warnings.warn(\"Found `{}` in params. Will use it instead of argument\".format(alias))\n",
            "/usr/local/lib/python3.6/dist-packages/lightgbm/engine.py:435: UserWarning: Found `early_stopping_round` in params. Will use it instead of argument\n",
            "  warnings.warn(\"Found `{}` in params. Will use it instead of argument\".format(alias))\n"
          ],
          "name": "stderr"
        },
        {
          "output_type": "stream",
          "text": [
            "| \u001b[0m 9       \u001b[0m | \u001b[0m 0.8412  \u001b[0m | \u001b[0m 0.5908  \u001b[0m | \u001b[0m 0.4314  \u001b[0m | \u001b[0m 0.3207  \u001b[0m | \u001b[0m 2.077   \u001b[0m | \u001b[0m 0.5709  \u001b[0m | \u001b[0m 6.858   \u001b[0m | \u001b[0m 28.55   \u001b[0m | \u001b[0m 0.0103  \u001b[0m | \u001b[0m 618.4   \u001b[0m | \u001b[0m 43.52   \u001b[0m |\n"
          ],
          "name": "stdout"
        },
        {
          "output_type": "stream",
          "text": [
            "/usr/local/lib/python3.6/dist-packages/lightgbm/engine.py:430: UserWarning: Found `num_iterations` in params. Will use it instead of argument\n",
            "  warnings.warn(\"Found `{}` in params. Will use it instead of argument\".format(alias))\n",
            "/usr/local/lib/python3.6/dist-packages/lightgbm/engine.py:435: UserWarning: Found `early_stopping_round` in params. Will use it instead of argument\n",
            "  warnings.warn(\"Found `{}` in params. Will use it instead of argument\".format(alias))\n"
          ],
          "name": "stderr"
        },
        {
          "output_type": "stream",
          "text": [
            "| \u001b[0m 10      \u001b[0m | \u001b[0m 0.8412  \u001b[0m | \u001b[0m 0.5911  \u001b[0m | \u001b[0m 0.6339  \u001b[0m | \u001b[0m 0.659   \u001b[0m | \u001b[0m 2.149   \u001b[0m | \u001b[0m 0.2965  \u001b[0m | \u001b[0m 6.282   \u001b[0m | \u001b[0m 31.39   \u001b[0m | \u001b[0m 0.002991\u001b[0m | \u001b[0m 846.0   \u001b[0m | \u001b[0m 24.1    \u001b[0m |\n"
          ],
          "name": "stdout"
        },
        {
          "output_type": "stream",
          "text": [
            "/usr/local/lib/python3.6/dist-packages/lightgbm/engine.py:430: UserWarning: Found `num_iterations` in params. Will use it instead of argument\n",
            "  warnings.warn(\"Found `{}` in params. Will use it instead of argument\".format(alias))\n",
            "/usr/local/lib/python3.6/dist-packages/lightgbm/engine.py:435: UserWarning: Found `early_stopping_round` in params. Will use it instead of argument\n",
            "  warnings.warn(\"Found `{}` in params. Will use it instead of argument\".format(alias))\n"
          ],
          "name": "stderr"
        },
        {
          "output_type": "stream",
          "text": [
            "| \u001b[0m 11      \u001b[0m | \u001b[0m 0.8411  \u001b[0m | \u001b[0m 0.8067  \u001b[0m | \u001b[0m 0.316   \u001b[0m | \u001b[0m 3.676   \u001b[0m | \u001b[0m 2.887   \u001b[0m | \u001b[0m 0.2563  \u001b[0m | \u001b[0m 9.033   \u001b[0m | \u001b[0m 31.64   \u001b[0m | \u001b[0m 0.05765 \u001b[0m | \u001b[0m 300.8   \u001b[0m | \u001b[0m 44.01   \u001b[0m |\n"
          ],
          "name": "stdout"
        },
        {
          "output_type": "stream",
          "text": [
            "/usr/local/lib/python3.6/dist-packages/lightgbm/engine.py:430: UserWarning: Found `num_iterations` in params. Will use it instead of argument\n",
            "  warnings.warn(\"Found `{}` in params. Will use it instead of argument\".format(alias))\n",
            "/usr/local/lib/python3.6/dist-packages/lightgbm/engine.py:435: UserWarning: Found `early_stopping_round` in params. Will use it instead of argument\n",
            "  warnings.warn(\"Found `{}` in params. Will use it instead of argument\".format(alias))\n"
          ],
          "name": "stderr"
        },
        {
          "output_type": "stream",
          "text": [
            "| \u001b[0m 12      \u001b[0m | \u001b[0m 0.8373  \u001b[0m | \u001b[0m 0.6683  \u001b[0m | \u001b[0m 0.7771  \u001b[0m | \u001b[0m 3.497   \u001b[0m | \u001b[0m 0.8923  \u001b[0m | \u001b[0m 0.8157  \u001b[0m | \u001b[0m 7.776   \u001b[0m | \u001b[0m 44.65   \u001b[0m | \u001b[0m 0.05855 \u001b[0m | \u001b[0m 893.6   \u001b[0m | \u001b[0m 38.54   \u001b[0m |\n"
          ],
          "name": "stdout"
        },
        {
          "output_type": "stream",
          "text": [
            "/usr/local/lib/python3.6/dist-packages/lightgbm/engine.py:430: UserWarning: Found `num_iterations` in params. Will use it instead of argument\n",
            "  warnings.warn(\"Found `{}` in params. Will use it instead of argument\".format(alias))\n",
            "/usr/local/lib/python3.6/dist-packages/lightgbm/engine.py:435: UserWarning: Found `early_stopping_round` in params. Will use it instead of argument\n",
            "  warnings.warn(\"Found `{}` in params. Will use it instead of argument\".format(alias))\n"
          ],
          "name": "stderr"
        },
        {
          "output_type": "stream",
          "text": [
            "| \u001b[0m 13      \u001b[0m | \u001b[0m 0.8406  \u001b[0m | \u001b[0m 0.8352  \u001b[0m | \u001b[0m 0.5011  \u001b[0m | \u001b[0m 4.78    \u001b[0m | \u001b[0m 1.932   \u001b[0m | \u001b[0m 0.4296  \u001b[0m | \u001b[0m 9.245   \u001b[0m | \u001b[0m 5.864   \u001b[0m | \u001b[0m 0.03086 \u001b[0m | \u001b[0m 694.2   \u001b[0m | \u001b[0m 30.09   \u001b[0m |\n"
          ],
          "name": "stdout"
        },
        {
          "output_type": "stream",
          "text": [
            "/usr/local/lib/python3.6/dist-packages/lightgbm/engine.py:430: UserWarning: Found `num_iterations` in params. Will use it instead of argument\n",
            "  warnings.warn(\"Found `{}` in params. Will use it instead of argument\".format(alias))\n",
            "/usr/local/lib/python3.6/dist-packages/lightgbm/engine.py:435: UserWarning: Found `early_stopping_round` in params. Will use it instead of argument\n",
            "  warnings.warn(\"Found `{}` in params. Will use it instead of argument\".format(alias))\n"
          ],
          "name": "stderr"
        },
        {
          "output_type": "stream",
          "text": [
            "| \u001b[0m 14      \u001b[0m | \u001b[0m 0.8416  \u001b[0m | \u001b[0m 0.7708  \u001b[0m | \u001b[0m 0.443   \u001b[0m | \u001b[0m 0.6774  \u001b[0m | \u001b[0m 0.8948  \u001b[0m | \u001b[0m 0.5743  \u001b[0m | \u001b[0m 9.136   \u001b[0m | \u001b[0m 30.84   \u001b[0m | \u001b[0m 0.06567 \u001b[0m | \u001b[0m 686.9   \u001b[0m | \u001b[0m 33.06   \u001b[0m |\n"
          ],
          "name": "stdout"
        },
        {
          "output_type": "stream",
          "text": [
            "/usr/local/lib/python3.6/dist-packages/lightgbm/engine.py:430: UserWarning: Found `num_iterations` in params. Will use it instead of argument\n",
            "  warnings.warn(\"Found `{}` in params. Will use it instead of argument\".format(alias))\n",
            "/usr/local/lib/python3.6/dist-packages/lightgbm/engine.py:435: UserWarning: Found `early_stopping_round` in params. Will use it instead of argument\n",
            "  warnings.warn(\"Found `{}` in params. Will use it instead of argument\".format(alias))\n"
          ],
          "name": "stderr"
        },
        {
          "output_type": "stream",
          "text": [
            "| \u001b[0m 15      \u001b[0m | \u001b[0m 0.8389  \u001b[0m | \u001b[0m 0.9379  \u001b[0m | \u001b[0m 0.394   \u001b[0m | \u001b[0m 2.179   \u001b[0m | \u001b[0m 2.676   \u001b[0m | \u001b[0m 0.8081  \u001b[0m | \u001b[0m 9.927   \u001b[0m | \u001b[0m 9.51    \u001b[0m | \u001b[0m 0.09203 \u001b[0m | \u001b[0m 742.8   \u001b[0m | \u001b[0m 44.98   \u001b[0m |\n"
          ],
          "name": "stdout"
        },
        {
          "output_type": "stream",
          "text": [
            "/usr/local/lib/python3.6/dist-packages/lightgbm/engine.py:430: UserWarning: Found `num_iterations` in params. Will use it instead of argument\n",
            "  warnings.warn(\"Found `{}` in params. Will use it instead of argument\".format(alias))\n",
            "/usr/local/lib/python3.6/dist-packages/lightgbm/engine.py:435: UserWarning: Found `early_stopping_round` in params. Will use it instead of argument\n",
            "  warnings.warn(\"Found `{}` in params. Will use it instead of argument\".format(alias))\n"
          ],
          "name": "stderr"
        },
        {
          "output_type": "stream",
          "text": [
            "| \u001b[0m 16      \u001b[0m | \u001b[0m 0.8409  \u001b[0m | \u001b[0m 0.8738  \u001b[0m | \u001b[0m 0.7864  \u001b[0m | \u001b[0m 0.9139  \u001b[0m | \u001b[0m 0.03904 \u001b[0m | \u001b[0m 0.1618  \u001b[0m | \u001b[0m 9.545   \u001b[0m | \u001b[0m 5.402   \u001b[0m | \u001b[0m 0.04303 \u001b[0m | \u001b[0m 110.9   \u001b[0m | \u001b[0m 28.42   \u001b[0m |\n"
          ],
          "name": "stdout"
        },
        {
          "output_type": "stream",
          "text": [
            "/usr/local/lib/python3.6/dist-packages/lightgbm/engine.py:430: UserWarning: Found `num_iterations` in params. Will use it instead of argument\n",
            "  warnings.warn(\"Found `{}` in params. Will use it instead of argument\".format(alias))\n",
            "/usr/local/lib/python3.6/dist-packages/lightgbm/engine.py:435: UserWarning: Found `early_stopping_round` in params. Will use it instead of argument\n",
            "  warnings.warn(\"Found `{}` in params. Will use it instead of argument\".format(alias))\n"
          ],
          "name": "stderr"
        },
        {
          "output_type": "stream",
          "text": [
            "| \u001b[0m 17      \u001b[0m | \u001b[0m 0.8404  \u001b[0m | \u001b[0m 0.499   \u001b[0m | \u001b[0m 0.6261  \u001b[0m | \u001b[0m 4.913   \u001b[0m | \u001b[0m 0.4955  \u001b[0m | \u001b[0m 0.2508  \u001b[0m | \u001b[0m 8.113   \u001b[0m | \u001b[0m 47.67   \u001b[0m | \u001b[0m 0.02371 \u001b[0m | \u001b[0m 100.2   \u001b[0m | \u001b[0m 24.95   \u001b[0m |\n"
          ],
          "name": "stdout"
        },
        {
          "output_type": "stream",
          "text": [
            "/usr/local/lib/python3.6/dist-packages/lightgbm/engine.py:430: UserWarning: Found `num_iterations` in params. Will use it instead of argument\n",
            "  warnings.warn(\"Found `{}` in params. Will use it instead of argument\".format(alias))\n",
            "/usr/local/lib/python3.6/dist-packages/lightgbm/engine.py:435: UserWarning: Found `early_stopping_round` in params. Will use it instead of argument\n",
            "  warnings.warn(\"Found `{}` in params. Will use it instead of argument\".format(alias))\n"
          ],
          "name": "stderr"
        },
        {
          "output_type": "stream",
          "text": [
            "| \u001b[0m 18      \u001b[0m | \u001b[0m 0.8355  \u001b[0m | \u001b[0m 0.8517  \u001b[0m | \u001b[0m 0.8259  \u001b[0m | \u001b[0m 0.8419  \u001b[0m | \u001b[0m 2.636   \u001b[0m | \u001b[0m 0.9296  \u001b[0m | \u001b[0m 9.465   \u001b[0m | \u001b[0m 5.288   \u001b[0m | \u001b[0m 0.00308 \u001b[0m | \u001b[0m 114.5   \u001b[0m | \u001b[0m 44.58   \u001b[0m |\n"
          ],
          "name": "stdout"
        },
        {
          "output_type": "stream",
          "text": [
            "/usr/local/lib/python3.6/dist-packages/lightgbm/engine.py:430: UserWarning: Found `num_iterations` in params. Will use it instead of argument\n",
            "  warnings.warn(\"Found `{}` in params. Will use it instead of argument\".format(alias))\n",
            "/usr/local/lib/python3.6/dist-packages/lightgbm/engine.py:435: UserWarning: Found `early_stopping_round` in params. Will use it instead of argument\n",
            "  warnings.warn(\"Found `{}` in params. Will use it instead of argument\".format(alias))\n"
          ],
          "name": "stderr"
        },
        {
          "output_type": "stream",
          "text": [
            "| \u001b[0m 19      \u001b[0m | \u001b[0m 0.8375  \u001b[0m | \u001b[0m 0.803   \u001b[0m | \u001b[0m 0.6973  \u001b[0m | \u001b[0m 1.889   \u001b[0m | \u001b[0m 0.9441  \u001b[0m | \u001b[0m 0.7493  \u001b[0m | \u001b[0m 6.641   \u001b[0m | \u001b[0m 5.387   \u001b[0m | \u001b[0m 0.004217\u001b[0m | \u001b[0m 999.2   \u001b[0m | \u001b[0m 25.81   \u001b[0m |\n"
          ],
          "name": "stdout"
        },
        {
          "output_type": "stream",
          "text": [
            "/usr/local/lib/python3.6/dist-packages/lightgbm/engine.py:430: UserWarning: Found `num_iterations` in params. Will use it instead of argument\n",
            "  warnings.warn(\"Found `{}` in params. Will use it instead of argument\".format(alias))\n",
            "/usr/local/lib/python3.6/dist-packages/lightgbm/engine.py:435: UserWarning: Found `early_stopping_round` in params. Will use it instead of argument\n",
            "  warnings.warn(\"Found `{}` in params. Will use it instead of argument\".format(alias))\n"
          ],
          "name": "stderr"
        },
        {
          "output_type": "stream",
          "text": [
            "| \u001b[0m 20      \u001b[0m | \u001b[0m 0.8383  \u001b[0m | \u001b[0m 0.7418  \u001b[0m | \u001b[0m 0.8518  \u001b[0m | \u001b[0m 4.999   \u001b[0m | \u001b[0m 0.8473  \u001b[0m | \u001b[0m 0.699   \u001b[0m | \u001b[0m 11.62   \u001b[0m | \u001b[0m 48.51   \u001b[0m | \u001b[0m 0.0249  \u001b[0m | \u001b[0m 998.7   \u001b[0m | \u001b[0m 25.57   \u001b[0m |\n"
          ],
          "name": "stdout"
        },
        {
          "output_type": "stream",
          "text": [
            "/usr/local/lib/python3.6/dist-packages/lightgbm/engine.py:430: UserWarning: Found `num_iterations` in params. Will use it instead of argument\n",
            "  warnings.warn(\"Found `{}` in params. Will use it instead of argument\".format(alias))\n",
            "/usr/local/lib/python3.6/dist-packages/lightgbm/engine.py:435: UserWarning: Found `early_stopping_round` in params. Will use it instead of argument\n",
            "  warnings.warn(\"Found `{}` in params. Will use it instead of argument\".format(alias))\n"
          ],
          "name": "stderr"
        },
        {
          "output_type": "stream",
          "text": [
            "| \u001b[0m 21      \u001b[0m | \u001b[0m 0.8391  \u001b[0m | \u001b[0m 0.4504  \u001b[0m | \u001b[0m 0.1403  \u001b[0m | \u001b[0m 4.21    \u001b[0m | \u001b[0m 2.259   \u001b[0m | \u001b[0m 0.2082  \u001b[0m | \u001b[0m 9.836   \u001b[0m | \u001b[0m 49.39   \u001b[0m | \u001b[0m 0.05363 \u001b[0m | \u001b[0m 109.3   \u001b[0m | \u001b[0m 25.28   \u001b[0m |\n"
          ],
          "name": "stdout"
        },
        {
          "output_type": "stream",
          "text": [
            "/usr/local/lib/python3.6/dist-packages/lightgbm/engine.py:430: UserWarning: Found `num_iterations` in params. Will use it instead of argument\n",
            "  warnings.warn(\"Found `{}` in params. Will use it instead of argument\".format(alias))\n",
            "/usr/local/lib/python3.6/dist-packages/lightgbm/engine.py:435: UserWarning: Found `early_stopping_round` in params. Will use it instead of argument\n",
            "  warnings.warn(\"Found `{}` in params. Will use it instead of argument\".format(alias))\n"
          ],
          "name": "stderr"
        },
        {
          "output_type": "stream",
          "text": [
            "| \u001b[0m 22      \u001b[0m | \u001b[0m 0.8393  \u001b[0m | \u001b[0m 0.8904  \u001b[0m | \u001b[0m 0.5278  \u001b[0m | \u001b[0m 4.649   \u001b[0m | \u001b[0m 2.762   \u001b[0m | \u001b[0m 0.8662  \u001b[0m | \u001b[0m 6.696   \u001b[0m | \u001b[0m 49.24   \u001b[0m | \u001b[0m 0.06671 \u001b[0m | \u001b[0m 985.8   \u001b[0m | \u001b[0m 24.84   \u001b[0m |\n"
          ],
          "name": "stdout"
        },
        {
          "output_type": "stream",
          "text": [
            "/usr/local/lib/python3.6/dist-packages/lightgbm/engine.py:430: UserWarning: Found `num_iterations` in params. Will use it instead of argument\n",
            "  warnings.warn(\"Found `{}` in params. Will use it instead of argument\".format(alias))\n",
            "/usr/local/lib/python3.6/dist-packages/lightgbm/engine.py:435: UserWarning: Found `early_stopping_round` in params. Will use it instead of argument\n",
            "  warnings.warn(\"Found `{}` in params. Will use it instead of argument\".format(alias))\n"
          ],
          "name": "stderr"
        },
        {
          "output_type": "stream",
          "text": [
            "| \u001b[0m 23      \u001b[0m | \u001b[0m 0.8387  \u001b[0m | \u001b[0m 0.6432  \u001b[0m | \u001b[0m 0.8881  \u001b[0m | \u001b[0m 0.09179 \u001b[0m | \u001b[0m 1.132   \u001b[0m | \u001b[0m 0.6603  \u001b[0m | \u001b[0m 7.09    \u001b[0m | \u001b[0m 49.02   \u001b[0m | \u001b[0m 0.08324 \u001b[0m | \u001b[0m 553.4   \u001b[0m | \u001b[0m 24.9    \u001b[0m |\n"
          ],
          "name": "stdout"
        },
        {
          "output_type": "stream",
          "text": [
            "/usr/local/lib/python3.6/dist-packages/lightgbm/engine.py:430: UserWarning: Found `num_iterations` in params. Will use it instead of argument\n",
            "  warnings.warn(\"Found `{}` in params. Will use it instead of argument\".format(alias))\n",
            "/usr/local/lib/python3.6/dist-packages/lightgbm/engine.py:435: UserWarning: Found `early_stopping_round` in params. Will use it instead of argument\n",
            "  warnings.warn(\"Found `{}` in params. Will use it instead of argument\".format(alias))\n"
          ],
          "name": "stderr"
        },
        {
          "output_type": "stream",
          "text": [
            "| \u001b[0m 24      \u001b[0m | \u001b[0m 0.8356  \u001b[0m | \u001b[0m 0.4526  \u001b[0m | \u001b[0m 0.6516  \u001b[0m | \u001b[0m 4.269   \u001b[0m | \u001b[0m 0.3359  \u001b[0m | \u001b[0m 0.934   \u001b[0m | \u001b[0m 5.018   \u001b[0m | \u001b[0m 5.541   \u001b[0m | \u001b[0m 0.02989 \u001b[0m | \u001b[0m 551.3   \u001b[0m | \u001b[0m 24.84   \u001b[0m |\n"
          ],
          "name": "stdout"
        },
        {
          "output_type": "stream",
          "text": [
            "/usr/local/lib/python3.6/dist-packages/lightgbm/engine.py:430: UserWarning: Found `num_iterations` in params. Will use it instead of argument\n",
            "  warnings.warn(\"Found `{}` in params. Will use it instead of argument\".format(alias))\n",
            "/usr/local/lib/python3.6/dist-packages/lightgbm/engine.py:435: UserWarning: Found `early_stopping_round` in params. Will use it instead of argument\n",
            "  warnings.warn(\"Found `{}` in params. Will use it instead of argument\".format(alias))\n"
          ],
          "name": "stderr"
        },
        {
          "output_type": "stream",
          "text": [
            "| \u001b[0m 25      \u001b[0m | \u001b[0m 0.8403  \u001b[0m | \u001b[0m 0.4623  \u001b[0m | \u001b[0m 0.7834  \u001b[0m | \u001b[0m 1.033   \u001b[0m | \u001b[0m 1.338   \u001b[0m | \u001b[0m 0.1365  \u001b[0m | \u001b[0m 9.348   \u001b[0m | \u001b[0m 8.852   \u001b[0m | \u001b[0m 0.04912 \u001b[0m | \u001b[0m 805.2   \u001b[0m | \u001b[0m 43.24   \u001b[0m |\n"
          ],
          "name": "stdout"
        },
        {
          "output_type": "stream",
          "text": [
            "/usr/local/lib/python3.6/dist-packages/lightgbm/engine.py:430: UserWarning: Found `num_iterations` in params. Will use it instead of argument\n",
            "  warnings.warn(\"Found `{}` in params. Will use it instead of argument\".format(alias))\n",
            "/usr/local/lib/python3.6/dist-packages/lightgbm/engine.py:435: UserWarning: Found `early_stopping_round` in params. Will use it instead of argument\n",
            "  warnings.warn(\"Found `{}` in params. Will use it instead of argument\".format(alias))\n"
          ],
          "name": "stderr"
        },
        {
          "output_type": "stream",
          "text": [
            "| \u001b[0m 26      \u001b[0m | \u001b[0m 0.8355  \u001b[0m | \u001b[0m 0.5766  \u001b[0m | \u001b[0m 0.8745  \u001b[0m | \u001b[0m 4.436   \u001b[0m | \u001b[0m 2.919   \u001b[0m | \u001b[0m 0.9467  \u001b[0m | \u001b[0m 11.88   \u001b[0m | \u001b[0m 48.62   \u001b[0m | \u001b[0m 0.09802 \u001b[0m | \u001b[0m 984.8   \u001b[0m | \u001b[0m 44.96   \u001b[0m |\n"
          ],
          "name": "stdout"
        },
        {
          "output_type": "stream",
          "text": [
            "/usr/local/lib/python3.6/dist-packages/lightgbm/engine.py:430: UserWarning: Found `num_iterations` in params. Will use it instead of argument\n",
            "  warnings.warn(\"Found `{}` in params. Will use it instead of argument\".format(alias))\n",
            "/usr/local/lib/python3.6/dist-packages/lightgbm/engine.py:435: UserWarning: Found `early_stopping_round` in params. Will use it instead of argument\n",
            "  warnings.warn(\"Found `{}` in params. Will use it instead of argument\".format(alias))\n"
          ],
          "name": "stderr"
        },
        {
          "output_type": "stream",
          "text": [
            "| \u001b[0m 27      \u001b[0m | \u001b[0m 0.8387  \u001b[0m | \u001b[0m 0.7977  \u001b[0m | \u001b[0m 0.1587  \u001b[0m | \u001b[0m 1.199   \u001b[0m | \u001b[0m 2.439   \u001b[0m | \u001b[0m 0.8033  \u001b[0m | \u001b[0m 9.137   \u001b[0m | \u001b[0m 5.992   \u001b[0m | \u001b[0m 0.09676 \u001b[0m | \u001b[0m 103.7   \u001b[0m | \u001b[0m 25.33   \u001b[0m |\n"
          ],
          "name": "stdout"
        },
        {
          "output_type": "stream",
          "text": [
            "/usr/local/lib/python3.6/dist-packages/lightgbm/engine.py:430: UserWarning: Found `num_iterations` in params. Will use it instead of argument\n",
            "  warnings.warn(\"Found `{}` in params. Will use it instead of argument\".format(alias))\n",
            "/usr/local/lib/python3.6/dist-packages/lightgbm/engine.py:435: UserWarning: Found `early_stopping_round` in params. Will use it instead of argument\n",
            "  warnings.warn(\"Found `{}` in params. Will use it instead of argument\".format(alias))\n"
          ],
          "name": "stderr"
        },
        {
          "output_type": "stream",
          "text": [
            "| \u001b[0m 28      \u001b[0m | \u001b[0m 0.8406  \u001b[0m | \u001b[0m 0.5366  \u001b[0m | \u001b[0m 0.1641  \u001b[0m | \u001b[0m 0.1534  \u001b[0m | \u001b[0m 1.471   \u001b[0m | \u001b[0m 0.2617  \u001b[0m | \u001b[0m 11.86   \u001b[0m | \u001b[0m 45.71   \u001b[0m | \u001b[0m 0.01513 \u001b[0m | \u001b[0m 520.7   \u001b[0m | \u001b[0m 25.54   \u001b[0m |\n"
          ],
          "name": "stdout"
        },
        {
          "output_type": "stream",
          "text": [
            "/usr/local/lib/python3.6/dist-packages/lightgbm/engine.py:430: UserWarning: Found `num_iterations` in params. Will use it instead of argument\n",
            "  warnings.warn(\"Found `{}` in params. Will use it instead of argument\".format(alias))\n",
            "/usr/local/lib/python3.6/dist-packages/lightgbm/engine.py:435: UserWarning: Found `early_stopping_round` in params. Will use it instead of argument\n",
            "  warnings.warn(\"Found `{}` in params. Will use it instead of argument\".format(alias))\n"
          ],
          "name": "stderr"
        },
        {
          "output_type": "stream",
          "text": [
            "| \u001b[0m 29      \u001b[0m | \u001b[0m 0.8368  \u001b[0m | \u001b[0m 0.8277  \u001b[0m | \u001b[0m 0.6881  \u001b[0m | \u001b[0m 0.0224  \u001b[0m | \u001b[0m 2.536   \u001b[0m | \u001b[0m 0.7515  \u001b[0m | \u001b[0m 10.9    \u001b[0m | \u001b[0m 49.86   \u001b[0m | \u001b[0m 0.01894 \u001b[0m | \u001b[0m 488.1   \u001b[0m | \u001b[0m 24.0    \u001b[0m |\n"
          ],
          "name": "stdout"
        },
        {
          "output_type": "stream",
          "text": [
            "/usr/local/lib/python3.6/dist-packages/lightgbm/engine.py:430: UserWarning: Found `num_iterations` in params. Will use it instead of argument\n",
            "  warnings.warn(\"Found `{}` in params. Will use it instead of argument\".format(alias))\n",
            "/usr/local/lib/python3.6/dist-packages/lightgbm/engine.py:435: UserWarning: Found `early_stopping_round` in params. Will use it instead of argument\n",
            "  warnings.warn(\"Found `{}` in params. Will use it instead of argument\".format(alias))\n"
          ],
          "name": "stderr"
        },
        {
          "output_type": "stream",
          "text": [
            "| \u001b[0m 30      \u001b[0m | \u001b[0m 0.8383  \u001b[0m | \u001b[0m 0.6334  \u001b[0m | \u001b[0m 0.5882  \u001b[0m | \u001b[0m 4.771   \u001b[0m | \u001b[0m 1.115   \u001b[0m | \u001b[0m 0.8215  \u001b[0m | \u001b[0m 6.062   \u001b[0m | \u001b[0m 5.104   \u001b[0m | \u001b[0m 0.03106 \u001b[0m | \u001b[0m 104.5   \u001b[0m | \u001b[0m 44.97   \u001b[0m |\n"
          ],
          "name": "stdout"
        },
        {
          "output_type": "stream",
          "text": [
            "/usr/local/lib/python3.6/dist-packages/lightgbm/engine.py:430: UserWarning: Found `num_iterations` in params. Will use it instead of argument\n",
            "  warnings.warn(\"Found `{}` in params. Will use it instead of argument\".format(alias))\n",
            "/usr/local/lib/python3.6/dist-packages/lightgbm/engine.py:435: UserWarning: Found `early_stopping_round` in params. Will use it instead of argument\n",
            "  warnings.warn(\"Found `{}` in params. Will use it instead of argument\".format(alias))\n"
          ],
          "name": "stderr"
        },
        {
          "output_type": "stream",
          "text": [
            "| \u001b[0m 31      \u001b[0m | \u001b[0m 0.8352  \u001b[0m | \u001b[0m 0.4178  \u001b[0m | \u001b[0m 0.7318  \u001b[0m | \u001b[0m 0.1775  \u001b[0m | \u001b[0m 2.925   \u001b[0m | \u001b[0m 0.8237  \u001b[0m | \u001b[0m 8.688   \u001b[0m | \u001b[0m 5.377   \u001b[0m | \u001b[0m 0.04989 \u001b[0m | \u001b[0m 995.2   \u001b[0m | \u001b[0m 25.36   \u001b[0m |\n"
          ],
          "name": "stdout"
        },
        {
          "output_type": "stream",
          "text": [
            "/usr/local/lib/python3.6/dist-packages/lightgbm/engine.py:430: UserWarning: Found `num_iterations` in params. Will use it instead of argument\n",
            "  warnings.warn(\"Found `{}` in params. Will use it instead of argument\".format(alias))\n",
            "/usr/local/lib/python3.6/dist-packages/lightgbm/engine.py:435: UserWarning: Found `early_stopping_round` in params. Will use it instead of argument\n",
            "  warnings.warn(\"Found `{}` in params. Will use it instead of argument\".format(alias))\n"
          ],
          "name": "stderr"
        },
        {
          "output_type": "stream",
          "text": [
            "| \u001b[0m 32      \u001b[0m | \u001b[0m 0.8409  \u001b[0m | \u001b[0m 0.521   \u001b[0m | \u001b[0m 0.792   \u001b[0m | \u001b[0m 4.248   \u001b[0m | \u001b[0m 0.09774 \u001b[0m | \u001b[0m 0.04243 \u001b[0m | \u001b[0m 7.177   \u001b[0m | \u001b[0m 49.9    \u001b[0m | \u001b[0m 0.0437  \u001b[0m | \u001b[0m 725.6   \u001b[0m | \u001b[0m 24.11   \u001b[0m |\n"
          ],
          "name": "stdout"
        },
        {
          "output_type": "stream",
          "text": [
            "/usr/local/lib/python3.6/dist-packages/lightgbm/engine.py:430: UserWarning: Found `num_iterations` in params. Will use it instead of argument\n",
            "  warnings.warn(\"Found `{}` in params. Will use it instead of argument\".format(alias))\n",
            "/usr/local/lib/python3.6/dist-packages/lightgbm/engine.py:435: UserWarning: Found `early_stopping_round` in params. Will use it instead of argument\n",
            "  warnings.warn(\"Found `{}` in params. Will use it instead of argument\".format(alias))\n"
          ],
          "name": "stderr"
        },
        {
          "output_type": "stream",
          "text": [
            "| \u001b[0m 33      \u001b[0m | \u001b[0m 0.8382  \u001b[0m | \u001b[0m 0.9057  \u001b[0m | \u001b[0m 0.6017  \u001b[0m | \u001b[0m 3.493   \u001b[0m | \u001b[0m 2.305   \u001b[0m | \u001b[0m 0.691   \u001b[0m | \u001b[0m 10.06   \u001b[0m | \u001b[0m 48.37   \u001b[0m | \u001b[0m 0.05901 \u001b[0m | \u001b[0m 117.7   \u001b[0m | \u001b[0m 44.7    \u001b[0m |\n"
          ],
          "name": "stdout"
        },
        {
          "output_type": "stream",
          "text": [
            "/usr/local/lib/python3.6/dist-packages/lightgbm/engine.py:430: UserWarning: Found `num_iterations` in params. Will use it instead of argument\n",
            "  warnings.warn(\"Found `{}` in params. Will use it instead of argument\".format(alias))\n",
            "/usr/local/lib/python3.6/dist-packages/lightgbm/engine.py:435: UserWarning: Found `early_stopping_round` in params. Will use it instead of argument\n",
            "  warnings.warn(\"Found `{}` in params. Will use it instead of argument\".format(alias))\n"
          ],
          "name": "stderr"
        },
        {
          "output_type": "stream",
          "text": [
            "| \u001b[0m 34      \u001b[0m | \u001b[0m 0.8408  \u001b[0m | \u001b[0m 0.6828  \u001b[0m | \u001b[0m 0.1675  \u001b[0m | \u001b[0m 2.244   \u001b[0m | \u001b[0m 0.04748 \u001b[0m | \u001b[0m 0.1596  \u001b[0m | \u001b[0m 5.521   \u001b[0m | \u001b[0m 48.0    \u001b[0m | \u001b[0m 0.03399 \u001b[0m | \u001b[0m 747.4   \u001b[0m | \u001b[0m 39.39   \u001b[0m |\n"
          ],
          "name": "stdout"
        },
        {
          "output_type": "stream",
          "text": [
            "/usr/local/lib/python3.6/dist-packages/lightgbm/engine.py:430: UserWarning: Found `num_iterations` in params. Will use it instead of argument\n",
            "  warnings.warn(\"Found `{}` in params. Will use it instead of argument\".format(alias))\n",
            "/usr/local/lib/python3.6/dist-packages/lightgbm/engine.py:435: UserWarning: Found `early_stopping_round` in params. Will use it instead of argument\n",
            "  warnings.warn(\"Found `{}` in params. Will use it instead of argument\".format(alias))\n"
          ],
          "name": "stderr"
        },
        {
          "output_type": "stream",
          "text": [
            "| \u001b[0m 35      \u001b[0m | \u001b[0m 0.8414  \u001b[0m | \u001b[0m 0.9504  \u001b[0m | \u001b[0m 0.6939  \u001b[0m | \u001b[0m 4.928   \u001b[0m | \u001b[0m 0.8025  \u001b[0m | \u001b[0m 0.1358  \u001b[0m | \u001b[0m 11.23   \u001b[0m | \u001b[0m 28.85   \u001b[0m | \u001b[0m 0.002854\u001b[0m | \u001b[0m 728.2   \u001b[0m | \u001b[0m 25.78   \u001b[0m |\n"
          ],
          "name": "stdout"
        },
        {
          "output_type": "stream",
          "text": [
            "/usr/local/lib/python3.6/dist-packages/lightgbm/engine.py:430: UserWarning: Found `num_iterations` in params. Will use it instead of argument\n",
            "  warnings.warn(\"Found `{}` in params. Will use it instead of argument\".format(alias))\n",
            "/usr/local/lib/python3.6/dist-packages/lightgbm/engine.py:435: UserWarning: Found `early_stopping_round` in params. Will use it instead of argument\n",
            "  warnings.warn(\"Found `{}` in params. Will use it instead of argument\".format(alias))\n"
          ],
          "name": "stderr"
        },
        {
          "output_type": "stream",
          "text": [
            "| \u001b[0m 36      \u001b[0m | \u001b[0m 0.8358  \u001b[0m | \u001b[0m 0.893   \u001b[0m | \u001b[0m 0.6522  \u001b[0m | \u001b[0m 0.05    \u001b[0m | \u001b[0m 0.1797  \u001b[0m | \u001b[0m 0.8238  \u001b[0m | \u001b[0m 8.909   \u001b[0m | \u001b[0m 49.05   \u001b[0m | \u001b[0m 0.03271 \u001b[0m | \u001b[0m 103.0   \u001b[0m | \u001b[0m 25.19   \u001b[0m |\n"
          ],
          "name": "stdout"
        },
        {
          "output_type": "stream",
          "text": [
            "/usr/local/lib/python3.6/dist-packages/lightgbm/engine.py:430: UserWarning: Found `num_iterations` in params. Will use it instead of argument\n",
            "  warnings.warn(\"Found `{}` in params. Will use it instead of argument\".format(alias))\n",
            "/usr/local/lib/python3.6/dist-packages/lightgbm/engine.py:435: UserWarning: Found `early_stopping_round` in params. Will use it instead of argument\n",
            "  warnings.warn(\"Found `{}` in params. Will use it instead of argument\".format(alias))\n"
          ],
          "name": "stderr"
        },
        {
          "output_type": "stream",
          "text": [
            "| \u001b[0m 37      \u001b[0m | \u001b[0m 0.836   \u001b[0m | \u001b[0m 0.4543  \u001b[0m | \u001b[0m 0.7045  \u001b[0m | \u001b[0m 1.38    \u001b[0m | \u001b[0m 1.342   \u001b[0m | \u001b[0m 0.8052  \u001b[0m | \u001b[0m 5.28    \u001b[0m | \u001b[0m 7.921   \u001b[0m | \u001b[0m 0.08776 \u001b[0m | \u001b[0m 803.4   \u001b[0m | \u001b[0m 40.84   \u001b[0m |\n"
          ],
          "name": "stdout"
        },
        {
          "output_type": "stream",
          "text": [
            "/usr/local/lib/python3.6/dist-packages/lightgbm/engine.py:430: UserWarning: Found `num_iterations` in params. Will use it instead of argument\n",
            "  warnings.warn(\"Found `{}` in params. Will use it instead of argument\".format(alias))\n",
            "/usr/local/lib/python3.6/dist-packages/lightgbm/engine.py:435: UserWarning: Found `early_stopping_round` in params. Will use it instead of argument\n",
            "  warnings.warn(\"Found `{}` in params. Will use it instead of argument\".format(alias))\n"
          ],
          "name": "stderr"
        },
        {
          "output_type": "stream",
          "text": [
            "| \u001b[0m 38      \u001b[0m | \u001b[0m 0.8409  \u001b[0m | \u001b[0m 0.9656  \u001b[0m | \u001b[0m 0.2146  \u001b[0m | \u001b[0m 4.199   \u001b[0m | \u001b[0m 2.081   \u001b[0m | \u001b[0m 0.2314  \u001b[0m | \u001b[0m 11.89   \u001b[0m | \u001b[0m 12.85   \u001b[0m | \u001b[0m 0.01187 \u001b[0m | \u001b[0m 198.8   \u001b[0m | \u001b[0m 25.63   \u001b[0m |\n"
          ],
          "name": "stdout"
        },
        {
          "output_type": "stream",
          "text": [
            "/usr/local/lib/python3.6/dist-packages/lightgbm/engine.py:430: UserWarning: Found `num_iterations` in params. Will use it instead of argument\n",
            "  warnings.warn(\"Found `{}` in params. Will use it instead of argument\".format(alias))\n",
            "/usr/local/lib/python3.6/dist-packages/lightgbm/engine.py:435: UserWarning: Found `early_stopping_round` in params. Will use it instead of argument\n",
            "  warnings.warn(\"Found `{}` in params. Will use it instead of argument\".format(alias))\n"
          ],
          "name": "stderr"
        },
        {
          "output_type": "stream",
          "text": [
            "| \u001b[0m 39      \u001b[0m | \u001b[0m 0.8416  \u001b[0m | \u001b[0m 0.5585  \u001b[0m | \u001b[0m 0.5624  \u001b[0m | \u001b[0m 4.993   \u001b[0m | \u001b[0m 1.963   \u001b[0m | \u001b[0m 0.08126 \u001b[0m | \u001b[0m 10.88   \u001b[0m | \u001b[0m 44.9    \u001b[0m | \u001b[0m 0.07138 \u001b[0m | \u001b[0m 594.1   \u001b[0m | \u001b[0m 43.56   \u001b[0m |\n"
          ],
          "name": "stdout"
        },
        {
          "output_type": "stream",
          "text": [
            "/usr/local/lib/python3.6/dist-packages/lightgbm/engine.py:430: UserWarning: Found `num_iterations` in params. Will use it instead of argument\n",
            "  warnings.warn(\"Found `{}` in params. Will use it instead of argument\".format(alias))\n",
            "/usr/local/lib/python3.6/dist-packages/lightgbm/engine.py:435: UserWarning: Found `early_stopping_round` in params. Will use it instead of argument\n",
            "  warnings.warn(\"Found `{}` in params. Will use it instead of argument\".format(alias))\n"
          ],
          "name": "stderr"
        },
        {
          "output_type": "stream",
          "text": [
            "| \u001b[0m 40      \u001b[0m | \u001b[0m 0.8395  \u001b[0m | \u001b[0m 0.9432  \u001b[0m | \u001b[0m 0.3968  \u001b[0m | \u001b[0m 3.97    \u001b[0m | \u001b[0m 1.24    \u001b[0m | \u001b[0m 0.6823  \u001b[0m | \u001b[0m 6.649   \u001b[0m | \u001b[0m 49.93   \u001b[0m | \u001b[0m 0.02249 \u001b[0m | \u001b[0m 982.6   \u001b[0m | \u001b[0m 44.23   \u001b[0m |\n",
            "=================================================================================================================================================\n"
          ],
          "name": "stdout"
        }
      ]
    },
    {
      "cell_type": "code",
      "metadata": {
        "id": "4Hgi41jRdohR",
        "colab_type": "code",
        "colab": {
          "base_uri": "https://localhost:8080/",
          "height": 173
        },
        "outputId": "8bf5b03b-cf0a-4611-8c4a-1117eea403a5"
      },
      "source": [
        "# h_best, etc --> is_unbalance = False\n",
        "# h_best2, etc --> is_unbalance = True \n",
        "\n",
        "s_best"
      ],
      "execution_count": null,
      "outputs": [
        {
          "output_type": "execute_result",
          "data": {
            "text/plain": [
              "{'params': {'bagging_fraction': 0.8256852405426329,\n",
              "  'feature_fraction': 0.4659199701154856,\n",
              "  'lambda_l1': 1.3324476049641216,\n",
              "  'lambda_l2': 2.828773432360044,\n",
              "  'max_depth': 5.545409025492388,\n",
              "  'min_child_weight': 5.2599158373575845,\n",
              "  'min_split_gain': 0.01445070766280266,\n",
              "  'num_leaves': 24.451808603241865},\n",
              " 'target': 0.8424194790311758}"
            ]
          },
          "metadata": {
            "tags": []
          },
          "execution_count": 68
        }
      ]
    }
  ]
}